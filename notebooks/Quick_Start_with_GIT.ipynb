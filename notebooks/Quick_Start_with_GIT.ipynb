{
 "cells": [
  {
   "cell_type": "markdown",
   "metadata": {},
   "source": [
    "# Quick Start with GIT in Colab"
   ]
  },
  {
   "cell_type": "code",
   "execution_count": null,
   "metadata": {},
   "outputs": [],
   "source": [
    "!pip install -i \"https://test.pypi.org/simple/\" git_cluster > /dev/null \n",
    "!pip install -U gdown > /dev/null\n",
    "!gdown 1yNwCStP3Sdf2lfvNe9h0WIZw2OQ3O2UP && unzip datasets.zip > /dev/null"
   ]
  },
  {
   "cell_type": "code",
   "execution_count": null,
   "metadata": {},
   "outputs": [],
   "source": [
    "from git_cluster import GIT\n",
    "from utils import matchY, measures_calculator, autoPlot\n",
    "from dataloaders import Toy_DataLoader as Toy_DataLoader\n",
    "from dataloaders import Real_DataLoader as Real_DataLoader"
   ]
  },
  {
   "cell_type": "markdown",
   "metadata": {
    "heading_collapsed": true,
    "hidden": true
   },
   "source": [
    "## circles"
   ]
  },
  {
   "cell_type": "code",
   "execution_count": null,
   "metadata": {
    "hidden": true
   },
   "outputs": [],
   "source": [
    "X,Y_true = Toy_DataLoader(name='circles', \n",
    "                          path=\"/content/datasets/toy_datasets\").load()\n",
    "\n",
    "Y_pred = GIT(k=12).fit_predict(X)\n",
    "autoPlot(X, Y_pred)\n",
    "\n",
    "Y_pred, Y_true = matchY(Y_pred, Y_true)\n",
    "\n",
    "result = measures_calculator(Y_true, Y_pred)\n",
    "result"
   ]
  },
  {
   "cell_type": "markdown",
   "metadata": {
    "hidden": true
   },
   "source": [
    "## moons"
   ]
  },
  {
   "cell_type": "code",
   "execution_count": null,
   "metadata": {
    "hidden": true
   },
   "outputs": [],
   "source": [
    "X, Y_true = Toy_DataLoader(name='moons', \n",
    "                           path=\"/content/datasets/toy_datasets\").load()\n",
    "\n",
    "Y_pred = GIT(k=30).fit_predict(X)\n",
    "autoPlot(X, Y_pred)\n",
    "\n",
    "Y_pred,Y_true = matchY(Y_pred, Y_true)\n",
    "\n",
    "result = measures_calculator(Y_true, Y_pred)\n",
    "result"
   ]
  },
  {
   "cell_type": "markdown",
   "metadata": {
    "hidden": true
   },
   "source": [
    "## s-set"
   ]
  },
  {
   "cell_type": "code",
   "execution_count": null,
   "metadata": {
    "hidden": true
   },
   "outputs": [],
   "source": [
    "X, Y_true = Toy_DataLoader(name='s-set', \n",
    "                           path=\"/content/datasets/toy_datasets\").load()\n",
    "\n",
    "Y_pred = GIT(k=10,target_ratio=[1 for i in range(15)]).fit_predict(X)\n",
    "\n",
    "autoPlot(X, Y_pred)\n",
    "Y_pred, Y_true = matchY(Y_pred, Y_true)\n",
    "\n",
    "result = measures_calculator(Y_true, Y_pred)\n",
    "result"
   ]
  },
  {
   "cell_type": "markdown",
   "metadata": {
    "hidden": true
   },
   "source": [
    "## smile"
   ]
  },
  {
   "cell_type": "code",
   "execution_count": null,
   "metadata": {
    "hidden": true
   },
   "outputs": [],
   "source": [
    "X, Y_true = Toy_DataLoader(name='smile', \n",
    "                           path=\"/content/datasets/toy_datasets\").load()\n",
    "\n",
    "Y_pred = GIT(k=20).fit_predict(X)\n",
    "\n",
    "autoPlot(X, Y_pred)\n",
    "Y_pred, Y_true = matchY(Y_pred, Y_true)\n",
    "\n",
    "result = measures_calculator(Y_true, Y_pred)\n",
    "result"
   ]
  },
  {
   "cell_type": "markdown",
   "metadata": {},
   "source": [
    "## Iris Dataset"
   ]
  },
  {
   "cell_type": "code",
   "execution_count": null,
   "metadata": {},
   "outputs": [],
   "source": [
    "X, Y_true = Real_DataLoader(name='iris', path=\"../datasets/real_datasets\").load()\n",
    "\n",
    "Y_pred = GIT(k=15, \n",
    "             target_ratio=[ 1., 1,1]).fit_predict(X)\n",
    "\n",
    "Y_pred,Y_true = matchY(Y_pred, Y_true)\n",
    "result = measures_calculator(Y_true, Y_pred)\n",
    "result"
   ]
  }
 ],
 "metadata": {
  "kernelspec": {
   "display_name": "Python 3 (ipykernel)",
   "language": "python",
   "name": "python3"
  },
  "language_info": {
   "codemirror_mode": {
    "name": "ipython",
    "version": 3
   },
   "file_extension": ".py",
   "mimetype": "text/x-python",
   "name": "python",
   "nbconvert_exporter": "python",
   "pygments_lexer": "ipython3",
   "version": "3.11.5"
  },
  "latex_envs": {
   "LaTeX_envs_menu_present": true,
   "autoclose": false,
   "autocomplete": true,
   "bibliofile": "biblio.bib",
   "cite_by": "apalike",
   "current_citInitial": 1,
   "eqLabelWithNumbers": true,
   "eqNumInitial": 1,
   "hotkeys": {
    "equation": "Ctrl-E",
    "itemize": "Ctrl-I"
   },
   "labels_anchors": false,
   "latex_user_defs": false,
   "report_style_numbering": false,
   "user_envs_cfg": false
  },
  "toc": {
   "base_numbering": 1,
   "nav_menu": {},
   "number_sections": true,
   "sideBar": true,
   "skip_h1_title": false,
   "title_cell": "Table of Contents",
   "title_sidebar": "Contents",
   "toc_cell": false,
   "toc_position": {},
   "toc_section_display": true,
   "toc_window_display": false
  }
 },
 "nbformat": 4,
 "nbformat_minor": 4
}
