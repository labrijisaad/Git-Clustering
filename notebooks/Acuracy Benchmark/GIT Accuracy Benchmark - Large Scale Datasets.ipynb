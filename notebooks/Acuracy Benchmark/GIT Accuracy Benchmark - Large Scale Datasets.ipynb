{
 "cells": [
  {
   "cell_type": "markdown",
   "id": "c05e4567-3ed7-4780-8d5c-fb309d74ff74",
   "metadata": {},
   "source": [
    "<a href=\"https://colab.research.google.com/github/labrijisaad/Git-Clustering/blob/main/notebooks/Acuracy Benchmark/GIT Accuracy Benchmark - Large Scale Datasets.ipynb\" target=\"_parent\"><img src=\"https://colab.research.google.com/assets/colab-badge.svg\" alt=\"Open In Colab\"/></a>"
   ]
  },
  {
   "cell_type": "markdown",
   "id": "7a3b127f-fab7-4240-8c71-54c06b9ab246",
   "metadata": {},
   "source": [
    "## <center><a><span style=\"color:blue\">`Evaluating GIT` - Accuracy Benchmarking on Large-Scale Datasets</span></a></center>"
   ]
  },
  {
   "cell_type": "markdown",
   "id": "810c50f8-5569-4b11-bcda-1c2d44958e05",
   "metadata": {},
   "source": [
    "#### Objective\n",
    "\n",
    "The goal of this notebook is to benchmark the GIT clustering algorithm against other standard clustering algorithms using four classic **Large-scale datasets** (Face and FMNIST). We aim to evaluate the accuracy and performance of GIT in a controlled, comparative study.\n",
    "\n",
    "In this benchmarking study, we will compare the GIT clustering algorithm with the following clustering techniques:\n",
    "\n",
    "- HDBSCAN (Hierarchical Density-Based Spatial Clustering of Applications with Noise)\n",
    "- Spectral Clustering\n",
    "- K-Means\n",
    "- DBSCAN (Density-Based Spatial Clustering of Applications with Noise)\n",
    "- Agglomerative Clustering\n",
    "- Gaussian Mixture Models (GMM)"
   ]
  },
  {
   "cell_type": "markdown",
   "id": "f9f6ab43-9348-4171-8256-b2be6472bdb9",
   "metadata": {},
   "source": [
    "#### Install the `packages` & Prepare the `data` ( Install this if needed )"
   ]
  },
  {
   "cell_type": "code",
   "execution_count": 1,
   "id": "0ca30eb9-3732-4157-bdf1-c58bc08eaec9",
   "metadata": {},
   "outputs": [],
   "source": [
    "# !pip install -i \"https://test.pypi.org/simple/\" git_cluster > /dev/null \n",
    "# !pip install hdbscan > /dev/null\n",
    "# !pip install -U gdown > /dev/null\n",
    "# !gdown 1yNwCStP3Sdf2lfvNe9h0WIZw2OQ3O2UP && unzip datasets.zip > /dev/null"
   ]
  },
  {
   "cell_type": "markdown",
   "id": "266e2a31-9dd0-4641-ab06-9a768c897910",
   "metadata": {},
   "source": [
    "#### Import the Libraries"
   ]
  },
  {
   "cell_type": "code",
   "execution_count": 2,
   "id": "e955175c-5c89-46fa-bd63-b64fd6378d72",
   "metadata": {},
   "outputs": [],
   "source": [
    "import warnings ; warnings.filterwarnings('ignore')\n",
    "import matplotlib.pyplot as plt\n",
    "import pandas as pd\n",
    "import numpy as np\n",
    "import time\n",
    "\n",
    "from utils import measures_calculator, alignPredictedWithTrueLabels\n",
    "from dataloaders import Real_DataLoader as Real_DataLoader\n",
    "\n",
    "# Data Path (TO REPLACE in COLAB with \"/content/datasets/real_datasets\")\n",
    "real_datasets_path = \"../../datasets/real_datasets\""
   ]
  },
  {
   "cell_type": "markdown",
   "id": "95e818b6-4524-45de-86c6-de1366ca55e3",
   "metadata": {},
   "source": [
    "#### Note on **Clustering Performance Metrics**\n",
    "\n",
    "##### F1 Score - **`F1`**\n",
    "The F1 Score represents the harmonic mean of precision and recall. When applied to clustering, it assesses the correspondence between clusters and ground truth labels. It ranges from 0 to 1, with 1 indicating perfect precision and recall alignment.\n",
    "\n",
    "##### Adjusted Rand Index - **`ARI`**\n",
    "The ARI measures the similarity between two sets of data clusters, adjusted for chance. It offers a score that signifies whether the clustering is superior to random assignment. A value of 1 denotes a perfect match, 0 signifies random labeling, and negative values imply less agreement than expected by chance.\n",
    "\n",
    "##### Accuracy - **`ACC`**\n",
    "Accuracy in clustering is typically computed after aligning clusters with ground truth labels. It quantifies the proportion of correct predictions among the total predictions made. However, its utility is contingent upon such alignment, given that clustering doesn't inherently strive to replicate external labels.\n",
    "\n",
    "##### Normalized Mutual Information - **`NMI`**\n",
    "NMI is a modification of the Mutual Information (MI) score that considers cluster sizes and normalizes the score between 0 (no mutual information) and 1 (perfect correlation). It gauges the shared information between predicted clusters and true labels.\n",
    "\n",
    "##### Cover Rate - **`Cover Rate`**\n",
    "Cover rate usually indicates how effectively the clustering algorithm encompasses the dataset with its clusters. A cover rate of 1 indicates that each data point has been assigned to a cluster, while a value less than 1 suggests some data points remain unassigned.\n",
    "\n",
    "##### Silhouette Score - **`Silhouette`** \n",
    "The Silhouette Score assesses cluster separation and cohesion, ranging from -1 (poor clustering) to 1 (clear, distinct clusters). It helps evaluate clustering quality without needing true labels."
   ]
  },
  {
   "cell_type": "markdown",
   "id": "73d75d1b-239c-4e18-b486-1e41eeb22efe",
   "metadata": {},
   "source": [
    "## <center><a><span style=\"color:green\">Real Datasets - `Face`</span></a></center>"
   ]
  },
  {
   "cell_type": "markdown",
   "id": "05c7f8fd-84b3-4091-803c-6a379ca024be",
   "metadata": {},
   "source": [
    "### Load the Face data"
   ]
  },
  {
   "cell_type": "code",
   "execution_count": 3,
   "id": "3dddeab0-3633-469a-9825-0942539064d2",
   "metadata": {},
   "outputs": [
    {
     "name": "stdout",
     "output_type": "stream",
     "text": [
      "The 'face' Dataset has: 40 Clusters, 4096 Features, and 400 Total Rows.\n"
     ]
    }
   ],
   "source": [
    "X_face, Y_face_true = Real_DataLoader(name='face', path=real_datasets_path).load()\n",
    "\n",
    "# Calculate key dataset characteristics\n",
    "num_clusters = len(np.unique(Y_face_true))\n",
    "num_features = len(X_face[0])\n",
    "total_rows = len(X_face)\n",
    "\n",
    "# Print out the dataset characteristics\n",
    "print(f\"The 'face' Dataset has: {num_clusters} Clusters, {num_features} Features, and {total_rows} Total Rows.\")"
   ]
  },
  {
   "cell_type": "markdown",
   "id": "a7b62f00-6741-4d75-85f7-ac6eda2decea",
   "metadata": {},
   "source": [
    "### <span style=\"color:red\">GIT Clustring</span> <a class=\"anchor\"></a>"
   ]
  },
  {
   "cell_type": "code",
   "execution_count": 4,
   "id": "53bbd605-7d4f-4b28-8e63-2b84638d9e8f",
   "metadata": {},
   "outputs": [],
   "source": [
    "from git_cluster import GIT"
   ]
  },
  {
   "cell_type": "code",
   "execution_count": 5,
   "id": "7c1b8368-4a1f-43e6-a183-ca9245581720",
   "metadata": {},
   "outputs": [
    {
     "data": {
      "text/html": [
       "<div>\n",
       "<style scoped>\n",
       "    .dataframe tbody tr th:only-of-type {\n",
       "        vertical-align: middle;\n",
       "    }\n",
       "\n",
       "    .dataframe tbody tr th {\n",
       "        vertical-align: top;\n",
       "    }\n",
       "\n",
       "    .dataframe thead th {\n",
       "        text-align: right;\n",
       "    }\n",
       "</style>\n",
       "<table border=\"1\" class=\"dataframe\">\n",
       "  <thead>\n",
       "    <tr style=\"text-align: right;\">\n",
       "      <th></th>\n",
       "      <th>f1</th>\n",
       "      <th>ARI</th>\n",
       "      <th>ACC</th>\n",
       "      <th>NMI</th>\n",
       "      <th>Silhouette</th>\n",
       "      <th>cover_rate</th>\n",
       "      <th>classes</th>\n",
       "      <th>Algo</th>\n",
       "      <th>dataset</th>\n",
       "      <th>TotalProcessingTime</th>\n",
       "    </tr>\n",
       "  </thead>\n",
       "  <tbody>\n",
       "    <tr>\n",
       "      <th>0</th>\n",
       "      <td>0.619206</td>\n",
       "      <td>0.446851</td>\n",
       "      <td>0.625</td>\n",
       "      <td>0.778978</td>\n",
       "      <td>0.105574</td>\n",
       "      <td>1.0</td>\n",
       "      <td>40</td>\n",
       "      <td>GIT</td>\n",
       "      <td>face</td>\n",
       "      <td>2.242435</td>\n",
       "    </tr>\n",
       "  </tbody>\n",
       "</table>\n",
       "</div>"
      ],
      "text/plain": [
       "         f1       ARI    ACC       NMI  Silhouette  cover_rate  classes Algo  \\\n",
       "0  0.619206  0.446851  0.625  0.778978    0.105574         1.0       40  GIT   \n",
       "\n",
       "  dataset  TotalProcessingTime  \n",
       "0    face             2.242435  "
      ]
     },
     "execution_count": 5,
     "metadata": {},
     "output_type": "execute_result"
    }
   ],
   "source": [
    "# Start the timer\n",
    "start_time = time.time()\n",
    "\n",
    "# Create an instance of the GIT clustering\n",
    "git = GIT(k=3, target_ratio=[1 for i in range(40)])\n",
    "\n",
    "# Apply the GIT algorithm to predict the clusters in the data\n",
    "Y_face_pred_git = git.fit_predict(X_face)\n",
    "\n",
    "# Stop the timer and calculate the total processing time\n",
    "end_time = time.time()\n",
    "processing_time = end_time - start_time\n",
    "\n",
    "# Align the predicted labels with the true labels for accurate evaluation\n",
    "Y_face_pred_git, Y_face_true = alignPredictedWithTrueLabels(Y_face_pred_git, Y_face_true)\n",
    "\n",
    "# Calculate various clustering metrics to evaluate the performance\n",
    "perf_metrics_git_face = measures_calculator(X_face, Y_face_pred_git, Y_face_true)\n",
    "\n",
    "# Store additional information about the algorithm and dataset in the result\n",
    "perf_metrics_git_face[\"Algo\"] = git.__class__.__name__\n",
    "perf_metrics_git_face[\"dataset\"] = \"face\"\n",
    "perf_metrics_git_face[\"TotalProcessingTime\"] = processing_time\n",
    "\n",
    "perf_metrics_git_face"
   ]
  },
  {
   "cell_type": "markdown",
   "id": "9a669e14-7e97-440c-a9d6-1d411a0c2338",
   "metadata": {},
   "source": [
    "### <span style=\"color:red\">HDBSCAN</span> <a class=\"anchor\"></a>"
   ]
  },
  {
   "cell_type": "code",
   "execution_count": 6,
   "id": "5a59565e-a299-488e-8749-2081baec27fd",
   "metadata": {},
   "outputs": [],
   "source": [
    "import hdbscan"
   ]
  },
  {
   "cell_type": "code",
   "execution_count": 7,
   "id": "3ef2113b-11b9-4ce4-8629-db2705bf3dcd",
   "metadata": {},
   "outputs": [
    {
     "data": {
      "text/html": [
       "<div>\n",
       "<style scoped>\n",
       "    .dataframe tbody tr th:only-of-type {\n",
       "        vertical-align: middle;\n",
       "    }\n",
       "\n",
       "    .dataframe tbody tr th {\n",
       "        vertical-align: top;\n",
       "    }\n",
       "\n",
       "    .dataframe thead th {\n",
       "        text-align: right;\n",
       "    }\n",
       "</style>\n",
       "<table border=\"1\" class=\"dataframe\">\n",
       "  <thead>\n",
       "    <tr style=\"text-align: right;\">\n",
       "      <th></th>\n",
       "      <th>f1</th>\n",
       "      <th>ARI</th>\n",
       "      <th>ACC</th>\n",
       "      <th>NMI</th>\n",
       "      <th>Silhouette</th>\n",
       "      <th>cover_rate</th>\n",
       "      <th>classes</th>\n",
       "      <th>Algo</th>\n",
       "      <th>dataset</th>\n",
       "      <th>TotalProcessingTime</th>\n",
       "    </tr>\n",
       "  </thead>\n",
       "  <tbody>\n",
       "    <tr>\n",
       "      <th>0</th>\n",
       "      <td>0.069682</td>\n",
       "      <td>0.016433</td>\n",
       "      <td>0.0475</td>\n",
       "      <td>0.187941</td>\n",
       "      <td>0.105574</td>\n",
       "      <td>1.0</td>\n",
       "      <td>40</td>\n",
       "      <td>HDBSCAN</td>\n",
       "      <td>face</td>\n",
       "      <td>2.045822</td>\n",
       "    </tr>\n",
       "  </tbody>\n",
       "</table>\n",
       "</div>"
      ],
      "text/plain": [
       "         f1       ARI     ACC       NMI  Silhouette  cover_rate  classes  \\\n",
       "0  0.069682  0.016433  0.0475  0.187941    0.105574         1.0       40   \n",
       "\n",
       "      Algo dataset  TotalProcessingTime  \n",
       "0  HDBSCAN    face             2.045822  "
      ]
     },
     "execution_count": 7,
     "metadata": {},
     "output_type": "execute_result"
    }
   ],
   "source": [
    "# Start the timer\n",
    "start_time = time.time()\n",
    "\n",
    "# Create an instance of the HDBSCAN clustering\n",
    "hdbscan = hdbscan.HDBSCAN(min_cluster_size=2, min_samples=5)\n",
    "\n",
    "# Apply the HDBSCAN algorithm to predict the clusters in the data\n",
    "hdbscan.fit(X_face)\n",
    "\n",
    "# Get the predicted Clusters\n",
    "Y_face_pred_hdbscan = hdbscan.labels_\n",
    "\n",
    "# Stop the timer and calculate the total processing time\n",
    "end_time = time.time()\n",
    "processing_time = end_time - start_time\n",
    "\n",
    "# Align the predicted labels with the true labels for accurate evaluation\n",
    "Y_face_pred_hdbscan, Y_face_true = alignPredictedWithTrueLabels(Y_face_pred_hdbscan, Y_face_true)\n",
    "\n",
    "# Calculate various clustering metrics to evaluate the performance\n",
    "perf_metrics_hdbscan_face = measures_calculator(X_face, Y_face_pred_hdbscan, Y_face_true)\n",
    "\n",
    "# Store additional information about the algorithm and dataset in the result\n",
    "perf_metrics_hdbscan_face[\"Algo\"] = hdbscan.__class__.__name__\n",
    "perf_metrics_hdbscan_face[\"dataset\"] = \"face\"\n",
    "perf_metrics_hdbscan_face[\"TotalProcessingTime\"] = processing_time\n",
    "\n",
    "perf_metrics_hdbscan_face"
   ]
  },
  {
   "cell_type": "markdown",
   "id": "71d30a82-42da-40e6-8cb3-8b89284738ab",
   "metadata": {},
   "source": [
    "### <span style=\"color:red\">Spectral Clustering</span> <a class=\"anchor\"></a>"
   ]
  },
  {
   "cell_type": "code",
   "execution_count": 8,
   "id": "9cbec0ca-3567-486b-bf28-b111a0582f02",
   "metadata": {},
   "outputs": [],
   "source": [
    "from sklearn.cluster import SpectralClustering"
   ]
  },
  {
   "cell_type": "code",
   "execution_count": 9,
   "id": "317f779a-588b-40b7-9c62-538377aca288",
   "metadata": {},
   "outputs": [
    {
     "data": {
      "text/html": [
       "<div>\n",
       "<style scoped>\n",
       "    .dataframe tbody tr th:only-of-type {\n",
       "        vertical-align: middle;\n",
       "    }\n",
       "\n",
       "    .dataframe tbody tr th {\n",
       "        vertical-align: top;\n",
       "    }\n",
       "\n",
       "    .dataframe thead th {\n",
       "        text-align: right;\n",
       "    }\n",
       "</style>\n",
       "<table border=\"1\" class=\"dataframe\">\n",
       "  <thead>\n",
       "    <tr style=\"text-align: right;\">\n",
       "      <th></th>\n",
       "      <th>f1</th>\n",
       "      <th>ARI</th>\n",
       "      <th>ACC</th>\n",
       "      <th>NMI</th>\n",
       "      <th>Silhouette</th>\n",
       "      <th>cover_rate</th>\n",
       "      <th>classes</th>\n",
       "      <th>Algo</th>\n",
       "      <th>dataset</th>\n",
       "      <th>TotalProcessingTime</th>\n",
       "    </tr>\n",
       "  </thead>\n",
       "  <tbody>\n",
       "    <tr>\n",
       "      <th>0</th>\n",
       "      <td>0.445543</td>\n",
       "      <td>0.216986</td>\n",
       "      <td>0.4075</td>\n",
       "      <td>0.665879</td>\n",
       "      <td>0.105574</td>\n",
       "      <td>1.0</td>\n",
       "      <td>40</td>\n",
       "      <td>SpectralClustering</td>\n",
       "      <td>face</td>\n",
       "      <td>5.00937</td>\n",
       "    </tr>\n",
       "  </tbody>\n",
       "</table>\n",
       "</div>"
      ],
      "text/plain": [
       "         f1       ARI     ACC       NMI  Silhouette  cover_rate  classes  \\\n",
       "0  0.445543  0.216986  0.4075  0.665879    0.105574         1.0       40   \n",
       "\n",
       "                 Algo dataset  TotalProcessingTime  \n",
       "0  SpectralClustering    face              5.00937  "
      ]
     },
     "execution_count": 9,
     "metadata": {},
     "output_type": "execute_result"
    }
   ],
   "source": [
    "# Start the timer\n",
    "start_time = time.time()\n",
    "\n",
    "# Create an instance of the Spectral Clustering algorithm \n",
    "spectral_clustering = SpectralClustering(n_clusters=40, assign_labels=\"discretize\", \n",
    "                                         random_state=0, affinity='rbf')\n",
    "\n",
    "# Apply the Spectral Clustering algorithm to predict the clusters in the data\n",
    "spectral_clustering.fit(X_face)\n",
    "\n",
    "# Get the predicted Clusters\n",
    "Y_face_pred_speclustr = spectral_clustering.labels_\n",
    "\n",
    "# Stop the timer and calculate the total processing time\n",
    "end_time = time.time()\n",
    "processing_time = end_time - start_time\n",
    "\n",
    "# Align the predicted labels with the true labels for accurate evaluation\n",
    "Y_face_pred_speclustr, Y_face_true = alignPredictedWithTrueLabels(Y_face_pred_speclustr, Y_face_true)\n",
    "\n",
    "# Calculate various clustering metrics to evaluate the performance\n",
    "perf_metrics_speclustr_face = measures_calculator(X_face, Y_face_pred_speclustr, Y_face_true)\n",
    "\n",
    "# Store additional information about the algorithm and dataset in the result\n",
    "perf_metrics_speclustr_face[\"Algo\"] = spectral_clustering.__class__.__name__\n",
    "perf_metrics_speclustr_face[\"dataset\"] = \"face\"\n",
    "perf_metrics_speclustr_face[\"TotalProcessingTime\"] = processing_time\n",
    "\n",
    "perf_metrics_speclustr_face"
   ]
  },
  {
   "cell_type": "markdown",
   "id": "6f727c26-bd24-4649-be2d-11048b10d16a",
   "metadata": {},
   "source": [
    "### <span style=\"color:red\">K-Means</span> <a class=\"anchor\"></a>"
   ]
  },
  {
   "cell_type": "code",
   "execution_count": 10,
   "id": "44f3c246-cea0-4cd3-9746-b2ee8f371d92",
   "metadata": {},
   "outputs": [],
   "source": [
    "from sklearn.cluster import KMeans"
   ]
  },
  {
   "cell_type": "code",
   "execution_count": 11,
   "id": "bc6142d4-9eba-4432-ac9a-21e7bed57b4a",
   "metadata": {},
   "outputs": [
    {
     "data": {
      "text/html": [
       "<div>\n",
       "<style scoped>\n",
       "    .dataframe tbody tr th:only-of-type {\n",
       "        vertical-align: middle;\n",
       "    }\n",
       "\n",
       "    .dataframe tbody tr th {\n",
       "        vertical-align: top;\n",
       "    }\n",
       "\n",
       "    .dataframe thead th {\n",
       "        text-align: right;\n",
       "    }\n",
       "</style>\n",
       "<table border=\"1\" class=\"dataframe\">\n",
       "  <thead>\n",
       "    <tr style=\"text-align: right;\">\n",
       "      <th></th>\n",
       "      <th>f1</th>\n",
       "      <th>ARI</th>\n",
       "      <th>ACC</th>\n",
       "      <th>NMI</th>\n",
       "      <th>Silhouette</th>\n",
       "      <th>cover_rate</th>\n",
       "      <th>classes</th>\n",
       "      <th>Algo</th>\n",
       "      <th>dataset</th>\n",
       "      <th>TotalProcessingTime</th>\n",
       "    </tr>\n",
       "  </thead>\n",
       "  <tbody>\n",
       "    <tr>\n",
       "      <th>0</th>\n",
       "      <td>0.582355</td>\n",
       "      <td>0.404255</td>\n",
       "      <td>0.575</td>\n",
       "      <td>0.753367</td>\n",
       "      <td>0.105574</td>\n",
       "      <td>1.0</td>\n",
       "      <td>40</td>\n",
       "      <td>KMeans</td>\n",
       "      <td>face</td>\n",
       "      <td>0.640716</td>\n",
       "    </tr>\n",
       "  </tbody>\n",
       "</table>\n",
       "</div>"
      ],
      "text/plain": [
       "         f1       ARI    ACC       NMI  Silhouette  cover_rate  classes  \\\n",
       "0  0.582355  0.404255  0.575  0.753367    0.105574         1.0       40   \n",
       "\n",
       "     Algo dataset  TotalProcessingTime  \n",
       "0  KMeans    face             0.640716  "
      ]
     },
     "execution_count": 11,
     "metadata": {},
     "output_type": "execute_result"
    }
   ],
   "source": [
    "# Start the timer\n",
    "start_time = time.time()\n",
    "\n",
    "# Create an instance of the K-means algorithm \n",
    "kmeans = KMeans(n_clusters=40, random_state=0)\n",
    "\n",
    "# Apply the K-means algorithm to predict the clusters in the data\n",
    "kmeans.fit(X_face)\n",
    "\n",
    "# Get the predicted Clusters\n",
    "Y_face_pred_kmeans = kmeans.labels_\n",
    "\n",
    "# Stop the timer and calculate the total processing time\n",
    "end_time = time.time()\n",
    "processing_time = end_time - start_time\n",
    "\n",
    "# Align the predicted labels with the true labels for accurate evaluation\n",
    "Y_face_pred_kmeans, Y_face_true = alignPredictedWithTrueLabels(Y_face_pred_kmeans, Y_face_true)\n",
    "\n",
    "# Calculate various clustering metrics to evaluate the performance\n",
    "perf_metrics_kmeans_face = measures_calculator(X_face, Y_face_pred_kmeans, Y_face_true)\n",
    "\n",
    "# Store additional information about the algorithm and dataset in the result\n",
    "perf_metrics_kmeans_face[\"Algo\"] = kmeans.__class__.__name__\n",
    "perf_metrics_kmeans_face[\"dataset\"] = \"face\"\n",
    "perf_metrics_kmeans_face[\"TotalProcessingTime\"] = processing_time\n",
    "\n",
    "perf_metrics_kmeans_face"
   ]
  },
  {
   "cell_type": "markdown",
   "id": "af7cb5fe-6443-442e-aff4-b9d2b5d808f2",
   "metadata": {},
   "source": [
    "### <span style=\"color:red\">DBSCAN</span> <a class=\"anchor\"></a>"
   ]
  },
  {
   "cell_type": "code",
   "execution_count": 12,
   "id": "2e35f4f1-87a6-44e3-adc1-3023f87ab790",
   "metadata": {},
   "outputs": [],
   "source": [
    "from sklearn.cluster import DBSCAN"
   ]
  },
  {
   "cell_type": "code",
   "execution_count": 13,
   "id": "3df0b9a7-d2f3-40bf-9041-2bde80037238",
   "metadata": {},
   "outputs": [
    {
     "data": {
      "text/html": [
       "<div>\n",
       "<style scoped>\n",
       "    .dataframe tbody tr th:only-of-type {\n",
       "        vertical-align: middle;\n",
       "    }\n",
       "\n",
       "    .dataframe tbody tr th {\n",
       "        vertical-align: top;\n",
       "    }\n",
       "\n",
       "    .dataframe thead th {\n",
       "        text-align: right;\n",
       "    }\n",
       "</style>\n",
       "<table border=\"1\" class=\"dataframe\">\n",
       "  <thead>\n",
       "    <tr style=\"text-align: right;\">\n",
       "      <th></th>\n",
       "      <th>f1</th>\n",
       "      <th>ARI</th>\n",
       "      <th>ACC</th>\n",
       "      <th>NMI</th>\n",
       "      <th>Silhouette</th>\n",
       "      <th>cover_rate</th>\n",
       "      <th>classes</th>\n",
       "      <th>Algo</th>\n",
       "      <th>dataset</th>\n",
       "      <th>TotalProcessingTime</th>\n",
       "    </tr>\n",
       "  </thead>\n",
       "  <tbody>\n",
       "    <tr>\n",
       "      <th>0</th>\n",
       "      <td>0.047899</td>\n",
       "      <td>0.022714</td>\n",
       "      <td>0.025</td>\n",
       "      <td>0.166917</td>\n",
       "      <td>0.105574</td>\n",
       "      <td>1.0</td>\n",
       "      <td>40</td>\n",
       "      <td>DBSCAN</td>\n",
       "      <td>face</td>\n",
       "      <td>0.083347</td>\n",
       "    </tr>\n",
       "  </tbody>\n",
       "</table>\n",
       "</div>"
      ],
      "text/plain": [
       "         f1       ARI    ACC       NMI  Silhouette  cover_rate  classes  \\\n",
       "0  0.047899  0.022714  0.025  0.166917    0.105574         1.0       40   \n",
       "\n",
       "     Algo dataset  TotalProcessingTime  \n",
       "0  DBSCAN    face             0.083347  "
      ]
     },
     "execution_count": 13,
     "metadata": {},
     "output_type": "execute_result"
    }
   ],
   "source": [
    "# Start the timer\n",
    "start_time = time.time()\n",
    "\n",
    "# Create an instance of the DBSCAN algorithm\n",
    "dbscan = DBSCAN(eps=9, min_samples=80)\n",
    "\n",
    "# Apply the DBSCAN algorithm to predict the clusters in the data\n",
    "Y_face_pred_dbscan = dbscan.fit_predict(X_face)\n",
    "\n",
    "# Stop the timer and calculate the total processing time\n",
    "end_time = time.time()\n",
    "processing_time = end_time - start_time\n",
    "\n",
    "# Align the predicted labels with the true labels for accurate evaluation\n",
    "Y_face_pred_dbscan, Y_face_true = alignPredictedWithTrueLabels(Y_face_pred_dbscan, Y_face_true)\n",
    "\n",
    "# Calculate various clustering metrics to evaluate the performance\n",
    "perf_metrics_dbscan_face = measures_calculator(X_face, Y_face_pred_dbscan, Y_face_true)\n",
    "\n",
    "# Store additional information about the algorithm and dataset in the result\n",
    "perf_metrics_dbscan_face[\"Algo\"] = dbscan.__class__.__name__\n",
    "perf_metrics_dbscan_face[\"dataset\"] = \"face\"\n",
    "perf_metrics_dbscan_face[\"TotalProcessingTime\"] = processing_time\n",
    "\n",
    "perf_metrics_dbscan_face"
   ]
  },
  {
   "cell_type": "markdown",
   "id": "b73de449-a24a-4930-ad7f-2283cf918729",
   "metadata": {},
   "source": [
    "### <span style=\"color:red\">Agglomerative Clustering</span> <a class=\"anchor\"></a>"
   ]
  },
  {
   "cell_type": "code",
   "execution_count": 14,
   "id": "e44cdd57-8071-4376-9397-8ca3a7196f7b",
   "metadata": {},
   "outputs": [],
   "source": [
    "from sklearn.cluster import AgglomerativeClustering"
   ]
  },
  {
   "cell_type": "code",
   "execution_count": 15,
   "id": "79625145-fe54-425c-9efd-132526df75e8",
   "metadata": {},
   "outputs": [
    {
     "data": {
      "text/html": [
       "<div>\n",
       "<style scoped>\n",
       "    .dataframe tbody tr th:only-of-type {\n",
       "        vertical-align: middle;\n",
       "    }\n",
       "\n",
       "    .dataframe tbody tr th {\n",
       "        vertical-align: top;\n",
       "    }\n",
       "\n",
       "    .dataframe thead th {\n",
       "        text-align: right;\n",
       "    }\n",
       "</style>\n",
       "<table border=\"1\" class=\"dataframe\">\n",
       "  <thead>\n",
       "    <tr style=\"text-align: right;\">\n",
       "      <th></th>\n",
       "      <th>f1</th>\n",
       "      <th>ARI</th>\n",
       "      <th>ACC</th>\n",
       "      <th>NMI</th>\n",
       "      <th>Silhouette</th>\n",
       "      <th>cover_rate</th>\n",
       "      <th>classes</th>\n",
       "      <th>Algo</th>\n",
       "      <th>dataset</th>\n",
       "      <th>TotalProcessingTime</th>\n",
       "    </tr>\n",
       "  </thead>\n",
       "  <tbody>\n",
       "    <tr>\n",
       "      <th>0</th>\n",
       "      <td>0.64566</td>\n",
       "      <td>0.470418</td>\n",
       "      <td>0.63</td>\n",
       "      <td>0.798782</td>\n",
       "      <td>0.105574</td>\n",
       "      <td>1.0</td>\n",
       "      <td>40</td>\n",
       "      <td>AgglomerativeClustering</td>\n",
       "      <td>face</td>\n",
       "      <td>0.308212</td>\n",
       "    </tr>\n",
       "  </tbody>\n",
       "</table>\n",
       "</div>"
      ],
      "text/plain": [
       "        f1       ARI   ACC       NMI  Silhouette  cover_rate  classes  \\\n",
       "0  0.64566  0.470418  0.63  0.798782    0.105574         1.0       40   \n",
       "\n",
       "                      Algo dataset  TotalProcessingTime  \n",
       "0  AgglomerativeClustering    face             0.308212  "
      ]
     },
     "execution_count": 15,
     "metadata": {},
     "output_type": "execute_result"
    }
   ],
   "source": [
    "# Start the timer\n",
    "start_time = time.time()\n",
    "\n",
    "# Create an instance of the Agglomerative Clustering algorithm\n",
    "agg_clustering = AgglomerativeClustering(n_clusters=40, linkage='ward')\n",
    "\n",
    "# Apply the Agglomerative Clustering algorithm to predict the clusters in the data\n",
    "Y_face_pred_agg = agg_clustering.fit_predict(X_face)\n",
    "\n",
    "# Stop the timer and calculate the total processing time\n",
    "end_time = time.time()\n",
    "processing_time = end_time - start_time\n",
    "\n",
    "# Align the predicted labels with the true labels for accurate evaluation\n",
    "Y_face_pred_agg, Y_face_true = alignPredictedWithTrueLabels(Y_face_pred_agg, Y_face_true)\n",
    "\n",
    "# Calculate various clustering metrics to evaluate the performance\n",
    "perf_metrics_agg_face = measures_calculator(X_face, Y_face_pred_agg, Y_face_true)\n",
    "\n",
    "# Store additional information about the algorithm and dataset in the result\n",
    "perf_metrics_agg_face[\"Algo\"] = agg_clustering.__class__.__name__\n",
    "perf_metrics_agg_face[\"dataset\"] = \"face\"\n",
    "perf_metrics_agg_face[\"TotalProcessingTime\"] = processing_time\n",
    "\n",
    "perf_metrics_agg_face"
   ]
  },
  {
   "cell_type": "markdown",
   "id": "2bf93f9c-2f57-46ec-bb27-ddbf3dc9a32d",
   "metadata": {},
   "source": [
    "### <span style=\"color:red\">Gaussian Mixture Models (GMM)</span> <a class=\"anchor\"></a>"
   ]
  },
  {
   "cell_type": "code",
   "execution_count": 16,
   "id": "506014c4-3628-4344-9e51-f758b19acd6f",
   "metadata": {},
   "outputs": [],
   "source": [
    "from sklearn.mixture import GaussianMixture"
   ]
  },
  {
   "cell_type": "code",
   "execution_count": 17,
   "id": "31e76748-a66b-4205-b98c-b6b72ed5fc30",
   "metadata": {},
   "outputs": [
    {
     "data": {
      "text/html": [
       "<div>\n",
       "<style scoped>\n",
       "    .dataframe tbody tr th:only-of-type {\n",
       "        vertical-align: middle;\n",
       "    }\n",
       "\n",
       "    .dataframe tbody tr th {\n",
       "        vertical-align: top;\n",
       "    }\n",
       "\n",
       "    .dataframe thead th {\n",
       "        text-align: right;\n",
       "    }\n",
       "</style>\n",
       "<table border=\"1\" class=\"dataframe\">\n",
       "  <thead>\n",
       "    <tr style=\"text-align: right;\">\n",
       "      <th></th>\n",
       "      <th>f1</th>\n",
       "      <th>ARI</th>\n",
       "      <th>ACC</th>\n",
       "      <th>NMI</th>\n",
       "      <th>Silhouette</th>\n",
       "      <th>cover_rate</th>\n",
       "      <th>classes</th>\n",
       "      <th>Algo</th>\n",
       "      <th>dataset</th>\n",
       "      <th>TotalProcessingTime</th>\n",
       "    </tr>\n",
       "  </thead>\n",
       "  <tbody>\n",
       "    <tr>\n",
       "      <th>0</th>\n",
       "      <td>0.582355</td>\n",
       "      <td>0.404255</td>\n",
       "      <td>0.575</td>\n",
       "      <td>0.753367</td>\n",
       "      <td>0.105574</td>\n",
       "      <td>1.0</td>\n",
       "      <td>40</td>\n",
       "      <td>GaussianMixture</td>\n",
       "      <td>face</td>\n",
       "      <td>642.374231</td>\n",
       "    </tr>\n",
       "  </tbody>\n",
       "</table>\n",
       "</div>"
      ],
      "text/plain": [
       "         f1       ARI    ACC       NMI  Silhouette  cover_rate  classes  \\\n",
       "0  0.582355  0.404255  0.575  0.753367    0.105574         1.0       40   \n",
       "\n",
       "              Algo dataset  TotalProcessingTime  \n",
       "0  GaussianMixture    face           642.374231  "
      ]
     },
     "execution_count": 17,
     "metadata": {},
     "output_type": "execute_result"
    }
   ],
   "source": [
    "# Start the timer\n",
    "start_time = time.time()\n",
    "\n",
    "# Create an instance of the Gaussian Mixture Models algorithm\n",
    "gmm = GaussianMixture(n_components=40, random_state=0)\n",
    "\n",
    "# Fit the Gaussian Mixture Models algorithm to the data and predict the clusters\n",
    "gmm.fit(X_face)\n",
    "Y_face_pred_gmm = gmm.predict(X_face)\n",
    "\n",
    "# Stop the timer and calculate the total processing time\n",
    "end_time = time.time()\n",
    "processing_time = end_time - start_time\n",
    "\n",
    "# Align the predicted labels with the true labels for accurate evaluation\n",
    "Y_face_pred_gmm, Y_face_true = alignPredictedWithTrueLabels(Y_face_pred_gmm, Y_face_true)\n",
    "\n",
    "# Calculate various clustering metrics to evaluate the performance\n",
    "perf_metrics_gmm_face = measures_calculator(X_face, Y_face_pred_gmm, Y_face_true)\n",
    "\n",
    "# Store additional information about the algorithm and dataset in the result\n",
    "perf_metrics_gmm_face[\"Algo\"] = gmm.__class__.__name__\n",
    "perf_metrics_gmm_face[\"dataset\"] = \"face\"\n",
    "perf_metrics_gmm_face[\"TotalProcessingTime\"] = processing_time\n",
    "\n",
    "perf_metrics_gmm_face"
   ]
  },
  {
   "cell_type": "markdown",
   "id": "f31f446e-c1e5-439d-9e64-433348749953",
   "metadata": {},
   "source": [
    "### <span style=\"color:blue\">Benchmark Results</span> <a class=\"anchor\"></a>"
   ]
  },
  {
   "cell_type": "code",
   "execution_count": 18,
   "id": "cec69bd5-b327-4aa0-a568-ff1ade2bcbf4",
   "metadata": {},
   "outputs": [
    {
     "data": {
      "text/html": [
       "<div>\n",
       "<style scoped>\n",
       "    .dataframe tbody tr th:only-of-type {\n",
       "        vertical-align: middle;\n",
       "    }\n",
       "\n",
       "    .dataframe tbody tr th {\n",
       "        vertical-align: top;\n",
       "    }\n",
       "\n",
       "    .dataframe thead th {\n",
       "        text-align: right;\n",
       "    }\n",
       "</style>\n",
       "<table border=\"1\" class=\"dataframe\">\n",
       "  <thead>\n",
       "    <tr style=\"text-align: right;\">\n",
       "      <th></th>\n",
       "      <th>f1</th>\n",
       "      <th>ARI</th>\n",
       "      <th>ACC</th>\n",
       "      <th>NMI</th>\n",
       "      <th>Silhouette</th>\n",
       "      <th>cover_rate</th>\n",
       "      <th>classes</th>\n",
       "      <th>Algo</th>\n",
       "      <th>dataset</th>\n",
       "      <th>TotalProcessingTime</th>\n",
       "    </tr>\n",
       "  </thead>\n",
       "  <tbody>\n",
       "    <tr>\n",
       "      <th>0</th>\n",
       "      <td>0.619206</td>\n",
       "      <td>0.446851</td>\n",
       "      <td>0.6250</td>\n",
       "      <td>0.778978</td>\n",
       "      <td>0.105574</td>\n",
       "      <td>1.0</td>\n",
       "      <td>40</td>\n",
       "      <td>GIT</td>\n",
       "      <td>face</td>\n",
       "      <td>2.242435</td>\n",
       "    </tr>\n",
       "    <tr>\n",
       "      <th>1</th>\n",
       "      <td>0.069682</td>\n",
       "      <td>0.016433</td>\n",
       "      <td>0.0475</td>\n",
       "      <td>0.187941</td>\n",
       "      <td>0.105574</td>\n",
       "      <td>1.0</td>\n",
       "      <td>40</td>\n",
       "      <td>HDBSCAN</td>\n",
       "      <td>face</td>\n",
       "      <td>2.045822</td>\n",
       "    </tr>\n",
       "    <tr>\n",
       "      <th>2</th>\n",
       "      <td>0.445543</td>\n",
       "      <td>0.216986</td>\n",
       "      <td>0.4075</td>\n",
       "      <td>0.665879</td>\n",
       "      <td>0.105574</td>\n",
       "      <td>1.0</td>\n",
       "      <td>40</td>\n",
       "      <td>SpectralClustering</td>\n",
       "      <td>face</td>\n",
       "      <td>5.009370</td>\n",
       "    </tr>\n",
       "    <tr>\n",
       "      <th>3</th>\n",
       "      <td>0.582355</td>\n",
       "      <td>0.404255</td>\n",
       "      <td>0.5750</td>\n",
       "      <td>0.753367</td>\n",
       "      <td>0.105574</td>\n",
       "      <td>1.0</td>\n",
       "      <td>40</td>\n",
       "      <td>KMeans</td>\n",
       "      <td>face</td>\n",
       "      <td>0.640716</td>\n",
       "    </tr>\n",
       "    <tr>\n",
       "      <th>4</th>\n",
       "      <td>0.047899</td>\n",
       "      <td>0.022714</td>\n",
       "      <td>0.0250</td>\n",
       "      <td>0.166917</td>\n",
       "      <td>0.105574</td>\n",
       "      <td>1.0</td>\n",
       "      <td>40</td>\n",
       "      <td>DBSCAN</td>\n",
       "      <td>face</td>\n",
       "      <td>0.083347</td>\n",
       "    </tr>\n",
       "    <tr>\n",
       "      <th>5</th>\n",
       "      <td>0.645660</td>\n",
       "      <td>0.470418</td>\n",
       "      <td>0.6300</td>\n",
       "      <td>0.798782</td>\n",
       "      <td>0.105574</td>\n",
       "      <td>1.0</td>\n",
       "      <td>40</td>\n",
       "      <td>AgglomerativeClustering</td>\n",
       "      <td>face</td>\n",
       "      <td>0.308212</td>\n",
       "    </tr>\n",
       "    <tr>\n",
       "      <th>6</th>\n",
       "      <td>0.582355</td>\n",
       "      <td>0.404255</td>\n",
       "      <td>0.5750</td>\n",
       "      <td>0.753367</td>\n",
       "      <td>0.105574</td>\n",
       "      <td>1.0</td>\n",
       "      <td>40</td>\n",
       "      <td>GaussianMixture</td>\n",
       "      <td>face</td>\n",
       "      <td>642.374231</td>\n",
       "    </tr>\n",
       "  </tbody>\n",
       "</table>\n",
       "</div>"
      ],
      "text/plain": [
       "         f1       ARI     ACC       NMI  Silhouette  cover_rate  classes  \\\n",
       "0  0.619206  0.446851  0.6250  0.778978    0.105574         1.0       40   \n",
       "1  0.069682  0.016433  0.0475  0.187941    0.105574         1.0       40   \n",
       "2  0.445543  0.216986  0.4075  0.665879    0.105574         1.0       40   \n",
       "3  0.582355  0.404255  0.5750  0.753367    0.105574         1.0       40   \n",
       "4  0.047899  0.022714  0.0250  0.166917    0.105574         1.0       40   \n",
       "5  0.645660  0.470418  0.6300  0.798782    0.105574         1.0       40   \n",
       "6  0.582355  0.404255  0.5750  0.753367    0.105574         1.0       40   \n",
       "\n",
       "                      Algo dataset  TotalProcessingTime  \n",
       "0                      GIT    face             2.242435  \n",
       "1                  HDBSCAN    face             2.045822  \n",
       "2       SpectralClustering    face             5.009370  \n",
       "3                   KMeans    face             0.640716  \n",
       "4                   DBSCAN    face             0.083347  \n",
       "5  AgglomerativeClustering    face             0.308212  \n",
       "6          GaussianMixture    face           642.374231  "
      ]
     },
     "execution_count": 18,
     "metadata": {},
     "output_type": "execute_result"
    }
   ],
   "source": [
    "full_perf_metrics_face = pd.concat([perf_metrics_git_face, \n",
    "                                    perf_metrics_hdbscan_face,\n",
    "                                    perf_metrics_speclustr_face,\n",
    "                                    perf_metrics_kmeans_face,\n",
    "                                    perf_metrics_dbscan_face,\n",
    "                                    perf_metrics_agg_face,\n",
    "                                    perf_metrics_gmm_face], ignore_index=True)\n",
    "full_perf_metrics_face"
   ]
  },
  {
   "cell_type": "code",
   "execution_count": 19,
   "id": "da86d75e-5ce9-433a-b188-38a9f0ce9c87",
   "metadata": {},
   "outputs": [
    {
     "data": {
      "image/png": "[encoded data removed]",
      "text/plain": [
       "<Figure size 1300x1000 with 5 Axes>"
      ]
     },
     "metadata": {},
     "output_type": "display_data"
    }
   ],
   "source": [
    "metrics = ['f1', 'ARI', 'ACC', 'NMI']\n",
    "dataset_name = full_perf_metrics_face['dataset'].iloc[0]\n",
    "benchmark_algo = 'GIT'\n",
    "\n",
    "# Determine GIT scores for reference lines\n",
    "git_scores = full_perf_metrics_face[full_perf_metrics_face['Algo'] == benchmark_algo][metrics].values.flatten()\n",
    "\n",
    "# Calculate the total processing time score for reference line\n",
    "git_total_processing_time_score = full_perf_metrics_face[full_perf_metrics_face['Algo'] == benchmark_algo]['TotalProcessingTime'].values[0]\n",
    "\n",
    "# Create subplots with an extra subplot for the total processing time\n",
    "fig, axs = plt.subplots(nrows=3, ncols=2, figsize=(13, 10), gridspec_kw={'height_ratios': [1, 1, 0.5]})\n",
    "fig.suptitle(f'Accuracy Benchmarking - Performance Metrics Comparison for {dataset_name} Large-Scale Dataset', fontsize=16)\n",
    "\n",
    "# Plot each metric in a subplot\n",
    "for i, metric in enumerate(metrics):\n",
    "    ax = axs[i // 2, i % 2]\n",
    "    ax.bar(full_perf_metrics_face['Algo'], full_perf_metrics_face[metric], \n",
    "           color=['green' if x == benchmark_algo else 'grey' for x in full_perf_metrics_face['Algo']])\n",
    "    ax.set_title(metric)\n",
    "    ax.set_ylabel(metric)\n",
    "    ax.tick_params(axis='x', rotation=45)\n",
    "    ax.axhline(y=git_scores[i], color='r', linestyle='--', linewidth=1)\n",
    "\n",
    "# Add the last subplot for total processing time\n",
    "ax_last = axs[2, 0]\n",
    "ax_last.bar(full_perf_metrics_face['Algo'], full_perf_metrics_face['TotalProcessingTime'], \n",
    "            color=['green' if x == benchmark_algo else 'grey' for x in full_perf_metrics_face['Algo']])\n",
    "ax_last.set_title('Total Processing Time')\n",
    "ax_last.set_ylabel('Seconds')\n",
    "ax_last.tick_params(axis='x', rotation=45)\n",
    "ax_last.axhline(y=git_total_processing_time_score, color='r', linestyle='--', linewidth=1)\n",
    "\n",
    "# Hide the empty subplot\n",
    "fig.delaxes(axs[2][1])\n",
    "\n",
    "plt.tight_layout(rect=[0, 0.03, 1, 0.95])\n",
    "\n",
    "# Save the figure\n",
    "plt.savefig(f'./Benchmark Figures/Accuracy Benchmarking - Performance Metrics Comparison for {dataset_name} Large-Scale Dataset.png', bbox_inches='tight')\n",
    "\n",
    "# Show plot\n",
    "plt.show()"
   ]
  },
  {
   "cell_type": "markdown",
   "id": "cb2892de-b99f-4ad3-8287-4bc75de4c1e2",
   "metadata": {},
   "source": [
    "## <center><a><span style=\"color:green\">Real Datasets - `FMNIST`</span></a></center>"
   ]
  },
  {
   "cell_type": "markdown",
   "id": "a69461a7-5afa-427f-a4d3-e1c45c51acd9",
   "metadata": {},
   "source": [
    "### Load the Fmnist data"
   ]
  },
  {
   "cell_type": "code",
   "execution_count": null,
   "id": "10c90224-616e-4e51-b595-902d75f96206",
   "metadata": {},
   "outputs": [],
   "source": [
    "X_fmnist, Y_fmnist_true = Real_DataLoader(name='mnist_784', path=real_datasets_path).load()\n",
    "\n",
    "# Calculate key dataset characteristics\n",
    "num_clusters = len(np.unique(Y_fmnist_true))\n",
    "num_features = len(X_fmnist[0])\n",
    "total_rows = len(X_fmnist)\n",
    "\n",
    "# Print out the dataset characteristics\n",
    "print(f\"The 'Fmnist' Dataset has: {num_clusters} Clusters, {num_features} Features, and {total_rows} Total Rows.\")"
   ]
  },
  {
   "cell_type": "markdown",
   "id": "499baef2-16c0-4722-bace-744433497069",
   "metadata": {},
   "source": [
    "### <span style=\"color:red\">GIT Clustring</span> <a class=\"anchor\"></a>"
   ]
  },
  {
   "cell_type": "code",
   "execution_count": null,
   "id": "f640a944-0fe4-4366-8d46-df27743f314c",
   "metadata": {},
   "outputs": [],
   "source": [
    "from git_cluster import GIT"
   ]
  },
  {
   "cell_type": "code",
   "execution_count": null,
   "id": "dca347c3-9ed8-4e17-9440-674e53240083",
   "metadata": {},
   "outputs": [],
   "source": [
    "# Create an instance of the GIT clustering\n",
    "git = GIT(k=40, target_ratio=[1 for i in range(10)])\n",
    "\n",
    "# Apply the GIT algorithm to predict the clusters in the data\n",
    "Y_fmnist_pred_git = git.fit_predict(X_fmnist)\n",
    "\n",
    "# Align the predicted labels with the true labels for accurate evaluation\n",
    "Y_fmnist_pred_git, Y_fmnist_true = alignPredictedWithTrueLabels(Y_fmnist_pred_git, Y_fmnist_true)\n",
    "\n",
    "# Calculate various clustering metrics to evaluate the performance\n",
    "perf_metrics_git_fmnist = measures_calculator(X_fmnist, Y_fmnist_pred_git, Y_fmnist_true)\n",
    "\n",
    "# Store additional information about the algorithm and dataset in the result\n",
    "perf_metrics_git_fmnist[\"Algo\"] = git.__class__.__name__\n",
    "perf_metrics_git_fmnist[\"dataset\"] = \"fmnist\"\n",
    "\n",
    "perf_metrics_git_fmnist"
   ]
  },
  {
   "cell_type": "markdown",
   "id": "267517df-ab89-49a7-a1df-dddeb72f27bd",
   "metadata": {},
   "source": [
    "### <span style=\"color:red\">HDBSCAN</span> <a class=\"anchor\"></a>"
   ]
  },
  {
   "cell_type": "code",
   "execution_count": null,
   "id": "6e3a9285-ff55-4521-80c7-5dbe6d2f41b1",
   "metadata": {},
   "outputs": [],
   "source": [
    "import hdbscan"
   ]
  },
  {
   "cell_type": "code",
   "execution_count": null,
   "id": "20a2ee4a-07a1-4331-9853-5e2b9a1fb5ca",
   "metadata": {},
   "outputs": [],
   "source": [
    "# Create an instance of the HDBSCAN clustering\n",
    "hdbscan = hdbscan.HDBSCAN(min_cluster_size=100, min_samples=1)\n",
    "\n",
    "# Apply the HDBSCAN algorithm to predict the clusters in the data\n",
    "hdbscan.fit(X_fmnist)\n",
    "\n",
    "# Get the predicted Clusters\n",
    "Y_fmnist_pred_hdbscan = hdbscan.labels_\n",
    "\n",
    "# Align the predicted labels with the true labels for accurate evaluation\n",
    "Y_fmnist_pred_hdbscan, Y_fmnist_true = alignPredictedWithTrueLabels(Y_fmnist_pred_hdbscan, Y_fmnist_true)\n",
    "\n",
    "# Calculate various clustering metrics to evaluate the performance\n",
    "perf_metrics_hdbscan_fmnist = measures_calculator(X_fmnist, Y_fmnist_pred_hdbscan, Y_fmnist_true)\n",
    "\n",
    "# Store additional information about the algorithm and dataset in the result\n",
    "perf_metrics_hdbscan_fmnist[\"Algo\"] = hdbscan.__class__.__name__\n",
    "perf_metrics_hdbscan_fmnist[\"dataset\"] = \"fmnist\"\n",
    "\n",
    "perf_metrics_hdbscan_fmnist"
   ]
  },
  {
   "cell_type": "markdown",
   "id": "305f5b0e-81ea-43c0-97be-a328bbd9532d",
   "metadata": {},
   "source": [
    "### <span style=\"color:red\">Spectral Clustering</span> <a class=\"anchor\"></a>"
   ]
  },
  {
   "cell_type": "code",
   "execution_count": null,
   "id": "6bc1fcc9-2229-4a75-8b3b-3d75361ff962",
   "metadata": {},
   "outputs": [],
   "source": [
    "from sklearn.cluster import SpectralClustering"
   ]
  },
  {
   "cell_type": "code",
   "execution_count": null,
   "id": "394c5613-98db-4b2d-9205-4a5290c63ded",
   "metadata": {},
   "outputs": [],
   "source": [
    "# Create an instance of the Spectral Clustering algorithm \n",
    "spectral_clustering = SpectralClustering(n_clusters=10, assign_labels=\"discretize\", \n",
    "                                         random_state=0, gamma=0.01, affinity='rbf')\n",
    "\n",
    "# Apply the Spectral Clustering algorithm to predict the clusters in the data\n",
    "spectral_clustering.fit(X_fmnist)\n",
    "\n",
    "# Get the predicted Clusters\n",
    "Y_fmnist_pred_speclustr = spectral_clustering.labels_\n",
    "\n",
    "# Align the predicted labels with the true labels for accurate evaluation\n",
    "Y_fmnist_pred_speclustr, Y_fmnist_true = alignPredictedWithTrueLabels(Y_fmnist_pred_speclustr, Y_fmnist_true)\n",
    "\n",
    "# Calculate various clustering metrics to evaluate the performance\n",
    "perf_metrics_speclustr_fmnist = measures_calculator(X_fmnist, Y_fmnist_pred_speclustr, Y_fmnist_true)\n",
    "\n",
    "# Store additional information about the algorithm and dataset in the result\n",
    "perf_metrics_speclustr_fmnist[\"Algo\"] = spectral_clustering.__class__.__name__\n",
    "perf_metrics_speclustr_fmnist[\"dataset\"] = \"fmnist\"\n",
    "\n",
    "perf_metrics_speclustr_fmnist"
   ]
  },
  {
   "cell_type": "markdown",
   "id": "a09354ac-00ea-4978-bae2-33bf3ed0ecb0",
   "metadata": {},
   "source": [
    "### <span style=\"color:red\">K-Means</span> <a class=\"anchor\"></a>"
   ]
  },
  {
   "cell_type": "code",
   "execution_count": null,
   "id": "9b66de66-033f-443b-8709-b59b42a3458d",
   "metadata": {},
   "outputs": [],
   "source": [
    "from sklearn.cluster import KMeans"
   ]
  },
  {
   "cell_type": "code",
   "execution_count": null,
   "id": "dadb86b2-0b2f-4c7c-9463-64988d1baf0b",
   "metadata": {},
   "outputs": [],
   "source": [
    "# Create an instance of the K-means algorithm \n",
    "kmeans = KMeans(n_clusters=10, random_state=2021)\n",
    "\n",
    "# Apply the K-means algorithm to predict the clusters in the data\n",
    "kmeans.fit(X_fmnist)\n",
    "\n",
    "# Get the predicted Clusters\n",
    "Y_fmnist_pred_kmeans = kmeans.labels_\n",
    "\n",
    "# Align the predicted labels with the true labels for accurate evaluation\n",
    "Y_fmnist_pred_kmeans, Y_fmnist_true = alignPredictedWithTrueLabels(Y_fmnist_pred_kmeans, Y_fmnist_true)\n",
    "\n",
    "# Calculate various clustering metrics to evaluate the performance\n",
    "perf_metrics_kmeans_fmnist = measures_calculator(X_fmnist, Y_fmnist_pred_kmeans, Y_fmnist_true)\n",
    "\n",
    "# Store additional information about the algorithm and dataset in the result\n",
    "perf_metrics_kmeans_fmnist[\"Algo\"] = kmeans.__class__.__name__\n",
    "perf_metrics_kmeans_fmnist[\"dataset\"] = \"fmnist\"\n",
    "\n",
    "perf_metrics_kmeans_fmnist"
   ]
  },
  {
   "cell_type": "markdown",
   "id": "5523abc9-1314-4998-a28e-6488ac2066bd",
   "metadata": {},
   "source": [
    "### <span style=\"color:red\">DBSCAN</span> <a class=\"anchor\"></a>"
   ]
  },
  {
   "cell_type": "code",
   "execution_count": null,
   "id": "4008d17b-814c-475a-8ac4-3b28fc2b6dd7",
   "metadata": {},
   "outputs": [],
   "source": [
    "from sklearn.cluster import DBSCAN"
   ]
  },
  {
   "cell_type": "code",
   "execution_count": null,
   "id": "61c9d902-c659-40f2-be78-e057c5fb0611",
   "metadata": {},
   "outputs": [],
   "source": [
    "# Create an instance of the DBSCAN algorithm\n",
    "dbscan = DBSCAN(eps=0.5, min_samples=100)\n",
    "\n",
    "# Apply the DBSCAN algorithm to predict the clusters in the data\n",
    "Y_fmnist_pred_dbscan = dbscan.fit_predict(X_fmnist)\n",
    "\n",
    "# Align the predicted labels with the true labels for accurate evaluation\n",
    "Y_fmnist_pred_dbscan, Y_fmnist_true = alignPredictedWithTrueLabels(Y_fmnist_pred_dbscan, Y_fmnist_true)\n",
    "\n",
    "# Calculate various clustering metrics to evaluate the performance\n",
    "perf_metrics_dbscan_fmnist = measures_calculator(X_fmnist, Y_fmnist_pred_dbscan, Y_fmnist_true)\n",
    "\n",
    "# Store additional information about the algorithm and dataset in the result\n",
    "perf_metrics_dbscan_fmnist[\"Algo\"] = dbscan.__class__.__name__\n",
    "perf_metrics_dbscan_fmnist[\"dataset\"] = \"fmnist\"\n",
    "\n",
    "perf_metrics_dbscan_fmnist"
   ]
  },
  {
   "cell_type": "markdown",
   "id": "fd73848e-fcad-47fe-b5de-d12b726c70b6",
   "metadata": {},
   "source": [
    "### <span style=\"color:red\">Agglomerative Clustering</span> <a class=\"anchor\"></a>"
   ]
  },
  {
   "cell_type": "code",
   "execution_count": null,
   "id": "90bfe9bc-87f4-4413-907c-852c77efa39a",
   "metadata": {},
   "outputs": [],
   "source": [
    "from sklearn.cluster import AgglomerativeClustering"
   ]
  },
  {
   "cell_type": "code",
   "execution_count": null,
   "id": "1604aea1-1d51-494a-bf3c-b5103ed354f4",
   "metadata": {},
   "outputs": [],
   "source": [
    "# Create an instance of the Agglomerative Clustering algorithm\n",
    "agg_clustering = AgglomerativeClustering(n_clusters=10)\n",
    "\n",
    "# Apply the Agglomerative Clustering algorithm to predict the clusters in the data\n",
    "Y_fmnist_pred_agg = agg_clustering.fit_predict(X_fmnist)\n",
    "\n",
    "# Align the predicted labels with the true labels for accurate evaluation\n",
    "Y_fmnist_pred_agg, Y_fmnist_true = alignPredictedWithTrueLabels(Y_fmnist_pred_agg, Y_fmnist_true)\n",
    "\n",
    "# Calculate various clustering metrics to evaluate the performance\n",
    "perf_metrics_agg_fmnist = measures_calculator(X_fmnist, Y_fmnist_pred_agg, Y_fmnist_true)\n",
    "\n",
    "# Store additional information about the algorithm and dataset in the result\n",
    "perf_metrics_agg_fmnist[\"Algo\"] = agg_clustering.__class__.__name__\n",
    "perf_metrics_agg_fmnist[\"dataset\"] = \"fmnist\"\n",
    "\n",
    "perf_metrics_agg_fmnist"
   ]
  },
  {
   "cell_type": "markdown",
   "id": "c54b1bd7-9ea9-48c6-956f-9c391ed3ccc5",
   "metadata": {},
   "source": [
    "### <span style=\"color:red\">Gaussian Mixture Models (GMM)</span> <a class=\"anchor\"></a>"
   ]
  },
  {
   "cell_type": "code",
   "execution_count": null,
   "id": "623f837a-a120-4230-9e6a-c929cd3fcf39",
   "metadata": {},
   "outputs": [],
   "source": [
    "from sklearn.mixture import GaussianMixture"
   ]
  },
  {
   "cell_type": "code",
   "execution_count": null,
   "id": "752a7082-ed12-4f57-934d-3a4d573690e8",
   "metadata": {},
   "outputs": [],
   "source": [
    "# Create an instance of the Gaussian Mixture Models algorithm\n",
    "gmm = GaussianMixture(n_components=10, random_state=0)\n",
    "\n",
    "# Fit the Gaussian Mixture Models algorithm to the data and predict the clusters\n",
    "gmm.fit(X_fmnist)\n",
    "Y_fmnist_pred_gmm = gmm.predict(X_fmnist)\n",
    "\n",
    "# Align the predicted labels with the true labels for accurate evaluation\n",
    "Y_fmnist_pred_gmm, Y_fmnist_true = alignPredictedWithTrueLabels(Y_fmnist_pred_gmm, Y_fmnist_true)\n",
    "\n",
    "# Calculate various clustering metrics to evaluate the performance\n",
    "perf_metrics_gmm_fmnist = measures_calculator(X_fmnist, Y_fmnist_pred_gmm, Y_fmnist_true)\n",
    "\n",
    "# Store additional information about the algorithm and dataset in the result\n",
    "perf_metrics_gmm_fmnist[\"Algo\"] = gmm.__class__.__name__\n",
    "perf_metrics_gmm_fmnist[\"dataset\"] = \"fmnist\"\n",
    "\n",
    "perf_metrics_gmm_fmnist"
   ]
  },
  {
   "cell_type": "markdown",
   "id": "c380e73e-8b7f-43b5-86d6-74b1314a9770",
   "metadata": {},
   "source": [
    "### <span style=\"color:blue\">Benchmark Results</span> <a class=\"anchor\"></a>"
   ]
  },
  {
   "cell_type": "code",
   "execution_count": null,
   "id": "91ecfd0a-ef8e-4caa-8b09-5860b2d37730",
   "metadata": {},
   "outputs": [],
   "source": [
    "full_perf_metrics_fmnist = pd.concat([perf_metrics_git_fmnist, \n",
    "                                    perf_metrics_hdbscan_fmnist,\n",
    "                                    perf_metrics_speclustr_fmnist,\n",
    "                                    perf_metrics_kmeans_fmnist,\n",
    "                                    perf_metrics_dbscan_fmnist,\n",
    "                                    perf_metrics_agg_fmnist,\n",
    "                                    perf_metrics_gmm_fmnist], ignore_index=True)\n",
    "full_perf_metrics_fmnist"
   ]
  },
  {
   "cell_type": "code",
   "execution_count": null,
   "id": "2a4c9d6f-b636-4cb0-976d-636882e70537",
   "metadata": {},
   "outputs": [],
   "source": [
    "metrics = ['f1', 'ARI', 'ACC', 'NMI']\n",
    "dataset_name = full_perf_metrics_fmnist['dataset'].iloc[0]\n",
    "benchmark_algo = 'GIT'\n",
    "\n",
    "# Determine GIT scores for reference lines\n",
    "git_scores = full_perf_metrics_fmnist[full_perf_metrics_fmnist['Algo'] == benchmark_algo][metrics].values.flatten()\n",
    "\n",
    "# Create subplots\n",
    "fig, axs = plt.subplots(nrows=2, ncols=2, figsize=(15, 10), sharey=True)\n",
    "fig.suptitle(f'Accuracy Benchmarking - Performance Metrics Comparison for {dataset_name} Large-Scale Dataset', fontsize=16)\n",
    "\n",
    "# Plot each metric in a subplot\n",
    "for i, metric in enumerate(metrics):\n",
    "    ax = axs[i // 2, i % 2]\n",
    "    ax.bar(full_perf_metrics_fmnist['Algo'], full_perf_metrics_fmnist[metric], \n",
    "           color=['green' if x == benchmark_algo else 'grey' for x in full_perf_metrics_fmnist['Algo']])\n",
    "    ax.set_title(metric)\n",
    "    ax.set_ylabel(metric)\n",
    "    ax.tick_params(axis='x', rotation=45)\n",
    "    ax.axhline(y=git_scores[i], color='r', linestyle='--', linewidth=1)\n",
    "\n",
    "plt.tight_layout(rect=[0, 0.03, 1, 0.95])\n",
    "\n",
    "# Save the figure\n",
    "plt.savefig(f'./Benchmark Figures/Accuracy Benchmarking - Performance Metrics Comparison for {dataset_name} Large-Scale Dataset.png', bbox_inches='tight')\n",
    "\n",
    "# Show plot\n",
    "plt.show()"
   ]
  }
 ],
 "metadata": {
  "kernelspec": {
   "display_name": "Python 3 (ipykernel)",
   "language": "python",
   "name": "python3"
  },
  "language_info": {
   "codemirror_mode": {
    "name": "ipython",
    "version": 3
   },
   "file_extension": ".py",
   "mimetype": "text/x-python",
   "name": "python",
   "nbconvert_exporter": "python",
   "pygments_lexer": "ipython3",
   "version": "3.11.5"
  }
 },
 "nbformat": 4,
 "nbformat_minor": 5
}
