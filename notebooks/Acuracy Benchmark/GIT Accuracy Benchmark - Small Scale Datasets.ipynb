{
 "cells": [
  {
   "cell_type": "markdown",
   "id": "c05e4567-3ed7-4780-8d5c-fb309d74ff74",
   "metadata": {},
   "source": [
    "<a href=\"https://colab.research.google.com/github/labrijisaad/Git-Clustering/blob/main/notebooks/Acuracy Benchmark/GIT Accuracy Benchmark - Small Scale Datasets.ipynb\" target=\"_parent\"><img src=\"https://colab.research.google.com/assets/colab-badge.svg\" alt=\"Open In Colab\"/></a>"
   ]
  },
  {
   "cell_type": "markdown",
   "id": "7a3b127f-fab7-4240-8c71-54c06b9ab246",
   "metadata": {},
   "source": [
    "## <center><a><span style=\"color:blue\">`Evaluating GIT` - Accuracy Benchmarking on Small-Scale Datasets</span></a></center>"
   ]
  },
  {
   "cell_type": "markdown",
   "id": "810c50f8-5569-4b11-bcda-1c2d44958e05",
   "metadata": {},
   "source": [
    "#### Objective\n",
    "\n",
    "The goal of this notebook is to benchmark the GIT clustering algorithm against other standard clustering algorithms using four classic small-scale datasets (Iris, Wine, Hepatitis, Breast Cancer). We aim to evaluate the accuracy and performance of GIT in a controlled, comparative study.\n",
    "\n",
    "In this benchmarking study, we will compare the GIT clustering algorithm with the following clustering techniques:\n",
    "\n",
    "- HDBSCAN (Hierarchical Density-Based Spatial Clustering of Applications with Noise)\n",
    "- Spectral Clustering\n",
    "- K-Means\n",
    "- DBSCAN (Density-Based Spatial Clustering of Applications with Noise)\n",
    "- Agglomerative Clustering\n",
    "- Gaussian Mixture Models (GMM)"
   ]
  },
  {
   "cell_type": "markdown",
   "id": "f9f6ab43-9348-4171-8256-b2be6472bdb9",
   "metadata": {},
   "source": [
    "#### Install the `packages` & Prepare the `data`"
   ]
  },
  {
   "cell_type": "code",
   "execution_count": 1,
   "id": "0ca30eb9-3732-4157-bdf1-c58bc08eaec9",
   "metadata": {},
   "outputs": [],
   "source": [
    "# !pip install -i \"https://test.pypi.org/simple/\" git_cluster > /dev/null \n",
    "# !pip install hdbscan > /dev/null\n",
    "# !pip install -U gdown > /dev/null\n",
    "# !gdown 1yNwCStP3Sdf2lfvNe9h0WIZw2OQ3O2UP && unzip datasets.zip > /dev/null"
   ]
  },
  {
   "cell_type": "markdown",
   "id": "266e2a31-9dd0-4641-ab06-9a768c897910",
   "metadata": {},
   "source": [
    "#### Import the Libraries"
   ]
  },
  {
   "cell_type": "code",
   "execution_count": 2,
   "id": "e955175c-5c89-46fa-bd63-b64fd6378d72",
   "metadata": {},
   "outputs": [],
   "source": [
    "import warnings ; warnings.filterwarnings('ignore')\n",
    "import matplotlib.pyplot as plt\n",
    "import pandas as pd\n",
    "import numpy as np\n",
    "\n",
    "from utils import measures_calculator, matchY\n",
    "from dataloaders import Real_DataLoader as Real_DataLoader\n",
    "\n",
    "# Data Path (TO REPLACE in COLAB with \"/content/datasets/real_datasets\")\n",
    "real_datasets_path = \"../../datasets/real_datasets\""
   ]
  },
  {
   "cell_type": "markdown",
   "id": "95e818b6-4524-45de-86c6-de1366ca55e3",
   "metadata": {},
   "source": [
    "#### Note on **Clustering Performance Metrics**\n",
    "\n",
    "##### F1 Score - **`F1`**\n",
    "The F1 Score represents the harmonic mean of precision and recall. When applied to clustering, it assesses the correspondence between clusters and ground truth labels. It ranges from 0 to 1, with 1 indicating perfect precision and recall alignment.\n",
    "\n",
    "##### Adjusted Rand Index - **`ARI`**\n",
    "The ARI measures the similarity between two sets of data clusters, adjusted for chance. It offers a score that signifies whether the clustering is superior to random assignment. A value of 1 denotes a perfect match, 0 signifies random labeling, and negative values imply less agreement than expected by chance.\n",
    "\n",
    "##### Accuracy - **`ACC`**\n",
    "Accuracy in clustering is typically computed after aligning clusters with ground truth labels. It quantifies the proportion of correct predictions among the total predictions made. However, its utility is contingent upon such alignment, given that clustering doesn't inherently strive to replicate external labels.\n",
    "\n",
    "##### Normalized Mutual Information - **`NMI`**\n",
    "NMI is a modification of the Mutual Information (MI) score that considers cluster sizes and normalizes the score between 0 (no mutual information) and 1 (perfect correlation). It gauges the shared information between predicted clusters and true labels.\n",
    "\n",
    "##### Cover Rate - **`Cover Rate`**\n",
    "Cover rate usually indicates how effectively the clustering algorithm encompasses the dataset with its clusters. A cover rate of 1 indicates that each data point has been assigned to a cluster, while a value less than 1 suggests some data points remain unassigned."
   ]
  },
  {
   "cell_type": "markdown",
   "id": "73d75d1b-239c-4e18-b486-1e41eeb22efe",
   "metadata": {},
   "source": [
    "## <center><a><span style=\"color:green\">Real Datasets - `Iris`</span></a></center>"
   ]
  },
  {
   "cell_type": "markdown",
   "id": "05c7f8fd-84b3-4091-803c-6a379ca024be",
   "metadata": {},
   "source": [
    "### Load the Iris data"
   ]
  },
  {
   "cell_type": "code",
   "execution_count": 3,
   "id": "3dddeab0-3633-469a-9825-0942539064d2",
   "metadata": {},
   "outputs": [
    {
     "name": "stdout",
     "output_type": "stream",
     "text": [
      "The total number of Clusters in the Iris Dataset is: 3, and has 4 Features\n"
     ]
    }
   ],
   "source": [
    "X_iris, Y_iris_true = Real_DataLoader(name='iris', path=real_datasets_path).load()\n",
    "print(f'The total number of Clusters in the Iris Dataset is: {len(np.unique(Y_iris_true))}, and has {len(X_iris[0])} Features')"
   ]
  },
  {
   "cell_type": "markdown",
   "id": "a7b62f00-6741-4d75-85f7-ac6eda2decea",
   "metadata": {},
   "source": [
    "### <span style=\"color:red\">GIT Clustring</span> <a class=\"anchor\"></a>"
   ]
  },
  {
   "cell_type": "code",
   "execution_count": 4,
   "id": "53bbd605-7d4f-4b28-8e63-2b84638d9e8f",
   "metadata": {},
   "outputs": [],
   "source": [
    "from git_cluster import GIT"
   ]
  },
  {
   "cell_type": "code",
   "execution_count": 5,
   "id": "7c1b8368-4a1f-43e6-a183-ca9245581720",
   "metadata": {},
   "outputs": [
    {
     "data": {
      "text/html": [
       "<div>\n",
       "<style scoped>\n",
       "    .dataframe tbody tr th:only-of-type {\n",
       "        vertical-align: middle;\n",
       "    }\n",
       "\n",
       "    .dataframe tbody tr th {\n",
       "        vertical-align: top;\n",
       "    }\n",
       "\n",
       "    .dataframe thead th {\n",
       "        text-align: right;\n",
       "    }\n",
       "</style>\n",
       "<table border=\"1\" class=\"dataframe\">\n",
       "  <thead>\n",
       "    <tr style=\"text-align: right;\">\n",
       "      <th></th>\n",
       "      <th>f1</th>\n",
       "      <th>ARI</th>\n",
       "      <th>ACC</th>\n",
       "      <th>NMI</th>\n",
       "      <th>cover_rate</th>\n",
       "      <th>classes</th>\n",
       "      <th>Algo</th>\n",
       "      <th>dataset</th>\n",
       "    </tr>\n",
       "  </thead>\n",
       "  <tbody>\n",
       "    <tr>\n",
       "      <th>0</th>\n",
       "      <td>0.883153</td>\n",
       "      <td>0.706006</td>\n",
       "      <td>0.88</td>\n",
       "      <td>0.756087</td>\n",
       "      <td>1.0</td>\n",
       "      <td>3.0</td>\n",
       "      <td>GIT</td>\n",
       "      <td>iris</td>\n",
       "    </tr>\n",
       "  </tbody>\n",
       "</table>\n",
       "</div>"
      ],
      "text/plain": [
       "         f1       ARI   ACC       NMI  cover_rate  classes Algo dataset\n",
       "0  0.883153  0.706006  0.88  0.756087         1.0      3.0  GIT    iris"
      ]
     },
     "execution_count": 5,
     "metadata": {},
     "output_type": "execute_result"
    }
   ],
   "source": [
    "# Create an instance of the GIT clustering\n",
    "git = GIT(k=15, target_ratio=[1, 1, 1])\n",
    "\n",
    "# Apply the GIT algorithm to predict the clusters in the data\n",
    "Y_iris_pred_git = git.fit_predict(X_iris)\n",
    "\n",
    "# Calculate various clustering metrics to evaluate the performance\n",
    "perf_metrics_git_iris = measures_calculator(Y_iris_pred_git, Y_iris_true)\n",
    "\n",
    "# Store additional information about the algorithm and dataset in the result\n",
    "perf_metrics_git_iris[\"Algo\"] = git.__class__.__name__\n",
    "perf_metrics_git_iris[\"dataset\"] = \"iris\"\n",
    "\n",
    "perf_metrics_git_iris"
   ]
  },
  {
   "cell_type": "markdown",
   "id": "9a669e14-7e97-440c-a9d6-1d411a0c2338",
   "metadata": {},
   "source": [
    "### <span style=\"color:red\">HDBSCAN</span> <a class=\"anchor\"></a>"
   ]
  },
  {
   "cell_type": "code",
   "execution_count": 6,
   "id": "5a59565e-a299-488e-8749-2081baec27fd",
   "metadata": {},
   "outputs": [],
   "source": [
    "import hdbscan"
   ]
  },
  {
   "cell_type": "code",
   "execution_count": 7,
   "id": "3ef2113b-11b9-4ce4-8629-db2705bf3dcd",
   "metadata": {},
   "outputs": [
    {
     "data": {
      "text/html": [
       "<div>\n",
       "<style scoped>\n",
       "    .dataframe tbody tr th:only-of-type {\n",
       "        vertical-align: middle;\n",
       "    }\n",
       "\n",
       "    .dataframe tbody tr th {\n",
       "        vertical-align: top;\n",
       "    }\n",
       "\n",
       "    .dataframe thead th {\n",
       "        text-align: right;\n",
       "    }\n",
       "</style>\n",
       "<table border=\"1\" class=\"dataframe\">\n",
       "  <thead>\n",
       "    <tr style=\"text-align: right;\">\n",
       "      <th></th>\n",
       "      <th>f1</th>\n",
       "      <th>ARI</th>\n",
       "      <th>ACC</th>\n",
       "      <th>NMI</th>\n",
       "      <th>cover_rate</th>\n",
       "      <th>classes</th>\n",
       "      <th>Algo</th>\n",
       "      <th>dataset</th>\n",
       "    </tr>\n",
       "  </thead>\n",
       "  <tbody>\n",
       "    <tr>\n",
       "      <th>0</th>\n",
       "      <td>0.775507</td>\n",
       "      <td>0.562136</td>\n",
       "      <td>0.686667</td>\n",
       "      <td>0.713099</td>\n",
       "      <td>1.0</td>\n",
       "      <td>3.0</td>\n",
       "      <td>HDBSCAN</td>\n",
       "      <td>iris</td>\n",
       "    </tr>\n",
       "  </tbody>\n",
       "</table>\n",
       "</div>"
      ],
      "text/plain": [
       "         f1       ARI       ACC       NMI  cover_rate  classes     Algo  \\\n",
       "0  0.775507  0.562136  0.686667  0.713099         1.0      3.0  HDBSCAN   \n",
       "\n",
       "  dataset  \n",
       "0    iris  "
      ]
     },
     "execution_count": 7,
     "metadata": {},
     "output_type": "execute_result"
    }
   ],
   "source": [
    "# Create an instance of the HDBSCAN clustering\n",
    "hdbscan = hdbscan.HDBSCAN(min_cluster_size=30, \n",
    "                            min_samples=20, \n",
    "                            gen_min_span_tree=True)\n",
    "\n",
    "# Apply the HDBSCAN algorithm to predict the clusters in the data\n",
    "hdbscan.fit(X_iris)\n",
    "\n",
    "# Get the predicted Clusters\n",
    "Y_iris_pred_hdbscan = hdbscan.labels_\n",
    "\n",
    "# Calculate various clustering metrics to evaluate the performance\n",
    "perf_metrics_hdbscan_iris = measures_calculator(Y_iris_pred_hdbscan, Y_iris_true)\n",
    "\n",
    "# Store additional information about the algorithm and dataset in the result\n",
    "perf_metrics_hdbscan_iris[\"Algo\"] = hdbscan.__class__.__name__\n",
    "perf_metrics_hdbscan_iris[\"dataset\"] = \"iris\"\n",
    "\n",
    "perf_metrics_hdbscan_iris"
   ]
  },
  {
   "cell_type": "markdown",
   "id": "71d30a82-42da-40e6-8cb3-8b89284738ab",
   "metadata": {},
   "source": [
    "### <span style=\"color:red\">Spectral Clustering</span> <a class=\"anchor\"></a>"
   ]
  },
  {
   "cell_type": "code",
   "execution_count": 8,
   "id": "9cbec0ca-3567-486b-bf28-b111a0582f02",
   "metadata": {},
   "outputs": [],
   "source": [
    "from sklearn.cluster import SpectralClustering"
   ]
  },
  {
   "cell_type": "code",
   "execution_count": 9,
   "id": "317f779a-588b-40b7-9c62-538377aca288",
   "metadata": {},
   "outputs": [
    {
     "data": {
      "text/html": [
       "<div>\n",
       "<style scoped>\n",
       "    .dataframe tbody tr th:only-of-type {\n",
       "        vertical-align: middle;\n",
       "    }\n",
       "\n",
       "    .dataframe tbody tr th {\n",
       "        vertical-align: top;\n",
       "    }\n",
       "\n",
       "    .dataframe thead th {\n",
       "        text-align: right;\n",
       "    }\n",
       "</style>\n",
       "<table border=\"1\" class=\"dataframe\">\n",
       "  <thead>\n",
       "    <tr style=\"text-align: right;\">\n",
       "      <th></th>\n",
       "      <th>f1</th>\n",
       "      <th>ARI</th>\n",
       "      <th>ACC</th>\n",
       "      <th>NMI</th>\n",
       "      <th>cover_rate</th>\n",
       "      <th>classes</th>\n",
       "      <th>Algo</th>\n",
       "      <th>dataset</th>\n",
       "    </tr>\n",
       "  </thead>\n",
       "  <tbody>\n",
       "    <tr>\n",
       "      <th>0</th>\n",
       "      <td>0.901225</td>\n",
       "      <td>0.743683</td>\n",
       "      <td>0.9</td>\n",
       "      <td>0.766036</td>\n",
       "      <td>1.0</td>\n",
       "      <td>3.0</td>\n",
       "      <td>SpectralClustering</td>\n",
       "      <td>iris</td>\n",
       "    </tr>\n",
       "  </tbody>\n",
       "</table>\n",
       "</div>"
      ],
      "text/plain": [
       "         f1       ARI  ACC       NMI  cover_rate  classes                Algo  \\\n",
       "0  0.901225  0.743683  0.9  0.766036         1.0      3.0  SpectralClustering   \n",
       "\n",
       "  dataset  \n",
       "0    iris  "
      ]
     },
     "execution_count": 9,
     "metadata": {},
     "output_type": "execute_result"
    }
   ],
   "source": [
    "# Create an instance of the Spectral Clustering algorithm \n",
    "spectral_clustering = SpectralClustering(n_clusters=3, assign_labels=\"discretize\",\n",
    "                                         random_state=0, affinity='rbf')\n",
    "\n",
    "# Apply the Spectral Clustering algorithm to predict the clusters in the data\n",
    "spectral_clustering.fit(X_iris)\n",
    "\n",
    "# Get the predicted Clusters\n",
    "Y_iris_pred_speclustr = spectral_clustering.labels_\n",
    "\n",
    "# Calculate various clustering metrics to evaluate the performance\n",
    "perf_metrics_speclustr_iris = measures_calculator(Y_iris_pred_speclustr, Y_iris_true)\n",
    "\n",
    "# Store additional information about the algorithm and dataset in the result\n",
    "perf_metrics_speclustr_iris[\"Algo\"] = spectral_clustering.__class__.__name__\n",
    "perf_metrics_speclustr_iris[\"dataset\"] = \"iris\"\n",
    "\n",
    "perf_metrics_speclustr_iris"
   ]
  },
  {
   "cell_type": "markdown",
   "id": "6f727c26-bd24-4649-be2d-11048b10d16a",
   "metadata": {},
   "source": [
    "### <span style=\"color:red\">K-Means</span> <a class=\"anchor\"></a>"
   ]
  },
  {
   "cell_type": "code",
   "execution_count": 10,
   "id": "44f3c246-cea0-4cd3-9746-b2ee8f371d92",
   "metadata": {},
   "outputs": [],
   "source": [
    "from sklearn.cluster import KMeans"
   ]
  },
  {
   "cell_type": "code",
   "execution_count": 11,
   "id": "bc6142d4-9eba-4432-ac9a-21e7bed57b4a",
   "metadata": {},
   "outputs": [
    {
     "data": {
      "text/html": [
       "<div>\n",
       "<style scoped>\n",
       "    .dataframe tbody tr th:only-of-type {\n",
       "        vertical-align: middle;\n",
       "    }\n",
       "\n",
       "    .dataframe tbody tr th {\n",
       "        vertical-align: top;\n",
       "    }\n",
       "\n",
       "    .dataframe thead th {\n",
       "        text-align: right;\n",
       "    }\n",
       "</style>\n",
       "<table border=\"1\" class=\"dataframe\">\n",
       "  <thead>\n",
       "    <tr style=\"text-align: right;\">\n",
       "      <th></th>\n",
       "      <th>f1</th>\n",
       "      <th>ARI</th>\n",
       "      <th>ACC</th>\n",
       "      <th>NMI</th>\n",
       "      <th>cover_rate</th>\n",
       "      <th>classes</th>\n",
       "      <th>Algo</th>\n",
       "      <th>dataset</th>\n",
       "    </tr>\n",
       "  </thead>\n",
       "  <tbody>\n",
       "    <tr>\n",
       "      <th>0</th>\n",
       "      <td>0.888055</td>\n",
       "      <td>0.716342</td>\n",
       "      <td>0.886667</td>\n",
       "      <td>0.741912</td>\n",
       "      <td>1.0</td>\n",
       "      <td>3.0</td>\n",
       "      <td>KMeans</td>\n",
       "      <td>iris</td>\n",
       "    </tr>\n",
       "  </tbody>\n",
       "</table>\n",
       "</div>"
      ],
      "text/plain": [
       "         f1       ARI       ACC       NMI  cover_rate  classes    Algo dataset\n",
       "0  0.888055  0.716342  0.886667  0.741912         1.0      3.0  KMeans    iris"
      ]
     },
     "execution_count": 11,
     "metadata": {},
     "output_type": "execute_result"
    }
   ],
   "source": [
    "# Create an instance of the K-means algorithm \n",
    "kmeans = KMeans(n_clusters=3, random_state=0)\n",
    "\n",
    "# Apply the K-means algorithm to predict the clusters in the data\n",
    "kmeans.fit(X_iris)\n",
    "\n",
    "# Get the predicted Clusters\n",
    "Y_iris_pred_kmeans = kmeans.labels_\n",
    "\n",
    "# Calculate various clustering metrics to evaluate the performance\n",
    "perf_metrics_kmeans_iris = measures_calculator(Y_iris_pred_kmeans, Y_iris_true)\n",
    "\n",
    "# Store additional information about the algorithm and dataset in the result\n",
    "perf_metrics_kmeans_iris[\"Algo\"] = kmeans.__class__.__name__\n",
    "perf_metrics_kmeans_iris[\"dataset\"] = \"iris\"\n",
    "\n",
    "perf_metrics_kmeans_iris"
   ]
  },
  {
   "cell_type": "markdown",
   "id": "af7cb5fe-6443-442e-aff4-b9d2b5d808f2",
   "metadata": {},
   "source": [
    "### <span style=\"color:red\">DBSCAN</span> <a class=\"anchor\"></a>"
   ]
  },
  {
   "cell_type": "code",
   "execution_count": 12,
   "id": "2e35f4f1-87a6-44e3-adc1-3023f87ab790",
   "metadata": {},
   "outputs": [],
   "source": [
    "from sklearn.cluster import DBSCAN"
   ]
  },
  {
   "cell_type": "code",
   "execution_count": 13,
   "id": "3df0b9a7-d2f3-40bf-9041-2bde80037238",
   "metadata": {},
   "outputs": [
    {
     "data": {
      "text/html": [
       "<div>\n",
       "<style scoped>\n",
       "    .dataframe tbody tr th:only-of-type {\n",
       "        vertical-align: middle;\n",
       "    }\n",
       "\n",
       "    .dataframe tbody tr th {\n",
       "        vertical-align: top;\n",
       "    }\n",
       "\n",
       "    .dataframe thead th {\n",
       "        text-align: right;\n",
       "    }\n",
       "</style>\n",
       "<table border=\"1\" class=\"dataframe\">\n",
       "  <thead>\n",
       "    <tr style=\"text-align: right;\">\n",
       "      <th></th>\n",
       "      <th>f1</th>\n",
       "      <th>ARI</th>\n",
       "      <th>ACC</th>\n",
       "      <th>NMI</th>\n",
       "      <th>cover_rate</th>\n",
       "      <th>classes</th>\n",
       "      <th>Algo</th>\n",
       "      <th>dataset</th>\n",
       "    </tr>\n",
       "  </thead>\n",
       "  <tbody>\n",
       "    <tr>\n",
       "      <th>0</th>\n",
       "      <td>0.724959</td>\n",
       "      <td>0.520619</td>\n",
       "      <td>0.686667</td>\n",
       "      <td>0.604416</td>\n",
       "      <td>1.0</td>\n",
       "      <td>3.0</td>\n",
       "      <td>DBSCAN</td>\n",
       "      <td>iris</td>\n",
       "    </tr>\n",
       "  </tbody>\n",
       "</table>\n",
       "</div>"
      ],
      "text/plain": [
       "         f1       ARI       ACC       NMI  cover_rate  classes    Algo dataset\n",
       "0  0.724959  0.520619  0.686667  0.604416         1.0      3.0  DBSCAN    iris"
      ]
     },
     "execution_count": 13,
     "metadata": {},
     "output_type": "execute_result"
    }
   ],
   "source": [
    "# Create an instance of the DBSCAN algorithm\n",
    "dbscan = DBSCAN(eps=0.5, min_samples=5)\n",
    "\n",
    "# Apply the DBSCAN algorithm to predict the clusters in the data\n",
    "Y_iris_pred_dbscan = dbscan.fit_predict(X_iris)\n",
    "\n",
    "# Calculate various clustering metrics to evaluate the performance\n",
    "perf_metrics_dbscan_iris = measures_calculator(Y_iris_pred_dbscan, Y_iris_true)\n",
    "perf_metrics_dbscan_iris\n",
    "\n",
    "# Store additional information about the algorithm and dataset in the result\n",
    "perf_metrics_dbscan_iris[\"Algo\"] = dbscan.__class__.__name__\n",
    "perf_metrics_dbscan_iris[\"dataset\"] = \"iris\"\n",
    "\n",
    "perf_metrics_dbscan_iris"
   ]
  },
  {
   "cell_type": "markdown",
   "id": "b73de449-a24a-4930-ad7f-2283cf918729",
   "metadata": {},
   "source": [
    "### <span style=\"color:red\">Agglomerative Clustering</span> <a class=\"anchor\"></a>"
   ]
  },
  {
   "cell_type": "code",
   "execution_count": 14,
   "id": "e44cdd57-8071-4376-9397-8ca3a7196f7b",
   "metadata": {},
   "outputs": [],
   "source": [
    "from sklearn.cluster import AgglomerativeClustering"
   ]
  },
  {
   "cell_type": "code",
   "execution_count": 15,
   "id": "79625145-fe54-425c-9efd-132526df75e8",
   "metadata": {},
   "outputs": [
    {
     "data": {
      "text/html": [
       "<div>\n",
       "<style scoped>\n",
       "    .dataframe tbody tr th:only-of-type {\n",
       "        vertical-align: middle;\n",
       "    }\n",
       "\n",
       "    .dataframe tbody tr th {\n",
       "        vertical-align: top;\n",
       "    }\n",
       "\n",
       "    .dataframe thead th {\n",
       "        text-align: right;\n",
       "    }\n",
       "</style>\n",
       "<table border=\"1\" class=\"dataframe\">\n",
       "  <thead>\n",
       "    <tr style=\"text-align: right;\">\n",
       "      <th></th>\n",
       "      <th>f1</th>\n",
       "      <th>ARI</th>\n",
       "      <th>ACC</th>\n",
       "      <th>NMI</th>\n",
       "      <th>cover_rate</th>\n",
       "      <th>classes</th>\n",
       "      <th>Algo</th>\n",
       "      <th>dataset</th>\n",
       "    </tr>\n",
       "  </thead>\n",
       "  <tbody>\n",
       "    <tr>\n",
       "      <th>0</th>\n",
       "      <td>0.895466</td>\n",
       "      <td>0.731199</td>\n",
       "      <td>0.893333</td>\n",
       "      <td>0.770084</td>\n",
       "      <td>1.0</td>\n",
       "      <td>3.0</td>\n",
       "      <td>AgglomerativeClustering</td>\n",
       "      <td>iris</td>\n",
       "    </tr>\n",
       "  </tbody>\n",
       "</table>\n",
       "</div>"
      ],
      "text/plain": [
       "         f1       ARI       ACC       NMI  cover_rate  classes  \\\n",
       "0  0.895466  0.731199  0.893333  0.770084         1.0      3.0   \n",
       "\n",
       "                      Algo dataset  \n",
       "0  AgglomerativeClustering    iris  "
      ]
     },
     "execution_count": 15,
     "metadata": {},
     "output_type": "execute_result"
    }
   ],
   "source": [
    "# Create an instance of the Agglomerative Clustering algorithm\n",
    "agg_clustering = AgglomerativeClustering(n_clusters=3)\n",
    "\n",
    "# Apply the Agglomerative Clustering algorithm to predict the clusters in the data\n",
    "Y_iris_pred_agg = agg_clustering.fit_predict(X_iris)\n",
    "\n",
    "# Calculate various clustering metrics to evaluate the performance\n",
    "perf_metrics_agg_iris = measures_calculator(Y_iris_pred_agg, Y_iris_true)\n",
    "perf_metrics_agg_iris\n",
    "\n",
    "# Store additional information about the algorithm and dataset in the result\n",
    "perf_metrics_agg_iris[\"Algo\"] = agg_clustering.__class__.__name__\n",
    "perf_metrics_agg_iris[\"dataset\"] = \"iris\"\n",
    "\n",
    "perf_metrics_agg_iris"
   ]
  },
  {
   "cell_type": "markdown",
   "id": "2bf93f9c-2f57-46ec-bb27-ddbf3dc9a32d",
   "metadata": {},
   "source": [
    "### <span style=\"color:red\">Gaussian Mixture Models (GMM)</span> <a class=\"anchor\"></a>"
   ]
  },
  {
   "cell_type": "code",
   "execution_count": 16,
   "id": "506014c4-3628-4344-9e51-f758b19acd6f",
   "metadata": {},
   "outputs": [],
   "source": [
    "from sklearn.mixture import GaussianMixture"
   ]
  },
  {
   "cell_type": "code",
   "execution_count": 17,
   "id": "31e76748-a66b-4205-b98c-b6b72ed5fc30",
   "metadata": {},
   "outputs": [
    {
     "data": {
      "text/html": [
       "<div>\n",
       "<style scoped>\n",
       "    .dataframe tbody tr th:only-of-type {\n",
       "        vertical-align: middle;\n",
       "    }\n",
       "\n",
       "    .dataframe tbody tr th {\n",
       "        vertical-align: top;\n",
       "    }\n",
       "\n",
       "    .dataframe thead th {\n",
       "        text-align: right;\n",
       "    }\n",
       "</style>\n",
       "<table border=\"1\" class=\"dataframe\">\n",
       "  <thead>\n",
       "    <tr style=\"text-align: right;\">\n",
       "      <th></th>\n",
       "      <th>f1</th>\n",
       "      <th>ARI</th>\n",
       "      <th>ACC</th>\n",
       "      <th>NMI</th>\n",
       "      <th>cover_rate</th>\n",
       "      <th>classes</th>\n",
       "      <th>Algo</th>\n",
       "      <th>dataset</th>\n",
       "    </tr>\n",
       "  </thead>\n",
       "  <tbody>\n",
       "    <tr>\n",
       "      <th>0</th>\n",
       "      <td>0.96675</td>\n",
       "      <td>0.903874</td>\n",
       "      <td>0.966667</td>\n",
       "      <td>0.899694</td>\n",
       "      <td>1.0</td>\n",
       "      <td>3.0</td>\n",
       "      <td>GaussianMixture</td>\n",
       "      <td>iris</td>\n",
       "    </tr>\n",
       "  </tbody>\n",
       "</table>\n",
       "</div>"
      ],
      "text/plain": [
       "        f1       ARI       ACC       NMI  cover_rate  classes  \\\n",
       "0  0.96675  0.903874  0.966667  0.899694         1.0      3.0   \n",
       "\n",
       "              Algo dataset  \n",
       "0  GaussianMixture    iris  "
      ]
     },
     "execution_count": 17,
     "metadata": {},
     "output_type": "execute_result"
    }
   ],
   "source": [
    "# Create an instance of the Gaussian Mixture Models algorithm\n",
    "gmm = GaussianMixture(n_components=3, random_state=0)\n",
    "\n",
    "# Fit the Gaussian Mixture Models algorithm to the data and predict the clusters\n",
    "gmm.fit(X_iris)\n",
    "Y_iris_pred_gmm = gmm.predict(X_iris)\n",
    "\n",
    "# Calculate various clustering metrics to evaluate the performance\n",
    "perf_metrics_gmm_iris = measures_calculator(Y_iris_pred_gmm, Y_iris_true)\n",
    "\n",
    "# Store additional information about the algorithm and dataset in the result\n",
    "perf_metrics_gmm_iris[\"Algo\"] = gmm.__class__.__name__\n",
    "perf_metrics_gmm_iris[\"dataset\"] = \"iris\"\n",
    "\n",
    "perf_metrics_gmm_iris"
   ]
  },
  {
   "cell_type": "markdown",
   "id": "f31f446e-c1e5-439d-9e64-433348749953",
   "metadata": {},
   "source": [
    "### <span style=\"color:blue\">Benchmark Results</span> <a class=\"anchor\"></a>"
   ]
  },
  {
   "cell_type": "code",
   "execution_count": 18,
   "id": "cec69bd5-b327-4aa0-a568-ff1ade2bcbf4",
   "metadata": {},
   "outputs": [
    {
     "data": {
      "text/html": [
       "<div>\n",
       "<style scoped>\n",
       "    .dataframe tbody tr th:only-of-type {\n",
       "        vertical-align: middle;\n",
       "    }\n",
       "\n",
       "    .dataframe tbody tr th {\n",
       "        vertical-align: top;\n",
       "    }\n",
       "\n",
       "    .dataframe thead th {\n",
       "        text-align: right;\n",
       "    }\n",
       "</style>\n",
       "<table border=\"1\" class=\"dataframe\">\n",
       "  <thead>\n",
       "    <tr style=\"text-align: right;\">\n",
       "      <th></th>\n",
       "      <th>f1</th>\n",
       "      <th>ARI</th>\n",
       "      <th>ACC</th>\n",
       "      <th>NMI</th>\n",
       "      <th>cover_rate</th>\n",
       "      <th>classes</th>\n",
       "      <th>Algo</th>\n",
       "      <th>dataset</th>\n",
       "    </tr>\n",
       "  </thead>\n",
       "  <tbody>\n",
       "    <tr>\n",
       "      <th>0</th>\n",
       "      <td>0.883153</td>\n",
       "      <td>0.706006</td>\n",
       "      <td>0.880000</td>\n",
       "      <td>0.756087</td>\n",
       "      <td>1.0</td>\n",
       "      <td>3.0</td>\n",
       "      <td>GIT</td>\n",
       "      <td>iris</td>\n",
       "    </tr>\n",
       "    <tr>\n",
       "      <th>1</th>\n",
       "      <td>0.775507</td>\n",
       "      <td>0.562136</td>\n",
       "      <td>0.686667</td>\n",
       "      <td>0.713099</td>\n",
       "      <td>1.0</td>\n",
       "      <td>3.0</td>\n",
       "      <td>HDBSCAN</td>\n",
       "      <td>iris</td>\n",
       "    </tr>\n",
       "    <tr>\n",
       "      <th>2</th>\n",
       "      <td>0.901225</td>\n",
       "      <td>0.743683</td>\n",
       "      <td>0.900000</td>\n",
       "      <td>0.766036</td>\n",
       "      <td>1.0</td>\n",
       "      <td>3.0</td>\n",
       "      <td>SpectralClustering</td>\n",
       "      <td>iris</td>\n",
       "    </tr>\n",
       "    <tr>\n",
       "      <th>3</th>\n",
       "      <td>0.888055</td>\n",
       "      <td>0.716342</td>\n",
       "      <td>0.886667</td>\n",
       "      <td>0.741912</td>\n",
       "      <td>1.0</td>\n",
       "      <td>3.0</td>\n",
       "      <td>KMeans</td>\n",
       "      <td>iris</td>\n",
       "    </tr>\n",
       "    <tr>\n",
       "      <th>4</th>\n",
       "      <td>0.724959</td>\n",
       "      <td>0.520619</td>\n",
       "      <td>0.686667</td>\n",
       "      <td>0.604416</td>\n",
       "      <td>1.0</td>\n",
       "      <td>3.0</td>\n",
       "      <td>DBSCAN</td>\n",
       "      <td>iris</td>\n",
       "    </tr>\n",
       "    <tr>\n",
       "      <th>5</th>\n",
       "      <td>0.895466</td>\n",
       "      <td>0.731199</td>\n",
       "      <td>0.893333</td>\n",
       "      <td>0.770084</td>\n",
       "      <td>1.0</td>\n",
       "      <td>3.0</td>\n",
       "      <td>AgglomerativeClustering</td>\n",
       "      <td>iris</td>\n",
       "    </tr>\n",
       "    <tr>\n",
       "      <th>6</th>\n",
       "      <td>0.966750</td>\n",
       "      <td>0.903874</td>\n",
       "      <td>0.966667</td>\n",
       "      <td>0.899694</td>\n",
       "      <td>1.0</td>\n",
       "      <td>3.0</td>\n",
       "      <td>GaussianMixture</td>\n",
       "      <td>iris</td>\n",
       "    </tr>\n",
       "  </tbody>\n",
       "</table>\n",
       "</div>"
      ],
      "text/plain": [
       "         f1       ARI       ACC       NMI  cover_rate  classes  \\\n",
       "0  0.883153  0.706006  0.880000  0.756087         1.0      3.0   \n",
       "1  0.775507  0.562136  0.686667  0.713099         1.0      3.0   \n",
       "2  0.901225  0.743683  0.900000  0.766036         1.0      3.0   \n",
       "3  0.888055  0.716342  0.886667  0.741912         1.0      3.0   \n",
       "4  0.724959  0.520619  0.686667  0.604416         1.0      3.0   \n",
       "5  0.895466  0.731199  0.893333  0.770084         1.0      3.0   \n",
       "6  0.966750  0.903874  0.966667  0.899694         1.0      3.0   \n",
       "\n",
       "                      Algo dataset  \n",
       "0                      GIT    iris  \n",
       "1                  HDBSCAN    iris  \n",
       "2       SpectralClustering    iris  \n",
       "3                   KMeans    iris  \n",
       "4                   DBSCAN    iris  \n",
       "5  AgglomerativeClustering    iris  \n",
       "6          GaussianMixture    iris  "
      ]
     },
     "execution_count": 18,
     "metadata": {},
     "output_type": "execute_result"
    }
   ],
   "source": [
    "full_perf_metrics_iris = pd.concat([perf_metrics_git_iris, \n",
    "                                    perf_metrics_hdbscan_iris,\n",
    "                                    perf_metrics_speclustr_iris,\n",
    "                                    perf_metrics_kmeans_iris,\n",
    "                                    perf_metrics_dbscan_iris,\n",
    "                                    perf_metrics_agg_iris,\n",
    "                                    perf_metrics_gmm_iris], ignore_index=True)\n",
    "full_perf_metrics_iris"
   ]
  },
  {
   "cell_type": "code",
   "execution_count": 19,
   "id": "da86d75e-5ce9-433a-b188-38a9f0ce9c87",
   "metadata": {},
   "outputs": [
    {
     "data": {
      "image/png": "[encoded data removed]",
      "text/plain": [
       "<Figure size 1500x1000 with 4 Axes>"
      ]
     },
     "metadata": {},
     "output_type": "display_data"
    }
   ],
   "source": [
    "metrics = ['f1', 'ARI', 'ACC', 'NMI']\n",
    "dataset_name = full_perf_metrics_iris['dataset'].iloc[0]\n",
    "benchmark_algo = 'GIT'\n",
    "\n",
    "# Determine GIT scores for reference lines\n",
    "git_scores = full_perf_metrics_iris[full_perf_metrics_iris['Algo'] == benchmark_algo][metrics].values.flatten()\n",
    "\n",
    "# Create subplots\n",
    "fig, axs = plt.subplots(nrows=2, ncols=2, figsize=(15, 10), sharey=True)\n",
    "fig.suptitle(f'Accuracy Benchmarking - Performance Metrics Comparison for {dataset_name} Small-Scale Dataset', fontsize=16)\n",
    "\n",
    "# Plot each metric in a subplot\n",
    "for i, metric in enumerate(metrics):\n",
    "    ax = axs[i // 2, i % 2]\n",
    "    ax.bar(full_perf_metrics_iris['Algo'], full_perf_metrics_iris[metric], \n",
    "           color=['orange' if x == benchmark_algo else 'grey' for x in full_perf_metrics_iris['Algo']])\n",
    "    ax.set_title(metric)\n",
    "    ax.set_ylabel(metric)\n",
    "    ax.tick_params(axis='x', rotation=45)\n",
    "    ax.axhline(y=git_scores[i], color='r', linestyle='--', linewidth=1)\n",
    "\n",
    "plt.tight_layout(rect=[0, 0.03, 1, 0.95])\n",
    "\n",
    "# Save the figure\n",
    "plt.savefig(f'./Benchmark Figures/Accuracy Benchmarking - Performance Metrics Comparison for {dataset_name} Small-Scale Dataset.png', bbox_inches='tight')\n",
    "\n",
    "# Show plot\n",
    "plt.show()"
   ]
  },
  {
   "cell_type": "markdown",
   "id": "cb2892de-b99f-4ad3-8287-4bc75de4c1e2",
   "metadata": {},
   "source": [
    "## <center><a><span style=\"color:green\">Real Datasets - `Wine`</span></a></center>"
   ]
  },
  {
   "cell_type": "markdown",
   "id": "a69461a7-5afa-427f-a4d3-e1c45c51acd9",
   "metadata": {},
   "source": [
    "### Load the Wine data"
   ]
  },
  {
   "cell_type": "code",
   "execution_count": 20,
   "id": "10c90224-616e-4e51-b595-902d75f96206",
   "metadata": {},
   "outputs": [
    {
     "name": "stdout",
     "output_type": "stream",
     "text": [
      "The total number of Clusters in the Wine Dataset is: 3, and has 13 Features\n"
     ]
    }
   ],
   "source": [
    "X_wine, Y_wine_true = Real_DataLoader(name='wine', path=real_datasets_path).load()\n",
    "print(f'The total number of Clusters in the Wine Dataset is: {len(np.unique(Y_wine_true))}, and has {len(X_wine[0])} Features')"
   ]
  },
  {
   "cell_type": "markdown",
   "id": "499baef2-16c0-4722-bace-744433497069",
   "metadata": {},
   "source": [
    "### <span style=\"color:red\">GIT Clustring</span> <a class=\"anchor\"></a>"
   ]
  },
  {
   "cell_type": "code",
   "execution_count": 21,
   "id": "f640a944-0fe4-4366-8d46-df27743f314c",
   "metadata": {},
   "outputs": [],
   "source": [
    "from git_cluster import GIT"
   ]
  },
  {
   "cell_type": "code",
   "execution_count": 22,
   "id": "dca347c3-9ed8-4e17-9440-674e53240083",
   "metadata": {},
   "outputs": [
    {
     "data": {
      "text/html": [
       "<div>\n",
       "<style scoped>\n",
       "    .dataframe tbody tr th:only-of-type {\n",
       "        vertical-align: middle;\n",
       "    }\n",
       "\n",
       "    .dataframe tbody tr th {\n",
       "        vertical-align: top;\n",
       "    }\n",
       "\n",
       "    .dataframe thead th {\n",
       "        text-align: right;\n",
       "    }\n",
       "</style>\n",
       "<table border=\"1\" class=\"dataframe\">\n",
       "  <thead>\n",
       "    <tr style=\"text-align: right;\">\n",
       "      <th></th>\n",
       "      <th>f1</th>\n",
       "      <th>ARI</th>\n",
       "      <th>ACC</th>\n",
       "      <th>NMI</th>\n",
       "      <th>cover_rate</th>\n",
       "      <th>classes</th>\n",
       "      <th>Algo</th>\n",
       "      <th>dataset</th>\n",
       "    </tr>\n",
       "  </thead>\n",
       "  <tbody>\n",
       "    <tr>\n",
       "      <th>0</th>\n",
       "      <td>0.900735</td>\n",
       "      <td>0.713308</td>\n",
       "      <td>0.898876</td>\n",
       "      <td>0.75702</td>\n",
       "      <td>1.0</td>\n",
       "      <td>3.0</td>\n",
       "      <td>GIT</td>\n",
       "      <td>wine</td>\n",
       "    </tr>\n",
       "  </tbody>\n",
       "</table>\n",
       "</div>"
      ],
      "text/plain": [
       "         f1       ARI       ACC      NMI  cover_rate  classes Algo dataset\n",
       "0  0.900735  0.713308  0.898876  0.75702         1.0      3.0  GIT    wine"
      ]
     },
     "execution_count": 22,
     "metadata": {},
     "output_type": "execute_result"
    }
   ],
   "source": [
    "# Create an instance of the GIT clustering\n",
    "git = GIT(k=20, target_ratio=[1, 1, 1])\n",
    "\n",
    "# Apply the GIT algorithm to predict the clusters in the data\n",
    "Y_wine_pred_git = git.fit_predict(X_wine)\n",
    "\n",
    "# Calculate various clustering metrics to evaluate the performance\n",
    "perf_metrics_git_wine = measures_calculator(Y_wine_pred_git, Y_wine_true)\n",
    "\n",
    "# Store additional information about the algorithm and dataset in the result\n",
    "perf_metrics_git_wine[\"Algo\"] = git.__class__.__name__\n",
    "perf_metrics_git_wine[\"dataset\"] = \"wine\"\n",
    "\n",
    "perf_metrics_git_wine"
   ]
  },
  {
   "cell_type": "markdown",
   "id": "267517df-ab89-49a7-a1df-dddeb72f27bd",
   "metadata": {},
   "source": [
    "### <span style=\"color:red\">HDBSCAN</span> <a class=\"anchor\"></a>"
   ]
  },
  {
   "cell_type": "code",
   "execution_count": 23,
   "id": "6e3a9285-ff55-4521-80c7-5dbe6d2f41b1",
   "metadata": {},
   "outputs": [],
   "source": [
    "import hdbscan"
   ]
  },
  {
   "cell_type": "code",
   "execution_count": 24,
   "id": "20a2ee4a-07a1-4331-9853-5e2b9a1fb5ca",
   "metadata": {},
   "outputs": [
    {
     "data": {
      "text/html": [
       "<div>\n",
       "<style scoped>\n",
       "    .dataframe tbody tr th:only-of-type {\n",
       "        vertical-align: middle;\n",
       "    }\n",
       "\n",
       "    .dataframe tbody tr th {\n",
       "        vertical-align: top;\n",
       "    }\n",
       "\n",
       "    .dataframe thead th {\n",
       "        text-align: right;\n",
       "    }\n",
       "</style>\n",
       "<table border=\"1\" class=\"dataframe\">\n",
       "  <thead>\n",
       "    <tr style=\"text-align: right;\">\n",
       "      <th></th>\n",
       "      <th>f1</th>\n",
       "      <th>ARI</th>\n",
       "      <th>ACC</th>\n",
       "      <th>NMI</th>\n",
       "      <th>cover_rate</th>\n",
       "      <th>classes</th>\n",
       "      <th>Algo</th>\n",
       "      <th>dataset</th>\n",
       "    </tr>\n",
       "  </thead>\n",
       "  <tbody>\n",
       "    <tr>\n",
       "      <th>0</th>\n",
       "      <td>0.678477</td>\n",
       "      <td>0.29075</td>\n",
       "      <td>0.606742</td>\n",
       "      <td>0.402635</td>\n",
       "      <td>1.0</td>\n",
       "      <td>3.0</td>\n",
       "      <td>HDBSCAN</td>\n",
       "      <td>wine</td>\n",
       "    </tr>\n",
       "  </tbody>\n",
       "</table>\n",
       "</div>"
      ],
      "text/plain": [
       "         f1      ARI       ACC       NMI  cover_rate  classes     Algo dataset\n",
       "0  0.678477  0.29075  0.606742  0.402635         1.0      3.0  HDBSCAN    wine"
      ]
     },
     "execution_count": 24,
     "metadata": {},
     "output_type": "execute_result"
    }
   ],
   "source": [
    "# Create an instance of the HDBSCAN clustering\n",
    "hdbscan = hdbscan.HDBSCAN(min_cluster_size=20, min_samples=2, gen_min_span_tree=True)\n",
    "\n",
    "# Apply the HDBSCAN algorithm to predict the clusters in the data\n",
    "hdbscan.fit(X_wine)\n",
    "\n",
    "# Get the predicted Clusters\n",
    "Y_wine_pred_hdbscan = hdbscan.labels_\n",
    "\n",
    "# Calculate various clustering metrics to evaluate the performance\n",
    "perf_metrics_hdbscan_wine = measures_calculator(Y_wine_pred_hdbscan, Y_wine_true)\n",
    "\n",
    "# Store additional information about the algorithm and dataset in the result\n",
    "perf_metrics_hdbscan_wine[\"Algo\"] = hdbscan.__class__.__name__\n",
    "perf_metrics_hdbscan_wine[\"dataset\"] = \"wine\"\n",
    "\n",
    "perf_metrics_hdbscan_wine"
   ]
  },
  {
   "cell_type": "markdown",
   "id": "305f5b0e-81ea-43c0-97be-a328bbd9532d",
   "metadata": {},
   "source": [
    "### <span style=\"color:red\">Spectral Clustering</span> <a class=\"anchor\"></a>"
   ]
  },
  {
   "cell_type": "code",
   "execution_count": 25,
   "id": "6bc1fcc9-2229-4a75-8b3b-3d75361ff962",
   "metadata": {},
   "outputs": [],
   "source": [
    "from sklearn.cluster import SpectralClustering"
   ]
  },
  {
   "cell_type": "code",
   "execution_count": 26,
   "id": "394c5613-98db-4b2d-9205-4a5290c63ded",
   "metadata": {},
   "outputs": [
    {
     "data": {
      "text/html": [
       "<div>\n",
       "<style scoped>\n",
       "    .dataframe tbody tr th:only-of-type {\n",
       "        vertical-align: middle;\n",
       "    }\n",
       "\n",
       "    .dataframe tbody tr th {\n",
       "        vertical-align: top;\n",
       "    }\n",
       "\n",
       "    .dataframe thead th {\n",
       "        text-align: right;\n",
       "    }\n",
       "</style>\n",
       "<table border=\"1\" class=\"dataframe\">\n",
       "  <thead>\n",
       "    <tr style=\"text-align: right;\">\n",
       "      <th></th>\n",
       "      <th>f1</th>\n",
       "      <th>ARI</th>\n",
       "      <th>ACC</th>\n",
       "      <th>NMI</th>\n",
       "      <th>cover_rate</th>\n",
       "      <th>classes</th>\n",
       "      <th>Algo</th>\n",
       "      <th>dataset</th>\n",
       "    </tr>\n",
       "  </thead>\n",
       "  <tbody>\n",
       "    <tr>\n",
       "      <th>0</th>\n",
       "      <td>0.466706</td>\n",
       "      <td>0.01346</td>\n",
       "      <td>0.432584</td>\n",
       "      <td>0.014041</td>\n",
       "      <td>1.0</td>\n",
       "      <td>3.0</td>\n",
       "      <td>SpectralClustering</td>\n",
       "      <td>wine</td>\n",
       "    </tr>\n",
       "  </tbody>\n",
       "</table>\n",
       "</div>"
      ],
      "text/plain": [
       "         f1      ARI       ACC       NMI  cover_rate  classes  \\\n",
       "0  0.466706  0.01346  0.432584  0.014041         1.0      3.0   \n",
       "\n",
       "                 Algo dataset  \n",
       "0  SpectralClustering    wine  "
      ]
     },
     "execution_count": 26,
     "metadata": {},
     "output_type": "execute_result"
    }
   ],
   "source": [
    "# Create an instance of the Spectral Clustering algorithm \n",
    "spectral_clustering = SpectralClustering(n_clusters=3, assign_labels=\"discretize\", \n",
    "                                         random_state=0, affinity='rbf')\n",
    "\n",
    "# Apply the Spectral Clustering algorithm to predict the clusters in the data\n",
    "spectral_clustering.fit(X_wine)\n",
    "\n",
    "# Get the predicted Clusters\n",
    "Y_wine_pred_speclustr = spectral_clustering.labels_\n",
    "\n",
    "# Calculate various clustering metrics to evaluate the performance\n",
    "perf_metrics_speclustr_wine = measures_calculator(Y_wine_pred_speclustr, Y_wine_true)\n",
    "\n",
    "# Store additional information about the algorithm and dataset in the result\n",
    "perf_metrics_speclustr_wine[\"Algo\"] = spectral_clustering.__class__.__name__\n",
    "perf_metrics_speclustr_wine[\"dataset\"] = \"wine\"\n",
    "\n",
    "perf_metrics_speclustr_wine"
   ]
  },
  {
   "cell_type": "markdown",
   "id": "a09354ac-00ea-4978-bae2-33bf3ed0ecb0",
   "metadata": {},
   "source": [
    "### <span style=\"color:red\">K-Means</span> <a class=\"anchor\"></a>"
   ]
  },
  {
   "cell_type": "code",
   "execution_count": 27,
   "id": "9b66de66-033f-443b-8709-b59b42a3458d",
   "metadata": {},
   "outputs": [],
   "source": [
    "from sklearn.cluster import KMeans"
   ]
  },
  {
   "cell_type": "code",
   "execution_count": 28,
   "id": "dadb86b2-0b2f-4c7c-9463-64988d1baf0b",
   "metadata": {},
   "outputs": [
    {
     "data": {
      "text/html": [
       "<div>\n",
       "<style scoped>\n",
       "    .dataframe tbody tr th:only-of-type {\n",
       "        vertical-align: middle;\n",
       "    }\n",
       "\n",
       "    .dataframe tbody tr th {\n",
       "        vertical-align: top;\n",
       "    }\n",
       "\n",
       "    .dataframe thead th {\n",
       "        text-align: right;\n",
       "    }\n",
       "</style>\n",
       "<table border=\"1\" class=\"dataframe\">\n",
       "  <thead>\n",
       "    <tr style=\"text-align: right;\">\n",
       "      <th></th>\n",
       "      <th>f1</th>\n",
       "      <th>ARI</th>\n",
       "      <th>ACC</th>\n",
       "      <th>NMI</th>\n",
       "      <th>cover_rate</th>\n",
       "      <th>classes</th>\n",
       "      <th>Algo</th>\n",
       "      <th>dataset</th>\n",
       "    </tr>\n",
       "  </thead>\n",
       "  <tbody>\n",
       "    <tr>\n",
       "      <th>0</th>\n",
       "      <td>0.689714</td>\n",
       "      <td>0.371114</td>\n",
       "      <td>0.702247</td>\n",
       "      <td>0.428757</td>\n",
       "      <td>1.0</td>\n",
       "      <td>3.0</td>\n",
       "      <td>KMeans</td>\n",
       "      <td>wine</td>\n",
       "    </tr>\n",
       "  </tbody>\n",
       "</table>\n",
       "</div>"
      ],
      "text/plain": [
       "         f1       ARI       ACC       NMI  cover_rate  classes    Algo dataset\n",
       "0  0.689714  0.371114  0.702247  0.428757         1.0      3.0  KMeans    wine"
      ]
     },
     "execution_count": 28,
     "metadata": {},
     "output_type": "execute_result"
    }
   ],
   "source": [
    "# Create an instance of the K-means algorithm \n",
    "kmeans = KMeans(n_clusters=3, random_state=0)\n",
    "\n",
    "# Apply the K-means algorithm to predict the clusters in the data\n",
    "kmeans.fit(X_wine)\n",
    "\n",
    "# Get the predicted Clusters\n",
    "Y_wine_pred_kmeans = kmeans.labels_\n",
    "\n",
    "# Calculate various clustering metrics to evaluate the performance\n",
    "perf_metrics_kmeans_wine = measures_calculator(Y_wine_pred_kmeans, Y_wine_true)\n",
    "\n",
    "# Store additional information about the algorithm and dataset in the result\n",
    "perf_metrics_kmeans_wine[\"Algo\"] = kmeans.__class__.__name__\n",
    "perf_metrics_kmeans_wine[\"dataset\"] = \"wine\"\n",
    "\n",
    "perf_metrics_kmeans_wine"
   ]
  },
  {
   "cell_type": "markdown",
   "id": "5523abc9-1314-4998-a28e-6488ac2066bd",
   "metadata": {},
   "source": [
    "### <span style=\"color:red\">DBSCAN</span> <a class=\"anchor\"></a>"
   ]
  },
  {
   "cell_type": "code",
   "execution_count": 29,
   "id": "4008d17b-814c-475a-8ac4-3b28fc2b6dd7",
   "metadata": {},
   "outputs": [],
   "source": [
    "from sklearn.cluster import DBSCAN"
   ]
  },
  {
   "cell_type": "code",
   "execution_count": 30,
   "id": "61c9d902-c659-40f2-be78-e057c5fb0611",
   "metadata": {},
   "outputs": [
    {
     "data": {
      "text/html": [
       "<div>\n",
       "<style scoped>\n",
       "    .dataframe tbody tr th:only-of-type {\n",
       "        vertical-align: middle;\n",
       "    }\n",
       "\n",
       "    .dataframe tbody tr th {\n",
       "        vertical-align: top;\n",
       "    }\n",
       "\n",
       "    .dataframe thead th {\n",
       "        text-align: right;\n",
       "    }\n",
       "</style>\n",
       "<table border=\"1\" class=\"dataframe\">\n",
       "  <thead>\n",
       "    <tr style=\"text-align: right;\">\n",
       "      <th></th>\n",
       "      <th>f1</th>\n",
       "      <th>ARI</th>\n",
       "      <th>ACC</th>\n",
       "      <th>NMI</th>\n",
       "      <th>cover_rate</th>\n",
       "      <th>classes</th>\n",
       "      <th>Algo</th>\n",
       "      <th>dataset</th>\n",
       "    </tr>\n",
       "  </thead>\n",
       "  <tbody>\n",
       "    <tr>\n",
       "      <th>0</th>\n",
       "      <td>0.570281</td>\n",
       "      <td>0.0</td>\n",
       "      <td>0.398876</td>\n",
       "      <td>0.0</td>\n",
       "      <td>1.0</td>\n",
       "      <td>3.0</td>\n",
       "      <td>DBSCAN</td>\n",
       "      <td>wine</td>\n",
       "    </tr>\n",
       "  </tbody>\n",
       "</table>\n",
       "</div>"
      ],
      "text/plain": [
       "         f1  ARI       ACC  NMI  cover_rate  classes    Algo dataset\n",
       "0  0.570281  0.0  0.398876  0.0         1.0      3.0  DBSCAN    wine"
      ]
     },
     "execution_count": 30,
     "metadata": {},
     "output_type": "execute_result"
    }
   ],
   "source": [
    "# Create an instance of the DBSCAN algorithm\n",
    "dbscan = DBSCAN(eps=0.5, min_samples=5)\n",
    "\n",
    "# Apply the DBSCAN algorithm to predict the clusters in the data\n",
    "Y_wine_pred_dbscan = dbscan.fit_predict(X_wine)\n",
    "\n",
    "# Calculate various clustering metrics to evaluate the performance\n",
    "perf_metrics_dbscan_wine = measures_calculator(Y_wine_pred_dbscan, Y_wine_true)\n",
    "\n",
    "# Store additional information about the algorithm and dataset in the result\n",
    "perf_metrics_dbscan_wine[\"Algo\"] = dbscan.__class__.__name__\n",
    "perf_metrics_dbscan_wine[\"dataset\"] = \"wine\"\n",
    "\n",
    "perf_metrics_dbscan_wine"
   ]
  },
  {
   "cell_type": "markdown",
   "id": "fd73848e-fcad-47fe-b5de-d12b726c70b6",
   "metadata": {},
   "source": [
    "### <span style=\"color:red\">Agglomerative Clustering</span> <a class=\"anchor\"></a>"
   ]
  },
  {
   "cell_type": "code",
   "execution_count": 31,
   "id": "90bfe9bc-87f4-4413-907c-852c77efa39a",
   "metadata": {},
   "outputs": [],
   "source": [
    "from sklearn.cluster import AgglomerativeClustering"
   ]
  },
  {
   "cell_type": "code",
   "execution_count": 32,
   "id": "1604aea1-1d51-494a-bf3c-b5103ed354f4",
   "metadata": {},
   "outputs": [
    {
     "data": {
      "text/html": [
       "<div>\n",
       "<style scoped>\n",
       "    .dataframe tbody tr th:only-of-type {\n",
       "        vertical-align: middle;\n",
       "    }\n",
       "\n",
       "    .dataframe tbody tr th {\n",
       "        vertical-align: top;\n",
       "    }\n",
       "\n",
       "    .dataframe thead th {\n",
       "        text-align: right;\n",
       "    }\n",
       "</style>\n",
       "<table border=\"1\" class=\"dataframe\">\n",
       "  <thead>\n",
       "    <tr style=\"text-align: right;\">\n",
       "      <th></th>\n",
       "      <th>f1</th>\n",
       "      <th>ARI</th>\n",
       "      <th>ACC</th>\n",
       "      <th>NMI</th>\n",
       "      <th>cover_rate</th>\n",
       "      <th>classes</th>\n",
       "      <th>Algo</th>\n",
       "      <th>dataset</th>\n",
       "    </tr>\n",
       "  </thead>\n",
       "  <tbody>\n",
       "    <tr>\n",
       "      <th>0</th>\n",
       "      <td>0.686376</td>\n",
       "      <td>0.368402</td>\n",
       "      <td>0.696629</td>\n",
       "      <td>0.416077</td>\n",
       "      <td>1.0</td>\n",
       "      <td>3.0</td>\n",
       "      <td>AgglomerativeClustering</td>\n",
       "      <td>wine</td>\n",
       "    </tr>\n",
       "  </tbody>\n",
       "</table>\n",
       "</div>"
      ],
      "text/plain": [
       "         f1       ARI       ACC       NMI  cover_rate  classes  \\\n",
       "0  0.686376  0.368402  0.696629  0.416077         1.0      3.0   \n",
       "\n",
       "                      Algo dataset  \n",
       "0  AgglomerativeClustering    wine  "
      ]
     },
     "execution_count": 32,
     "metadata": {},
     "output_type": "execute_result"
    }
   ],
   "source": [
    "# Create an instance of the Agglomerative Clustering algorithm\n",
    "agg_clustering = AgglomerativeClustering(n_clusters=3)\n",
    "\n",
    "# Apply the Agglomerative Clustering algorithm to predict the clusters in the data\n",
    "Y_wine_pred_agg = agg_clustering.fit_predict(X_wine)\n",
    "\n",
    "# Calculate various clustering metrics to evaluate the performance\n",
    "perf_metrics_agg_wine = measures_calculator(Y_wine_pred_agg, Y_wine_true)\n",
    "\n",
    "# Store additional information about the algorithm and dataset in the result\n",
    "perf_metrics_agg_wine[\"Algo\"] = agg_clustering.__class__.__name__\n",
    "perf_metrics_agg_wine[\"dataset\"] = \"wine\"\n",
    "\n",
    "perf_metrics_agg_wine"
   ]
  },
  {
   "cell_type": "markdown",
   "id": "c54b1bd7-9ea9-48c6-956f-9c391ed3ccc5",
   "metadata": {},
   "source": [
    "### <span style=\"color:red\">Gaussian Mixture Models (GMM)</span> <a class=\"anchor\"></a>"
   ]
  },
  {
   "cell_type": "code",
   "execution_count": 33,
   "id": "623f837a-a120-4230-9e6a-c929cd3fcf39",
   "metadata": {},
   "outputs": [],
   "source": [
    "from sklearn.mixture import GaussianMixture"
   ]
  },
  {
   "cell_type": "code",
   "execution_count": 34,
   "id": "752a7082-ed12-4f57-934d-3a4d573690e8",
   "metadata": {},
   "outputs": [
    {
     "data": {
      "text/html": [
       "<div>\n",
       "<style scoped>\n",
       "    .dataframe tbody tr th:only-of-type {\n",
       "        vertical-align: middle;\n",
       "    }\n",
       "\n",
       "    .dataframe tbody tr th {\n",
       "        vertical-align: top;\n",
       "    }\n",
       "\n",
       "    .dataframe thead th {\n",
       "        text-align: right;\n",
       "    }\n",
       "</style>\n",
       "<table border=\"1\" class=\"dataframe\">\n",
       "  <thead>\n",
       "    <tr style=\"text-align: right;\">\n",
       "      <th></th>\n",
       "      <th>f1</th>\n",
       "      <th>ARI</th>\n",
       "      <th>ACC</th>\n",
       "      <th>NMI</th>\n",
       "      <th>cover_rate</th>\n",
       "      <th>classes</th>\n",
       "      <th>Algo</th>\n",
       "      <th>dataset</th>\n",
       "    </tr>\n",
       "  </thead>\n",
       "  <tbody>\n",
       "    <tr>\n",
       "      <th>0</th>\n",
       "      <td>0.848792</td>\n",
       "      <td>0.607484</td>\n",
       "      <td>0.848315</td>\n",
       "      <td>0.582343</td>\n",
       "      <td>1.0</td>\n",
       "      <td>3.0</td>\n",
       "      <td>GaussianMixture</td>\n",
       "      <td>wine</td>\n",
       "    </tr>\n",
       "  </tbody>\n",
       "</table>\n",
       "</div>"
      ],
      "text/plain": [
       "         f1       ARI       ACC       NMI  cover_rate  classes  \\\n",
       "0  0.848792  0.607484  0.848315  0.582343         1.0      3.0   \n",
       "\n",
       "              Algo dataset  \n",
       "0  GaussianMixture    wine  "
      ]
     },
     "execution_count": 34,
     "metadata": {},
     "output_type": "execute_result"
    }
   ],
   "source": [
    "# Create an instance of the Gaussian Mixture Models algorithm\n",
    "gmm = GaussianMixture(n_components=3, random_state=0)\n",
    "\n",
    "# Fit the Gaussian Mixture Models algorithm to the data and predict the clusters\n",
    "gmm.fit(X_wine)\n",
    "Y_wine_pred_gmm = gmm.predict(X_wine)\n",
    "\n",
    "# Calculate various clustering metrics to evaluate the performance\n",
    "perf_metrics_gmm_wine = measures_calculator(Y_wine_pred_gmm, Y_wine_true)\n",
    "\n",
    "# Store additional information about the algorithm and dataset in the result\n",
    "perf_metrics_gmm_wine[\"Algo\"] = gmm.__class__.__name__\n",
    "perf_metrics_gmm_wine[\"dataset\"] = \"wine\"\n",
    "\n",
    "perf_metrics_gmm_wine"
   ]
  },
  {
   "cell_type": "markdown",
   "id": "c380e73e-8b7f-43b5-86d6-74b1314a9770",
   "metadata": {},
   "source": [
    "### <span style=\"color:blue\">Benchmark Results</span> <a class=\"anchor\"></a>"
   ]
  },
  {
   "cell_type": "code",
   "execution_count": 35,
   "id": "91ecfd0a-ef8e-4caa-8b09-5860b2d37730",
   "metadata": {},
   "outputs": [
    {
     "data": {
      "text/html": [
       "<div>\n",
       "<style scoped>\n",
       "    .dataframe tbody tr th:only-of-type {\n",
       "        vertical-align: middle;\n",
       "    }\n",
       "\n",
       "    .dataframe tbody tr th {\n",
       "        vertical-align: top;\n",
       "    }\n",
       "\n",
       "    .dataframe thead th {\n",
       "        text-align: right;\n",
       "    }\n",
       "</style>\n",
       "<table border=\"1\" class=\"dataframe\">\n",
       "  <thead>\n",
       "    <tr style=\"text-align: right;\">\n",
       "      <th></th>\n",
       "      <th>f1</th>\n",
       "      <th>ARI</th>\n",
       "      <th>ACC</th>\n",
       "      <th>NMI</th>\n",
       "      <th>cover_rate</th>\n",
       "      <th>classes</th>\n",
       "      <th>Algo</th>\n",
       "      <th>dataset</th>\n",
       "    </tr>\n",
       "  </thead>\n",
       "  <tbody>\n",
       "    <tr>\n",
       "      <th>0</th>\n",
       "      <td>0.900735</td>\n",
       "      <td>0.713308</td>\n",
       "      <td>0.898876</td>\n",
       "      <td>0.757020</td>\n",
       "      <td>1.0</td>\n",
       "      <td>3.0</td>\n",
       "      <td>GIT</td>\n",
       "      <td>wine</td>\n",
       "    </tr>\n",
       "    <tr>\n",
       "      <th>1</th>\n",
       "      <td>0.678477</td>\n",
       "      <td>0.290750</td>\n",
       "      <td>0.606742</td>\n",
       "      <td>0.402635</td>\n",
       "      <td>1.0</td>\n",
       "      <td>3.0</td>\n",
       "      <td>HDBSCAN</td>\n",
       "      <td>wine</td>\n",
       "    </tr>\n",
       "    <tr>\n",
       "      <th>2</th>\n",
       "      <td>0.466706</td>\n",
       "      <td>0.013460</td>\n",
       "      <td>0.432584</td>\n",
       "      <td>0.014041</td>\n",
       "      <td>1.0</td>\n",
       "      <td>3.0</td>\n",
       "      <td>SpectralClustering</td>\n",
       "      <td>wine</td>\n",
       "    </tr>\n",
       "    <tr>\n",
       "      <th>3</th>\n",
       "      <td>0.689714</td>\n",
       "      <td>0.371114</td>\n",
       "      <td>0.702247</td>\n",
       "      <td>0.428757</td>\n",
       "      <td>1.0</td>\n",
       "      <td>3.0</td>\n",
       "      <td>KMeans</td>\n",
       "      <td>wine</td>\n",
       "    </tr>\n",
       "    <tr>\n",
       "      <th>4</th>\n",
       "      <td>0.570281</td>\n",
       "      <td>0.000000</td>\n",
       "      <td>0.398876</td>\n",
       "      <td>0.000000</td>\n",
       "      <td>1.0</td>\n",
       "      <td>3.0</td>\n",
       "      <td>DBSCAN</td>\n",
       "      <td>wine</td>\n",
       "    </tr>\n",
       "    <tr>\n",
       "      <th>5</th>\n",
       "      <td>0.686376</td>\n",
       "      <td>0.368402</td>\n",
       "      <td>0.696629</td>\n",
       "      <td>0.416077</td>\n",
       "      <td>1.0</td>\n",
       "      <td>3.0</td>\n",
       "      <td>AgglomerativeClustering</td>\n",
       "      <td>wine</td>\n",
       "    </tr>\n",
       "    <tr>\n",
       "      <th>6</th>\n",
       "      <td>0.848792</td>\n",
       "      <td>0.607484</td>\n",
       "      <td>0.848315</td>\n",
       "      <td>0.582343</td>\n",
       "      <td>1.0</td>\n",
       "      <td>3.0</td>\n",
       "      <td>GaussianMixture</td>\n",
       "      <td>wine</td>\n",
       "    </tr>\n",
       "  </tbody>\n",
       "</table>\n",
       "</div>"
      ],
      "text/plain": [
       "         f1       ARI       ACC       NMI  cover_rate  classes  \\\n",
       "0  0.900735  0.713308  0.898876  0.757020         1.0      3.0   \n",
       "1  0.678477  0.290750  0.606742  0.402635         1.0      3.0   \n",
       "2  0.466706  0.013460  0.432584  0.014041         1.0      3.0   \n",
       "3  0.689714  0.371114  0.702247  0.428757         1.0      3.0   \n",
       "4  0.570281  0.000000  0.398876  0.000000         1.0      3.0   \n",
       "5  0.686376  0.368402  0.696629  0.416077         1.0      3.0   \n",
       "6  0.848792  0.607484  0.848315  0.582343         1.0      3.0   \n",
       "\n",
       "                      Algo dataset  \n",
       "0                      GIT    wine  \n",
       "1                  HDBSCAN    wine  \n",
       "2       SpectralClustering    wine  \n",
       "3                   KMeans    wine  \n",
       "4                   DBSCAN    wine  \n",
       "5  AgglomerativeClustering    wine  \n",
       "6          GaussianMixture    wine  "
      ]
     },
     "execution_count": 35,
     "metadata": {},
     "output_type": "execute_result"
    }
   ],
   "source": [
    "full_perf_metrics_wine = pd.concat([perf_metrics_git_wine, \n",
    "                                    perf_metrics_hdbscan_wine,\n",
    "                                    perf_metrics_speclustr_wine,\n",
    "                                    perf_metrics_kmeans_wine,\n",
    "                                    perf_metrics_dbscan_wine,\n",
    "                                    perf_metrics_agg_wine,\n",
    "                                    perf_metrics_gmm_wine], ignore_index=True)\n",
    "full_perf_metrics_wine"
   ]
  },
  {
   "cell_type": "code",
   "execution_count": 36,
   "id": "2a4c9d6f-b636-4cb0-976d-636882e70537",
   "metadata": {},
   "outputs": [
    {
     "data": {
      "image/png": "[encoded data removed]",
      "text/plain": [
       "<Figure size 1500x1000 with 4 Axes>"
      ]
     },
     "metadata": {},
     "output_type": "display_data"
    }
   ],
   "source": [
    "metrics = ['f1', 'ARI', 'ACC', 'NMI']\n",
    "dataset_name = full_perf_metrics_wine['dataset'].iloc[0]\n",
    "benchmark_algo = 'GIT'\n",
    "\n",
    "# Determine GIT scores for reference lines\n",
    "git_scores = full_perf_metrics_wine[full_perf_metrics_wine['Algo'] == benchmark_algo][metrics].values.flatten()\n",
    "\n",
    "# Create subplots\n",
    "fig, axs = plt.subplots(nrows=2, ncols=2, figsize=(15, 10), sharey=True)\n",
    "fig.suptitle(f'Accuracy Benchmarking - Performance Metrics Comparison for {dataset_name} Small-Scale Dataset', fontsize=16)\n",
    "\n",
    "# Plot each metric in a subplot\n",
    "for i, metric in enumerate(metrics):\n",
    "    ax = axs[i // 2, i % 2]\n",
    "    ax.bar(full_perf_metrics_wine['Algo'], full_perf_metrics_wine[metric], \n",
    "           color=['orange' if x == benchmark_algo else 'grey' for x in full_perf_metrics_wine['Algo']])\n",
    "    ax.set_title(metric)\n",
    "    ax.set_ylabel(metric)\n",
    "    ax.tick_params(axis='x', rotation=45)\n",
    "    ax.axhline(y=git_scores[i], color='r', linestyle='--', linewidth=1)\n",
    "\n",
    "plt.tight_layout(rect=[0, 0.03, 1, 0.95])\n",
    "\n",
    "# Save the figure\n",
    "plt.savefig(f'./Benchmark Figures/Accuracy Benchmarking - Performance Metrics Comparison for {dataset_name} Small-Scale Dataset.png', bbox_inches='tight')\n",
    "\n",
    "# Show plot\n",
    "plt.show()"
   ]
  },
  {
   "cell_type": "markdown",
   "id": "210e4203-56dd-45bd-b00a-620d03f64185",
   "metadata": {},
   "source": [
    "## <center><a><span style=\"color:green\">Real Datasets - `Breast Cancer`</span></a></center>"
   ]
  },
  {
   "cell_type": "markdown",
   "id": "1f383d88-abc5-43c5-8ff0-ae24cf856fcf",
   "metadata": {},
   "source": [
    "### Load the Breast Cancer data"
   ]
  },
  {
   "cell_type": "code",
   "execution_count": 37,
   "id": "e6348efb-2b44-42bb-a86c-bfaa55cf3d9d",
   "metadata": {},
   "outputs": [
    {
     "name": "stdout",
     "output_type": "stream",
     "text": [
      "The total number of Clusters in the Breast Cancer Dataset is: 2, and has 30 Features\n"
     ]
    }
   ],
   "source": [
    "X_bc, Y_bc_true = Real_DataLoader(name='breast_cancer', path=real_datasets_path).load()\n",
    "print(f'The total number of Clusters in the Breast Cancer Dataset is: {len(np.unique(Y_bc_true))}, and has {len(X_bc[0])} Features')"
   ]
  },
  {
   "cell_type": "markdown",
   "id": "86ebf25d-0223-45dc-bf94-2c8dc9c980ea",
   "metadata": {},
   "source": [
    "### <span style=\"color:red\">GIT Clustring</span> <a class=\"anchor\"></a>"
   ]
  },
  {
   "cell_type": "code",
   "execution_count": 38,
   "id": "2f12fdd9-895c-466e-a03c-1880fd6336ae",
   "metadata": {},
   "outputs": [],
   "source": [
    "from git_cluster import GIT"
   ]
  },
  {
   "cell_type": "code",
   "execution_count": 39,
   "id": "59b8856d-3d02-41c1-9868-eeb981f60aeb",
   "metadata": {},
   "outputs": [
    {
     "data": {
      "text/html": [
       "<div>\n",
       "<style scoped>\n",
       "    .dataframe tbody tr th:only-of-type {\n",
       "        vertical-align: middle;\n",
       "    }\n",
       "\n",
       "    .dataframe tbody tr th {\n",
       "        vertical-align: top;\n",
       "    }\n",
       "\n",
       "    .dataframe thead th {\n",
       "        text-align: right;\n",
       "    }\n",
       "</style>\n",
       "<table border=\"1\" class=\"dataframe\">\n",
       "  <thead>\n",
       "    <tr style=\"text-align: right;\">\n",
       "      <th></th>\n",
       "      <th>f1</th>\n",
       "      <th>ARI</th>\n",
       "      <th>ACC</th>\n",
       "      <th>NMI</th>\n",
       "      <th>cover_rate</th>\n",
       "      <th>classes</th>\n",
       "      <th>Algo</th>\n",
       "      <th>dataset</th>\n",
       "    </tr>\n",
       "  </thead>\n",
       "  <tbody>\n",
       "    <tr>\n",
       "      <th>0</th>\n",
       "      <td>0.929613</td>\n",
       "      <td>0.729563</td>\n",
       "      <td>0.927944</td>\n",
       "      <td>0.653727</td>\n",
       "      <td>1.0</td>\n",
       "      <td>2.0</td>\n",
       "      <td>GIT</td>\n",
       "      <td>breast_cancer</td>\n",
       "    </tr>\n",
       "  </tbody>\n",
       "</table>\n",
       "</div>"
      ],
      "text/plain": [
       "         f1       ARI       ACC       NMI  cover_rate  classes Algo  \\\n",
       "0  0.929613  0.729563  0.927944  0.653727         1.0      2.0  GIT   \n",
       "\n",
       "         dataset  \n",
       "0  breast_cancer  "
      ]
     },
     "execution_count": 39,
     "metadata": {},
     "output_type": "execute_result"
    }
   ],
   "source": [
    "# Create an instance of the GIT clustering\n",
    "git = GIT(k=12, target_ratio=[1, 1])\n",
    "\n",
    "# Apply the GIT algorithm to predict the clusters in the data\n",
    "Y_bc_pred_git = git.fit_predict(X_bc)\n",
    "\n",
    "# Calculate various clustering metrics to evaluate the performance\n",
    "perf_metrics_git_bc = measures_calculator(Y_bc_pred_git, Y_bc_true)\n",
    "\n",
    "# Store additional information about the algorithm and dataset in the result\n",
    "perf_metrics_git_bc[\"Algo\"] = git.__class__.__name__\n",
    "perf_metrics_git_bc[\"dataset\"] = \"breast_cancer\"\n",
    "\n",
    "perf_metrics_git_bc"
   ]
  },
  {
   "cell_type": "markdown",
   "id": "c9dde5ae-88e4-433e-a2e4-e2dc0a312758",
   "metadata": {},
   "source": [
    "### <span style=\"color:red\">HDBSCAN</span> <a class=\"anchor\"></a>"
   ]
  },
  {
   "cell_type": "code",
   "execution_count": 40,
   "id": "52bb7bc0-32c8-424b-8ccf-5c06e76eeae1",
   "metadata": {},
   "outputs": [],
   "source": [
    "import hdbscan"
   ]
  },
  {
   "cell_type": "code",
   "execution_count": 41,
   "id": "1c33924a-bd50-4f6a-a129-5afec362e1bd",
   "metadata": {},
   "outputs": [
    {
     "data": {
      "text/html": [
       "<div>\n",
       "<style scoped>\n",
       "    .dataframe tbody tr th:only-of-type {\n",
       "        vertical-align: middle;\n",
       "    }\n",
       "\n",
       "    .dataframe tbody tr th {\n",
       "        vertical-align: top;\n",
       "    }\n",
       "\n",
       "    .dataframe thead th {\n",
       "        text-align: right;\n",
       "    }\n",
       "</style>\n",
       "<table border=\"1\" class=\"dataframe\">\n",
       "  <thead>\n",
       "    <tr style=\"text-align: right;\">\n",
       "      <th></th>\n",
       "      <th>f1</th>\n",
       "      <th>ARI</th>\n",
       "      <th>ACC</th>\n",
       "      <th>NMI</th>\n",
       "      <th>cover_rate</th>\n",
       "      <th>classes</th>\n",
       "      <th>Algo</th>\n",
       "      <th>dataset</th>\n",
       "    </tr>\n",
       "  </thead>\n",
       "  <tbody>\n",
       "    <tr>\n",
       "      <th>0</th>\n",
       "      <td>0.793728</td>\n",
       "      <td>0.518033</td>\n",
       "      <td>0.804921</td>\n",
       "      <td>0.443086</td>\n",
       "      <td>1.0</td>\n",
       "      <td>2.0</td>\n",
       "      <td>HDBSCAN</td>\n",
       "      <td>breast_cancer</td>\n",
       "    </tr>\n",
       "  </tbody>\n",
       "</table>\n",
       "</div>"
      ],
      "text/plain": [
       "         f1       ARI       ACC       NMI  cover_rate  classes     Algo  \\\n",
       "0  0.793728  0.518033  0.804921  0.443086         1.0      2.0  HDBSCAN   \n",
       "\n",
       "         dataset  \n",
       "0  breast_cancer  "
      ]
     },
     "execution_count": 41,
     "metadata": {},
     "output_type": "execute_result"
    }
   ],
   "source": [
    "# Create an instance of the HDBSCAN clustering\n",
    "hdbscan = hdbscan.HDBSCAN(min_cluster_size=10, \n",
    "                          min_samples=10, \n",
    "                          gen_min_span_tree=True)\n",
    "\n",
    "# Apply the HDBSCAN algorithm to predict the clusters in the data\n",
    "hdbscan.fit(X_bc)\n",
    "\n",
    "# Get the predicted Clusters\n",
    "Y_bc_pred_hdbscan = hdbscan.labels_\n",
    "\n",
    "# Calculate various clustering metrics to evaluate the performance\n",
    "perf_metrics_hdbscan_bc = measures_calculator(Y_bc_pred_hdbscan, Y_bc_true)\n",
    "\n",
    "# Store additional information about the algorithm and dataset in the result\n",
    "perf_metrics_hdbscan_bc[\"Algo\"] = hdbscan.__class__.__name__\n",
    "perf_metrics_hdbscan_bc[\"dataset\"] = \"breast_cancer\"\n",
    "\n",
    "perf_metrics_hdbscan_bc"
   ]
  },
  {
   "cell_type": "markdown",
   "id": "a3e07b24-0728-4457-996c-946dbee5383c",
   "metadata": {},
   "source": [
    "### <span style=\"color:red\">Spectral Clustering</span> <a class=\"anchor\"></a>"
   ]
  },
  {
   "cell_type": "code",
   "execution_count": 42,
   "id": "6c434422-c427-4788-85d3-415e8f7f287f",
   "metadata": {},
   "outputs": [],
   "source": [
    "from sklearn.cluster import SpectralClustering"
   ]
  },
  {
   "cell_type": "code",
   "execution_count": 43,
   "id": "7313c4af-fab9-458b-8602-063183e04db1",
   "metadata": {},
   "outputs": [],
   "source": [
    "# # Create an instance of the Spectral Clustering algorithm \n",
    "# spectral_clustering = SpectralClustering(n_clusters=2, assign_labels=\"discretize\", \n",
    "#                                          random_state=0, affinity='rbf')\n",
    "\n",
    "# # Apply the Spectral Clustering algorithm to predict the clusters in the data\n",
    "# spectral_clustering.fit(X_bc)\n",
    "\n",
    "# # Get the predicted Clusters\n",
    "# Y_bc_pred_speclustr = spectral_clustering.labels_\n",
    "\n",
    "# # Calculate various clustering metrics to evaluate the performance\n",
    "# perf_metrics_speclustr_bc = measures_calculator(Y_bc_pred_speclustr, Y_bc_true)\n",
    "\n",
    "# # Store additional information about the algorithm and dataset in the result\n",
    "# perf_metrics_speclustr_bc[\"Algo\"] = spectral_clustering.__class__.__name__\n",
    "# perf_metrics_speclustr_bc[\"dataset\"] = \"breast_cancer\"\n",
    "\n",
    "# perf_metrics_speclustr_bc"
   ]
  },
  {
   "cell_type": "markdown",
   "id": "1076d792-bc89-4013-8692-46203e16e576",
   "metadata": {},
   "source": [
    "### <span style=\"color:red\">K-Means</span> <a class=\"anchor\"></a>"
   ]
  },
  {
   "cell_type": "code",
   "execution_count": 44,
   "id": "3a71bf68-ab08-4649-a6b9-56cd7810cb17",
   "metadata": {},
   "outputs": [],
   "source": [
    "from sklearn.cluster import KMeans"
   ]
  },
  {
   "cell_type": "code",
   "execution_count": 45,
   "id": "5d11f4cd-3e41-481a-a840-ab6557ff4474",
   "metadata": {},
   "outputs": [
    {
     "data": {
      "text/html": [
       "<div>\n",
       "<style scoped>\n",
       "    .dataframe tbody tr th:only-of-type {\n",
       "        vertical-align: middle;\n",
       "    }\n",
       "\n",
       "    .dataframe tbody tr th {\n",
       "        vertical-align: top;\n",
       "    }\n",
       "\n",
       "    .dataframe thead th {\n",
       "        text-align: right;\n",
       "    }\n",
       "</style>\n",
       "<table border=\"1\" class=\"dataframe\">\n",
       "  <thead>\n",
       "    <tr style=\"text-align: right;\">\n",
       "      <th></th>\n",
       "      <th>f1</th>\n",
       "      <th>ARI</th>\n",
       "      <th>ACC</th>\n",
       "      <th>NMI</th>\n",
       "      <th>cover_rate</th>\n",
       "      <th>classes</th>\n",
       "      <th>Algo</th>\n",
       "      <th>dataset</th>\n",
       "    </tr>\n",
       "  </thead>\n",
       "  <tbody>\n",
       "    <tr>\n",
       "      <th>0</th>\n",
       "      <td>0.863923</td>\n",
       "      <td>0.491425</td>\n",
       "      <td>0.85413</td>\n",
       "      <td>0.464793</td>\n",
       "      <td>1.0</td>\n",
       "      <td>2.0</td>\n",
       "      <td>KMeans</td>\n",
       "      <td>breast_cancer</td>\n",
       "    </tr>\n",
       "  </tbody>\n",
       "</table>\n",
       "</div>"
      ],
      "text/plain": [
       "         f1       ARI      ACC       NMI  cover_rate  classes    Algo  \\\n",
       "0  0.863923  0.491425  0.85413  0.464793         1.0      2.0  KMeans   \n",
       "\n",
       "         dataset  \n",
       "0  breast_cancer  "
      ]
     },
     "execution_count": 45,
     "metadata": {},
     "output_type": "execute_result"
    }
   ],
   "source": [
    "# Create an instance of the K-means algorithm \n",
    "kmeans = KMeans(n_clusters=2, random_state=0)\n",
    "\n",
    "# Apply the K-means algorithm to predict the clusters in the data\n",
    "kmeans.fit(X_bc)\n",
    "\n",
    "# Get the predicted Clusters\n",
    "Y_bc_pred_kmeans = kmeans.labels_\n",
    "\n",
    "# Calculate various clustering metrics to evaluate the performance\n",
    "perf_metrics_kmeans_bc = measures_calculator(Y_bc_pred_kmeans, Y_bc_true)\n",
    "\n",
    "# Store additional information about the algorithm and dataset in the result\n",
    "perf_metrics_kmeans_bc[\"Algo\"] = kmeans.__class__.__name__\n",
    "perf_metrics_kmeans_bc[\"dataset\"] = \"breast_cancer\"\n",
    "\n",
    "perf_metrics_kmeans_bc"
   ]
  },
  {
   "cell_type": "markdown",
   "id": "2822bbd3-d8de-48e8-9005-24088a4e0091",
   "metadata": {},
   "source": [
    "### <span style=\"color:red\">DBSCAN</span> <a class=\"anchor\"></a>"
   ]
  },
  {
   "cell_type": "code",
   "execution_count": 46,
   "id": "8a1617ef-301b-46f3-bbe0-7c8842fa6286",
   "metadata": {},
   "outputs": [],
   "source": [
    "from sklearn.cluster import DBSCAN"
   ]
  },
  {
   "cell_type": "code",
   "execution_count": 47,
   "id": "d1145145-bb0f-42f4-aa28-b321a05ca340",
   "metadata": {},
   "outputs": [
    {
     "data": {
      "text/html": [
       "<div>\n",
       "<style scoped>\n",
       "    .dataframe tbody tr th:only-of-type {\n",
       "        vertical-align: middle;\n",
       "    }\n",
       "\n",
       "    .dataframe tbody tr th {\n",
       "        vertical-align: top;\n",
       "    }\n",
       "\n",
       "    .dataframe thead th {\n",
       "        text-align: right;\n",
       "    }\n",
       "</style>\n",
       "<table border=\"1\" class=\"dataframe\">\n",
       "  <thead>\n",
       "    <tr style=\"text-align: right;\">\n",
       "      <th></th>\n",
       "      <th>f1</th>\n",
       "      <th>ARI</th>\n",
       "      <th>ACC</th>\n",
       "      <th>NMI</th>\n",
       "      <th>cover_rate</th>\n",
       "      <th>classes</th>\n",
       "      <th>Algo</th>\n",
       "      <th>dataset</th>\n",
       "    </tr>\n",
       "  </thead>\n",
       "  <tbody>\n",
       "    <tr>\n",
       "      <th>0</th>\n",
       "      <td>0.771058</td>\n",
       "      <td>0.0</td>\n",
       "      <td>0.627417</td>\n",
       "      <td>0.0</td>\n",
       "      <td>1.0</td>\n",
       "      <td>2.0</td>\n",
       "      <td>DBSCAN</td>\n",
       "      <td>breast_cancer</td>\n",
       "    </tr>\n",
       "  </tbody>\n",
       "</table>\n",
       "</div>"
      ],
      "text/plain": [
       "         f1  ARI       ACC  NMI  cover_rate  classes    Algo        dataset\n",
       "0  0.771058  0.0  0.627417  0.0         1.0      2.0  DBSCAN  breast_cancer"
      ]
     },
     "execution_count": 47,
     "metadata": {},
     "output_type": "execute_result"
    }
   ],
   "source": [
    "# Create an instance of the DBSCAN algorithm\n",
    "dbscan = DBSCAN(eps=0.5, min_samples=5)\n",
    "\n",
    "# Apply the DBSCAN algorithm to predict the clusters in the data\n",
    "Y_bc_pred_dbscan = dbscan.fit_predict(X_bc)\n",
    "\n",
    "# Calculate various clustering metrics to evaluate the performance\n",
    "perf_metrics_dbscan_bc = measures_calculator(Y_bc_pred_dbscan, Y_bc_true)\n",
    "\n",
    "# Store additional information about the algorithm and dataset in the result\n",
    "perf_metrics_dbscan_bc[\"Algo\"] = dbscan.__class__.__name__\n",
    "perf_metrics_dbscan_bc[\"dataset\"] = \"breast_cancer\"\n",
    "\n",
    "perf_metrics_dbscan_bc"
   ]
  },
  {
   "cell_type": "markdown",
   "id": "3b300b3b-0e96-44e0-ae9b-e2eedfc5fdec",
   "metadata": {},
   "source": [
    "### <span style=\"color:red\">Agglomerative Clustering</span> <a class=\"anchor\"></a>"
   ]
  },
  {
   "cell_type": "code",
   "execution_count": 48,
   "id": "02ee0e84-c8e8-424b-8aa5-2a15de1aa930",
   "metadata": {},
   "outputs": [],
   "source": [
    "from sklearn.cluster import AgglomerativeClustering"
   ]
  },
  {
   "cell_type": "code",
   "execution_count": 49,
   "id": "e08d9e05-aa68-4367-9103-0e9bdff39dd7",
   "metadata": {},
   "outputs": [
    {
     "data": {
      "text/html": [
       "<div>\n",
       "<style scoped>\n",
       "    .dataframe tbody tr th:only-of-type {\n",
       "        vertical-align: middle;\n",
       "    }\n",
       "\n",
       "    .dataframe tbody tr th {\n",
       "        vertical-align: top;\n",
       "    }\n",
       "\n",
       "    .dataframe thead th {\n",
       "        text-align: right;\n",
       "    }\n",
       "</style>\n",
       "<table border=\"1\" class=\"dataframe\">\n",
       "  <thead>\n",
       "    <tr style=\"text-align: right;\">\n",
       "      <th></th>\n",
       "      <th>f1</th>\n",
       "      <th>ARI</th>\n",
       "      <th>ACC</th>\n",
       "      <th>NMI</th>\n",
       "      <th>cover_rate</th>\n",
       "      <th>classes</th>\n",
       "      <th>Algo</th>\n",
       "      <th>dataset</th>\n",
       "    </tr>\n",
       "  </thead>\n",
       "  <tbody>\n",
       "    <tr>\n",
       "      <th>0</th>\n",
       "      <td>0.808766</td>\n",
       "      <td>0.287246</td>\n",
       "      <td>0.778559</td>\n",
       "      <td>0.319082</td>\n",
       "      <td>1.0</td>\n",
       "      <td>2.0</td>\n",
       "      <td>AgglomerativeClustering</td>\n",
       "      <td>breast_cancer</td>\n",
       "    </tr>\n",
       "  </tbody>\n",
       "</table>\n",
       "</div>"
      ],
      "text/plain": [
       "         f1       ARI       ACC       NMI  cover_rate  classes  \\\n",
       "0  0.808766  0.287246  0.778559  0.319082         1.0      2.0   \n",
       "\n",
       "                      Algo        dataset  \n",
       "0  AgglomerativeClustering  breast_cancer  "
      ]
     },
     "execution_count": 49,
     "metadata": {},
     "output_type": "execute_result"
    }
   ],
   "source": [
    "# Create an instance of the Agglomerative Clustering algorithm\n",
    "agg_clustering = AgglomerativeClustering(n_clusters=2)\n",
    "\n",
    "# Apply the Agglomerative Clustering algorithm to predict the clusters in the data\n",
    "Y_bc_pred_agg = agg_clustering.fit_predict(X_bc)\n",
    "\n",
    "# Calculate various clustering metrics to evaluate the performance\n",
    "perf_metrics_agg_bc = measures_calculator(Y_bc_pred_agg, Y_bc_true)\n",
    "\n",
    "# Store additional information about the algorithm and dataset in the result\n",
    "perf_metrics_agg_bc[\"Algo\"] = agg_clustering.__class__.__name__\n",
    "perf_metrics_agg_bc[\"dataset\"] = \"breast_cancer\"\n",
    "\n",
    "perf_metrics_agg_bc"
   ]
  },
  {
   "cell_type": "markdown",
   "id": "869eea56-098a-41a5-b504-f6284fff6662",
   "metadata": {},
   "source": [
    "### <span style=\"color:red\">Gaussian Mixture Models (GMM)</span> <a class=\"anchor\"></a>"
   ]
  },
  {
   "cell_type": "code",
   "execution_count": 50,
   "id": "4541d063-3566-4b19-812a-5ca84a1bb148",
   "metadata": {},
   "outputs": [],
   "source": [
    "from sklearn.mixture import GaussianMixture"
   ]
  },
  {
   "cell_type": "code",
   "execution_count": 51,
   "id": "986dda6e-6f55-4dac-81ce-ee9b566fcba3",
   "metadata": {},
   "outputs": [
    {
     "data": {
      "text/html": [
       "<div>\n",
       "<style scoped>\n",
       "    .dataframe tbody tr th:only-of-type {\n",
       "        vertical-align: middle;\n",
       "    }\n",
       "\n",
       "    .dataframe tbody tr th {\n",
       "        vertical-align: top;\n",
       "    }\n",
       "\n",
       "    .dataframe thead th {\n",
       "        text-align: right;\n",
       "    }\n",
       "</style>\n",
       "<table border=\"1\" class=\"dataframe\">\n",
       "  <thead>\n",
       "    <tr style=\"text-align: right;\">\n",
       "      <th></th>\n",
       "      <th>f1</th>\n",
       "      <th>ARI</th>\n",
       "      <th>ACC</th>\n",
       "      <th>NMI</th>\n",
       "      <th>cover_rate</th>\n",
       "      <th>classes</th>\n",
       "      <th>Algo</th>\n",
       "      <th>dataset</th>\n",
       "    </tr>\n",
       "  </thead>\n",
       "  <tbody>\n",
       "    <tr>\n",
       "      <th>0</th>\n",
       "      <td>0.848851</td>\n",
       "      <td>0.683392</td>\n",
       "      <td>0.873462</td>\n",
       "      <td>0.569649</td>\n",
       "      <td>1.0</td>\n",
       "      <td>2.0</td>\n",
       "      <td>GaussianMixture</td>\n",
       "      <td>breast_cancer</td>\n",
       "    </tr>\n",
       "  </tbody>\n",
       "</table>\n",
       "</div>"
      ],
      "text/plain": [
       "         f1       ARI       ACC       NMI  cover_rate  classes  \\\n",
       "0  0.848851  0.683392  0.873462  0.569649         1.0      2.0   \n",
       "\n",
       "              Algo        dataset  \n",
       "0  GaussianMixture  breast_cancer  "
      ]
     },
     "execution_count": 51,
     "metadata": {},
     "output_type": "execute_result"
    }
   ],
   "source": [
    "# Create an instance of the Gaussian Mixture Models algorithm\n",
    "gmm = GaussianMixture(n_components=3, random_state=0)\n",
    "\n",
    "# Fit the Gaussian Mixture Models algorithm to the data and predict the clusters\n",
    "gmm.fit(X_bc)\n",
    "Y_bc_pred_gmm = gmm.predict(X_bc)\n",
    "\n",
    "# Calculate various clustering metrics to evaluate the performance\n",
    "perf_metrics_gmm_bc = measures_calculator(Y_bc_pred_gmm, Y_bc_true)\n",
    "\n",
    "# Store additional information about the algorithm and dataset in the result\n",
    "perf_metrics_gmm_bc[\"Algo\"] = gmm.__class__.__name__\n",
    "perf_metrics_gmm_bc[\"dataset\"] = \"breast_cancer\"\n",
    "\n",
    "perf_metrics_gmm_bc"
   ]
  },
  {
   "cell_type": "markdown",
   "id": "d683371f-9e2e-4c0f-a594-e586f46a15b9",
   "metadata": {},
   "source": [
    "### <span style=\"color:blue\">Benchmark Results</span> <a class=\"anchor\"></a>"
   ]
  },
  {
   "cell_type": "code",
   "execution_count": 52,
   "id": "8595e0bf-d85f-48cf-b8e2-c45823968ab4",
   "metadata": {},
   "outputs": [
    {
     "data": {
      "text/html": [
       "<div>\n",
       "<style scoped>\n",
       "    .dataframe tbody tr th:only-of-type {\n",
       "        vertical-align: middle;\n",
       "    }\n",
       "\n",
       "    .dataframe tbody tr th {\n",
       "        vertical-align: top;\n",
       "    }\n",
       "\n",
       "    .dataframe thead th {\n",
       "        text-align: right;\n",
       "    }\n",
       "</style>\n",
       "<table border=\"1\" class=\"dataframe\">\n",
       "  <thead>\n",
       "    <tr style=\"text-align: right;\">\n",
       "      <th></th>\n",
       "      <th>f1</th>\n",
       "      <th>ARI</th>\n",
       "      <th>ACC</th>\n",
       "      <th>NMI</th>\n",
       "      <th>cover_rate</th>\n",
       "      <th>classes</th>\n",
       "      <th>Algo</th>\n",
       "      <th>dataset</th>\n",
       "    </tr>\n",
       "  </thead>\n",
       "  <tbody>\n",
       "    <tr>\n",
       "      <th>0</th>\n",
       "      <td>0.929613</td>\n",
       "      <td>0.729563</td>\n",
       "      <td>0.927944</td>\n",
       "      <td>0.653727</td>\n",
       "      <td>1.0</td>\n",
       "      <td>2.0</td>\n",
       "      <td>GIT</td>\n",
       "      <td>breast_cancer</td>\n",
       "    </tr>\n",
       "    <tr>\n",
       "      <th>1</th>\n",
       "      <td>0.793728</td>\n",
       "      <td>0.518033</td>\n",
       "      <td>0.804921</td>\n",
       "      <td>0.443086</td>\n",
       "      <td>1.0</td>\n",
       "      <td>2.0</td>\n",
       "      <td>HDBSCAN</td>\n",
       "      <td>breast_cancer</td>\n",
       "    </tr>\n",
       "    <tr>\n",
       "      <th>2</th>\n",
       "      <td>0.863923</td>\n",
       "      <td>0.491425</td>\n",
       "      <td>0.854130</td>\n",
       "      <td>0.464793</td>\n",
       "      <td>1.0</td>\n",
       "      <td>2.0</td>\n",
       "      <td>KMeans</td>\n",
       "      <td>breast_cancer</td>\n",
       "    </tr>\n",
       "    <tr>\n",
       "      <th>3</th>\n",
       "      <td>0.771058</td>\n",
       "      <td>0.000000</td>\n",
       "      <td>0.627417</td>\n",
       "      <td>0.000000</td>\n",
       "      <td>1.0</td>\n",
       "      <td>2.0</td>\n",
       "      <td>DBSCAN</td>\n",
       "      <td>breast_cancer</td>\n",
       "    </tr>\n",
       "    <tr>\n",
       "      <th>4</th>\n",
       "      <td>0.808766</td>\n",
       "      <td>0.287246</td>\n",
       "      <td>0.778559</td>\n",
       "      <td>0.319082</td>\n",
       "      <td>1.0</td>\n",
       "      <td>2.0</td>\n",
       "      <td>AgglomerativeClustering</td>\n",
       "      <td>breast_cancer</td>\n",
       "    </tr>\n",
       "    <tr>\n",
       "      <th>5</th>\n",
       "      <td>0.848851</td>\n",
       "      <td>0.683392</td>\n",
       "      <td>0.873462</td>\n",
       "      <td>0.569649</td>\n",
       "      <td>1.0</td>\n",
       "      <td>2.0</td>\n",
       "      <td>GaussianMixture</td>\n",
       "      <td>breast_cancer</td>\n",
       "    </tr>\n",
       "  </tbody>\n",
       "</table>\n",
       "</div>"
      ],
      "text/plain": [
       "         f1       ARI       ACC       NMI  cover_rate  classes  \\\n",
       "0  0.929613  0.729563  0.927944  0.653727         1.0      2.0   \n",
       "1  0.793728  0.518033  0.804921  0.443086         1.0      2.0   \n",
       "2  0.863923  0.491425  0.854130  0.464793         1.0      2.0   \n",
       "3  0.771058  0.000000  0.627417  0.000000         1.0      2.0   \n",
       "4  0.808766  0.287246  0.778559  0.319082         1.0      2.0   \n",
       "5  0.848851  0.683392  0.873462  0.569649         1.0      2.0   \n",
       "\n",
       "                      Algo        dataset  \n",
       "0                      GIT  breast_cancer  \n",
       "1                  HDBSCAN  breast_cancer  \n",
       "2                   KMeans  breast_cancer  \n",
       "3                   DBSCAN  breast_cancer  \n",
       "4  AgglomerativeClustering  breast_cancer  \n",
       "5          GaussianMixture  breast_cancer  "
      ]
     },
     "execution_count": 52,
     "metadata": {},
     "output_type": "execute_result"
    }
   ],
   "source": [
    "full_perf_metrics_bc = pd.concat([perf_metrics_git_bc, \n",
    "                                    perf_metrics_hdbscan_bc,\n",
    "                                    perf_metrics_kmeans_bc,\n",
    "                                    perf_metrics_dbscan_bc,\n",
    "                                    perf_metrics_agg_bc,\n",
    "                                    perf_metrics_gmm_bc], ignore_index=True)\n",
    "full_perf_metrics_bc"
   ]
  },
  {
   "cell_type": "code",
   "execution_count": 53,
   "id": "ba001b21-426e-465e-9b79-359bace6a149",
   "metadata": {},
   "outputs": [
    {
     "data": {
      "image/png": "[encoded data removed]",
      "text/plain": [
       "<Figure size 1500x1000 with 4 Axes>"
      ]
     },
     "metadata": {},
     "output_type": "display_data"
    }
   ],
   "source": [
    "metrics = ['f1', 'ARI', 'ACC', 'NMI']\n",
    "dataset_name = full_perf_metrics_bc['dataset'].iloc[0]\n",
    "benchmark_algo = 'GIT'\n",
    "\n",
    "# Determine GIT scores for reference lines\n",
    "git_scores = full_perf_metrics_bc[full_perf_metrics_bc['Algo'] == benchmark_algo][metrics].values.flatten()\n",
    "\n",
    "# Create subplots\n",
    "fig, axs = plt.subplots(nrows=2, ncols=2, figsize=(15, 10), sharey=True)\n",
    "fig.suptitle(f'Accuracy Benchmarking - Performance Metrics Comparison for {dataset_name} Small-Scale Dataset', fontsize=16)\n",
    "\n",
    "# Plot each metric in a subplot\n",
    "for i, metric in enumerate(metrics):\n",
    "    ax = axs[i // 2, i % 2]\n",
    "    ax.bar(full_perf_metrics_bc['Algo'], full_perf_metrics_bc[metric], \n",
    "           color=['orange' if x == benchmark_algo else 'grey' for x in full_perf_metrics_bc['Algo']])\n",
    "    ax.set_title(metric)\n",
    "    ax.set_ylabel(metric)\n",
    "    ax.tick_params(axis='x', rotation=45)\n",
    "    ax.axhline(y=git_scores[i], color='r', linestyle='--', linewidth=1)\n",
    "\n",
    "plt.tight_layout(rect=[0, 0.03, 1, 0.95])\n",
    "\n",
    "# Save the figure\n",
    "plt.savefig(f'./Benchmark Figures/Accuracy Benchmarking - Performance Metrics Comparison for {dataset_name} Small-Scale Dataset.png', bbox_inches='tight')\n",
    "\n",
    "# Show plot\n",
    "plt.show()"
   ]
  },
  {
   "cell_type": "markdown",
   "id": "63b97e11-c241-43ea-9c32-e20c4b57289d",
   "metadata": {},
   "source": [
    "## <center><a><span style=\"color:green\">Real Datasets - `Hepatitis`</span></a></center>"
   ]
  },
  {
   "cell_type": "code",
   "execution_count": 54,
   "id": "39492503-ae79-4786-b804-4ea7b708d108",
   "metadata": {},
   "outputs": [
    {
     "name": "stdout",
     "output_type": "stream",
     "text": [
      "The total number of Clusters in the Hepatitis Dataset is: 2, and has 19 Features\n"
     ]
    }
   ],
   "source": [
    "X_hep, Y_hep_true = Real_DataLoader(name='hepatitis', path=real_datasets_path).load()\n",
    "print(f'The total number of Clusters in the Hepatitis Dataset is: {len(np.unique(Y_hep_true))}, and has {len(X_hep[0])} Features')"
   ]
  },
  {
   "cell_type": "markdown",
   "id": "c6fcdaeb-a3e0-4012-bed4-d0b927c59706",
   "metadata": {},
   "source": [
    "### <span style=\"color:red\">GIT Clustring</span> <a class=\"anchor\"></a>"
   ]
  },
  {
   "cell_type": "code",
   "execution_count": 55,
   "id": "c5f1247c-bfbf-4c11-bf1c-018f569df02c",
   "metadata": {},
   "outputs": [],
   "source": [
    "from git_cluster import GIT"
   ]
  },
  {
   "cell_type": "code",
   "execution_count": 56,
   "id": "07995463-0a9c-4023-9d1d-15b28476a8fb",
   "metadata": {},
   "outputs": [
    {
     "data": {
      "text/html": [
       "<div>\n",
       "<style scoped>\n",
       "    .dataframe tbody tr th:only-of-type {\n",
       "        vertical-align: middle;\n",
       "    }\n",
       "\n",
       "    .dataframe tbody tr th {\n",
       "        vertical-align: top;\n",
       "    }\n",
       "\n",
       "    .dataframe thead th {\n",
       "        text-align: right;\n",
       "    }\n",
       "</style>\n",
       "<table border=\"1\" class=\"dataframe\">\n",
       "  <thead>\n",
       "    <tr style=\"text-align: right;\">\n",
       "      <th></th>\n",
       "      <th>f1</th>\n",
       "      <th>ARI</th>\n",
       "      <th>ACC</th>\n",
       "      <th>NMI</th>\n",
       "      <th>cover_rate</th>\n",
       "      <th>classes</th>\n",
       "      <th>Algo</th>\n",
       "      <th>dataset</th>\n",
       "    </tr>\n",
       "  </thead>\n",
       "  <tbody>\n",
       "    <tr>\n",
       "      <th>0</th>\n",
       "      <td>0.753824</td>\n",
       "      <td>0.232691</td>\n",
       "      <td>0.766234</td>\n",
       "      <td>0.122613</td>\n",
       "      <td>1.0</td>\n",
       "      <td>2.0</td>\n",
       "      <td>GIT</td>\n",
       "      <td>hepatitis</td>\n",
       "    </tr>\n",
       "  </tbody>\n",
       "</table>\n",
       "</div>"
      ],
      "text/plain": [
       "         f1       ARI       ACC       NMI  cover_rate  classes Algo    dataset\n",
       "0  0.753824  0.232691  0.766234  0.122613         1.0      2.0  GIT  hepatitis"
      ]
     },
     "execution_count": 56,
     "metadata": {},
     "output_type": "execute_result"
    }
   ],
   "source": [
    "# Create an instance of the GIT clustering\n",
    "git = GIT(k=8, target_ratio=[1, 1])\n",
    "\n",
    "# Apply the GIT algorithm to predict the clusters in the data\n",
    "Y_hep_pred_git = git.fit_predict(X_hep)\n",
    "\n",
    "# Calculate various clustering metrics to evaluate the performance\n",
    "perf_metrics_git_hep = measures_calculator(Y_hep_pred_git, Y_hep_true)\n",
    "\n",
    "# Store additional information about the algorithm and dataset in the result\n",
    "perf_metrics_git_hep[\"Algo\"] = git.__class__.__name__\n",
    "perf_metrics_git_hep[\"dataset\"] = \"hepatitis\"\n",
    "\n",
    "perf_metrics_git_hep"
   ]
  },
  {
   "cell_type": "markdown",
   "id": "6f5689d8-dee5-42c7-be5e-73057c7e69c8",
   "metadata": {},
   "source": [
    "### <span style=\"color:red\">HDBSCAN</span> <a class=\"anchor\"></a>"
   ]
  },
  {
   "cell_type": "code",
   "execution_count": 57,
   "id": "2a1f2b4c-b8ce-4350-8547-ca98cfe8e476",
   "metadata": {},
   "outputs": [],
   "source": [
    "import hdbscan"
   ]
  },
  {
   "cell_type": "code",
   "execution_count": 58,
   "id": "6918aa97-3570-4e3b-b4c9-60185a293f54",
   "metadata": {},
   "outputs": [
    {
     "data": {
      "text/html": [
       "<div>\n",
       "<style scoped>\n",
       "    .dataframe tbody tr th:only-of-type {\n",
       "        vertical-align: middle;\n",
       "    }\n",
       "\n",
       "    .dataframe tbody tr th {\n",
       "        vertical-align: top;\n",
       "    }\n",
       "\n",
       "    .dataframe thead th {\n",
       "        text-align: right;\n",
       "    }\n",
       "</style>\n",
       "<table border=\"1\" class=\"dataframe\">\n",
       "  <thead>\n",
       "    <tr style=\"text-align: right;\">\n",
       "      <th></th>\n",
       "      <th>f1</th>\n",
       "      <th>ARI</th>\n",
       "      <th>ACC</th>\n",
       "      <th>NMI</th>\n",
       "      <th>cover_rate</th>\n",
       "      <th>classes</th>\n",
       "      <th>Algo</th>\n",
       "      <th>dataset</th>\n",
       "    </tr>\n",
       "  </thead>\n",
       "  <tbody>\n",
       "    <tr>\n",
       "      <th>0</th>\n",
       "      <td>0.75167</td>\n",
       "      <td>0.015279</td>\n",
       "      <td>0.720779</td>\n",
       "      <td>0.015472</td>\n",
       "      <td>1.0</td>\n",
       "      <td>2.0</td>\n",
       "      <td>HDBSCAN</td>\n",
       "      <td>hepatitis</td>\n",
       "    </tr>\n",
       "  </tbody>\n",
       "</table>\n",
       "</div>"
      ],
      "text/plain": [
       "        f1       ARI       ACC       NMI  cover_rate  classes     Algo  \\\n",
       "0  0.75167  0.015279  0.720779  0.015472         1.0      2.0  HDBSCAN   \n",
       "\n",
       "     dataset  \n",
       "0  hepatitis  "
      ]
     },
     "execution_count": 58,
     "metadata": {},
     "output_type": "execute_result"
    }
   ],
   "source": [
    "# Create an instance of the HDBSCAN clustering\n",
    "hdbscan = hdbscan.HDBSCAN(min_cluster_size=4, min_samples=2, gen_min_span_tree=True)\n",
    "\n",
    "# Apply the HDBSCAN algorithm to predict the clusters in the data\n",
    "hdbscan.fit(X_hep)\n",
    "\n",
    "# Get the predicted Clusters\n",
    "Y_hep_pred_hdbscan = hdbscan.labels_\n",
    "\n",
    "# Calculate various clustering metrics to evaluate the performance\n",
    "perf_metrics_hdbscan_hep = measures_calculator(Y_hep_pred_hdbscan, Y_hep_true)\n",
    "\n",
    "# Store additional information about the algorithm and dataset in the result\n",
    "perf_metrics_hdbscan_hep[\"Algo\"] = hdbscan.__class__.__name__\n",
    "perf_metrics_hdbscan_hep[\"dataset\"] = \"hepatitis\"\n",
    "\n",
    "perf_metrics_hdbscan_hep"
   ]
  },
  {
   "cell_type": "markdown",
   "id": "baa000ed-0ed2-4697-883a-f2c740d62805",
   "metadata": {},
   "source": [
    "### <span style=\"color:red\">Spectral Clustering</span> <a class=\"anchor\"></a>"
   ]
  },
  {
   "cell_type": "code",
   "execution_count": 59,
   "id": "30582ee1-6ace-4976-b539-7ff04fe00a15",
   "metadata": {},
   "outputs": [],
   "source": [
    "from sklearn.cluster import SpectralClustering"
   ]
  },
  {
   "cell_type": "code",
   "execution_count": 60,
   "id": "bd72964c-de32-46ab-bdf2-55853bd2644d",
   "metadata": {},
   "outputs": [
    {
     "data": {
      "text/html": [
       "<div>\n",
       "<style scoped>\n",
       "    .dataframe tbody tr th:only-of-type {\n",
       "        vertical-align: middle;\n",
       "    }\n",
       "\n",
       "    .dataframe tbody tr th {\n",
       "        vertical-align: top;\n",
       "    }\n",
       "\n",
       "    .dataframe thead th {\n",
       "        text-align: right;\n",
       "    }\n",
       "</style>\n",
       "<table border=\"1\" class=\"dataframe\">\n",
       "  <thead>\n",
       "    <tr style=\"text-align: right;\">\n",
       "      <th></th>\n",
       "      <th>f1</th>\n",
       "      <th>ARI</th>\n",
       "      <th>ACC</th>\n",
       "      <th>NMI</th>\n",
       "      <th>cover_rate</th>\n",
       "      <th>classes</th>\n",
       "      <th>Algo</th>\n",
       "      <th>dataset</th>\n",
       "    </tr>\n",
       "  </thead>\n",
       "  <tbody>\n",
       "    <tr>\n",
       "      <th>0</th>\n",
       "      <td>0.481721</td>\n",
       "      <td>-0.001612</td>\n",
       "      <td>0.525974</td>\n",
       "      <td>0.003411</td>\n",
       "      <td>1.0</td>\n",
       "      <td>2.0</td>\n",
       "      <td>SpectralClustering</td>\n",
       "      <td>hepatitis</td>\n",
       "    </tr>\n",
       "  </tbody>\n",
       "</table>\n",
       "</div>"
      ],
      "text/plain": [
       "         f1       ARI       ACC       NMI  cover_rate  classes  \\\n",
       "0  0.481721 -0.001612  0.525974  0.003411         1.0      2.0   \n",
       "\n",
       "                 Algo    dataset  \n",
       "0  SpectralClustering  hepatitis  "
      ]
     },
     "execution_count": 60,
     "metadata": {},
     "output_type": "execute_result"
    }
   ],
   "source": [
    "# Create an instance of the Spectral Clustering algorithm \n",
    "spectral_clustering = SpectralClustering(n_clusters=2, assign_labels=\"discretize\", \n",
    "                                         random_state=0, affinity='rbf')\n",
    "\n",
    "# Apply the Spectral Clustering algorithm to predict the clusters in the data\n",
    "spectral_clustering.fit(X_hep)\n",
    "\n",
    "# Get the predicted Clusters\n",
    "Y_hep_pred_speclustr = spectral_clustering.labels_\n",
    "\n",
    "# Calculate various clustering metrics to evaluate the performance\n",
    "perf_metrics_speclustr_hep = measures_calculator(Y_hep_pred_speclustr, Y_hep_true)\n",
    "\n",
    "# Store additional information about the algorithm and dataset in the result\n",
    "perf_metrics_speclustr_hep[\"Algo\"] = spectral_clustering.__class__.__name__\n",
    "perf_metrics_speclustr_hep[\"dataset\"] = \"hepatitis\"\n",
    "\n",
    "perf_metrics_speclustr_hep"
   ]
  },
  {
   "cell_type": "markdown",
   "id": "abc7bd46-e0cf-4466-be89-7dc8e411fe4c",
   "metadata": {},
   "source": [
    "### <span style=\"color:red\">K-Means</span> <a class=\"anchor\"></a>"
   ]
  },
  {
   "cell_type": "code",
   "execution_count": 61,
   "id": "d0b5955b-5afd-4fa5-9ed0-f90c8a555c90",
   "metadata": {},
   "outputs": [],
   "source": [
    "from sklearn.cluster import KMeans"
   ]
  },
  {
   "cell_type": "code",
   "execution_count": 62,
   "id": "5106a67f-629c-417e-94a5-b144dd3529f8",
   "metadata": {},
   "outputs": [
    {
     "data": {
      "text/html": [
       "<div>\n",
       "<style scoped>\n",
       "    .dataframe tbody tr th:only-of-type {\n",
       "        vertical-align: middle;\n",
       "    }\n",
       "\n",
       "    .dataframe tbody tr th {\n",
       "        vertical-align: top;\n",
       "    }\n",
       "\n",
       "    .dataframe thead th {\n",
       "        text-align: right;\n",
       "    }\n",
       "</style>\n",
       "<table border=\"1\" class=\"dataframe\">\n",
       "  <thead>\n",
       "    <tr style=\"text-align: right;\">\n",
       "      <th></th>\n",
       "      <th>f1</th>\n",
       "      <th>ARI</th>\n",
       "      <th>ACC</th>\n",
       "      <th>NMI</th>\n",
       "      <th>cover_rate</th>\n",
       "      <th>classes</th>\n",
       "      <th>Algo</th>\n",
       "      <th>dataset</th>\n",
       "    </tr>\n",
       "  </thead>\n",
       "  <tbody>\n",
       "    <tr>\n",
       "      <th>0</th>\n",
       "      <td>0.747157</td>\n",
       "      <td>0.036725</td>\n",
       "      <td>0.727273</td>\n",
       "      <td>0.004382</td>\n",
       "      <td>1.0</td>\n",
       "      <td>2.0</td>\n",
       "      <td>KMeans</td>\n",
       "      <td>hepatitis</td>\n",
       "    </tr>\n",
       "  </tbody>\n",
       "</table>\n",
       "</div>"
      ],
      "text/plain": [
       "         f1       ARI       ACC       NMI  cover_rate  classes    Algo  \\\n",
       "0  0.747157  0.036725  0.727273  0.004382         1.0      2.0  KMeans   \n",
       "\n",
       "     dataset  \n",
       "0  hepatitis  "
      ]
     },
     "execution_count": 62,
     "metadata": {},
     "output_type": "execute_result"
    }
   ],
   "source": [
    "# Create an instance of the K-means algorithm \n",
    "kmeans = KMeans(n_clusters=2, random_state=0)\n",
    "\n",
    "# Apply the K-means algorithm to predict the clusters in the data\n",
    "kmeans.fit(X_hep)\n",
    "\n",
    "# Get the predicted Clusters\n",
    "Y_hep_pred_kmeans = kmeans.labels_\n",
    "\n",
    "# Calculate various clustering metrics to evaluate the performance\n",
    "perf_metrics_kmeans_hep = measures_calculator(Y_hep_pred_kmeans, Y_hep_true)\n",
    "\n",
    "# Store additional information about the algorithm and dataset in the result\n",
    "perf_metrics_kmeans_hep[\"Algo\"] = kmeans.__class__.__name__\n",
    "perf_metrics_kmeans_hep[\"dataset\"] = \"hepatitis\"\n",
    "\n",
    "perf_metrics_kmeans_hep"
   ]
  },
  {
   "cell_type": "markdown",
   "id": "72c3b029-ddf8-443c-84b1-e48d91fbdd9a",
   "metadata": {},
   "source": [
    "### <span style=\"color:red\">DBSCAN</span> <a class=\"anchor\"></a>"
   ]
  },
  {
   "cell_type": "code",
   "execution_count": 63,
   "id": "3b7d85f4-d506-4735-ad7f-ec90aa184dad",
   "metadata": {},
   "outputs": [],
   "source": [
    "from sklearn.cluster import DBSCAN"
   ]
  },
  {
   "cell_type": "code",
   "execution_count": 64,
   "id": "39830606-be2b-4bce-9f57-228aad8b1354",
   "metadata": {},
   "outputs": [
    {
     "data": {
      "text/html": [
       "<div>\n",
       "<style scoped>\n",
       "    .dataframe tbody tr th:only-of-type {\n",
       "        vertical-align: middle;\n",
       "    }\n",
       "\n",
       "    .dataframe tbody tr th {\n",
       "        vertical-align: top;\n",
       "    }\n",
       "\n",
       "    .dataframe thead th {\n",
       "        text-align: right;\n",
       "    }\n",
       "</style>\n",
       "<table border=\"1\" class=\"dataframe\">\n",
       "  <thead>\n",
       "    <tr style=\"text-align: right;\">\n",
       "      <th></th>\n",
       "      <th>f1</th>\n",
       "      <th>ARI</th>\n",
       "      <th>ACC</th>\n",
       "      <th>NMI</th>\n",
       "      <th>cover_rate</th>\n",
       "      <th>classes</th>\n",
       "      <th>Algo</th>\n",
       "      <th>dataset</th>\n",
       "    </tr>\n",
       "  </thead>\n",
       "  <tbody>\n",
       "    <tr>\n",
       "      <th>0</th>\n",
       "      <td>0.884058</td>\n",
       "      <td>0.0</td>\n",
       "      <td>0.792208</td>\n",
       "      <td>0.0</td>\n",
       "      <td>1.0</td>\n",
       "      <td>2.0</td>\n",
       "      <td>DBSCAN</td>\n",
       "      <td>hepatitis</td>\n",
       "    </tr>\n",
       "  </tbody>\n",
       "</table>\n",
       "</div>"
      ],
      "text/plain": [
       "         f1  ARI       ACC  NMI  cover_rate  classes    Algo    dataset\n",
       "0  0.884058  0.0  0.792208  0.0         1.0      2.0  DBSCAN  hepatitis"
      ]
     },
     "execution_count": 64,
     "metadata": {},
     "output_type": "execute_result"
    }
   ],
   "source": [
    "# Create an instance of the DBSCAN algorithm\n",
    "dbscan = DBSCAN(eps=0.5, min_samples=5)\n",
    "\n",
    "# Apply the DBSCAN algorithm to predict the clusters in the data\n",
    "Y_hep_pred_dbscan = dbscan.fit_predict(X_hep)\n",
    "\n",
    "# Calculate various clustering metrics to evaluate the performance\n",
    "perf_metrics_dbscan_hep = measures_calculator(Y_hep_pred_dbscan, Y_hep_true)\n",
    "perf_metrics_dbscan_hep\n",
    "\n",
    "# Store additional information about the algorithm and dataset in the result\n",
    "perf_metrics_dbscan_hep[\"Algo\"] = dbscan.__class__.__name__\n",
    "perf_metrics_dbscan_hep[\"dataset\"] = \"hepatitis\"\n",
    "\n",
    "perf_metrics_dbscan_hep"
   ]
  },
  {
   "cell_type": "markdown",
   "id": "1c9cb900-5c30-4e5f-9ddf-9502bb08ceee",
   "metadata": {},
   "source": [
    "### <span style=\"color:red\">Agglomerative Clustering</span> <a class=\"anchor\"></a>"
   ]
  },
  {
   "cell_type": "code",
   "execution_count": 65,
   "id": "01b1b895-bbab-4c57-a8a7-c10ef73e4b18",
   "metadata": {},
   "outputs": [],
   "source": [
    "from sklearn.cluster import AgglomerativeClustering"
   ]
  },
  {
   "cell_type": "code",
   "execution_count": 66,
   "id": "3aeccab9-f127-4cd1-83ff-acc0d2745cd7",
   "metadata": {},
   "outputs": [
    {
     "data": {
      "text/html": [
       "<div>\n",
       "<style scoped>\n",
       "    .dataframe tbody tr th:only-of-type {\n",
       "        vertical-align: middle;\n",
       "    }\n",
       "\n",
       "    .dataframe tbody tr th {\n",
       "        vertical-align: top;\n",
       "    }\n",
       "\n",
       "    .dataframe thead th {\n",
       "        text-align: right;\n",
       "    }\n",
       "</style>\n",
       "<table border=\"1\" class=\"dataframe\">\n",
       "  <thead>\n",
       "    <tr style=\"text-align: right;\">\n",
       "      <th></th>\n",
       "      <th>f1</th>\n",
       "      <th>ARI</th>\n",
       "      <th>ACC</th>\n",
       "      <th>NMI</th>\n",
       "      <th>cover_rate</th>\n",
       "      <th>classes</th>\n",
       "      <th>Algo</th>\n",
       "      <th>dataset</th>\n",
       "    </tr>\n",
       "  </thead>\n",
       "  <tbody>\n",
       "    <tr>\n",
       "      <th>0</th>\n",
       "      <td>0.692168</td>\n",
       "      <td>0.021307</td>\n",
       "      <td>0.688312</td>\n",
       "      <td>0.002351</td>\n",
       "      <td>1.0</td>\n",
       "      <td>2.0</td>\n",
       "      <td>AgglomerativeClustering</td>\n",
       "      <td>hepatitis</td>\n",
       "    </tr>\n",
       "  </tbody>\n",
       "</table>\n",
       "</div>"
      ],
      "text/plain": [
       "         f1       ARI       ACC       NMI  cover_rate  classes  \\\n",
       "0  0.692168  0.021307  0.688312  0.002351         1.0      2.0   \n",
       "\n",
       "                      Algo    dataset  \n",
       "0  AgglomerativeClustering  hepatitis  "
      ]
     },
     "execution_count": 66,
     "metadata": {},
     "output_type": "execute_result"
    }
   ],
   "source": [
    "# Create an instance of the Agglomerative Clustering algorithm\n",
    "agg_clustering = AgglomerativeClustering(n_clusters=3)\n",
    "\n",
    "# Apply the Agglomerative Clustering algorithm to predict the clusters in the data\n",
    "Y_hep_pred_agg = agg_clustering.fit_predict(X_hep)\n",
    "\n",
    "# Calculate various clustering metrics to evaluate the performance\n",
    "perf_metrics_agg_hep = measures_calculator(Y_hep_pred_agg, Y_hep_true)\n",
    "perf_metrics_agg_hep\n",
    "\n",
    "# Store additional information about the algorithm and dataset in the result\n",
    "perf_metrics_agg_hep[\"Algo\"] = agg_clustering.__class__.__name__\n",
    "perf_metrics_agg_hep[\"dataset\"] = \"hepatitis\"\n",
    "\n",
    "perf_metrics_agg_hep"
   ]
  },
  {
   "cell_type": "markdown",
   "id": "e2b41ab1-f33b-47b0-abfb-17119e59bee9",
   "metadata": {},
   "source": [
    "### <span style=\"color:red\">Gaussian Mixture Models (GMM)</span> <a class=\"anchor\"></a>"
   ]
  },
  {
   "cell_type": "code",
   "execution_count": 67,
   "id": "1a058075-54a5-4196-a763-ddb5188769ee",
   "metadata": {},
   "outputs": [],
   "source": [
    "from sklearn.mixture import GaussianMixture"
   ]
  },
  {
   "cell_type": "code",
   "execution_count": 68,
   "id": "2480ae3b-e54f-459c-9b17-716a4ee106f4",
   "metadata": {},
   "outputs": [
    {
     "data": {
      "text/html": [
       "<div>\n",
       "<style scoped>\n",
       "    .dataframe tbody tr th:only-of-type {\n",
       "        vertical-align: middle;\n",
       "    }\n",
       "\n",
       "    .dataframe tbody tr th {\n",
       "        vertical-align: top;\n",
       "    }\n",
       "\n",
       "    .dataframe thead th {\n",
       "        text-align: right;\n",
       "    }\n",
       "</style>\n",
       "<table border=\"1\" class=\"dataframe\">\n",
       "  <thead>\n",
       "    <tr style=\"text-align: right;\">\n",
       "      <th></th>\n",
       "      <th>f1</th>\n",
       "      <th>ARI</th>\n",
       "      <th>ACC</th>\n",
       "      <th>NMI</th>\n",
       "      <th>cover_rate</th>\n",
       "      <th>classes</th>\n",
       "      <th>Algo</th>\n",
       "      <th>dataset</th>\n",
       "    </tr>\n",
       "  </thead>\n",
       "  <tbody>\n",
       "    <tr>\n",
       "      <th>0</th>\n",
       "      <td>0.508485</td>\n",
       "      <td>0.012943</td>\n",
       "      <td>0.551948</td>\n",
       "      <td>0.043864</td>\n",
       "      <td>1.0</td>\n",
       "      <td>2.0</td>\n",
       "      <td>GaussianMixture</td>\n",
       "      <td>hepatitis</td>\n",
       "    </tr>\n",
       "  </tbody>\n",
       "</table>\n",
       "</div>"
      ],
      "text/plain": [
       "         f1       ARI       ACC       NMI  cover_rate  classes  \\\n",
       "0  0.508485  0.012943  0.551948  0.043864         1.0      2.0   \n",
       "\n",
       "              Algo    dataset  \n",
       "0  GaussianMixture  hepatitis  "
      ]
     },
     "execution_count": 68,
     "metadata": {},
     "output_type": "execute_result"
    }
   ],
   "source": [
    "# Create an instance of the Gaussian Mixture Models algorithm\n",
    "gmm = GaussianMixture(n_components=3, random_state=0)\n",
    "\n",
    "# Fit the Gaussian Mixture Models algorithm to the data and predict the clusters\n",
    "gmm.fit(X_hep)\n",
    "Y_hep_pred_gmm = gmm.predict(X_hep)\n",
    "\n",
    "# Calculate various clustering metrics to evaluate the performance\n",
    "perf_metrics_gmm_hep = measures_calculator(Y_hep_pred_gmm, Y_hep_true)\n",
    "\n",
    "# Store additional information about the algorithm and dataset in the result\n",
    "perf_metrics_gmm_hep[\"Algo\"] = gmm.__class__.__name__\n",
    "perf_metrics_gmm_hep[\"dataset\"] = \"hepatitis\"\n",
    "\n",
    "perf_metrics_gmm_hep"
   ]
  },
  {
   "cell_type": "markdown",
   "id": "7c2548a4-582d-463a-889a-e1724f5a0dfb",
   "metadata": {},
   "source": [
    "### <span style=\"color:blue\">Benchmark Results</span> <a class=\"anchor\"></a>"
   ]
  },
  {
   "cell_type": "code",
   "execution_count": 69,
   "id": "895794be-20fc-42a5-8834-9002c950c8b3",
   "metadata": {},
   "outputs": [
    {
     "data": {
      "text/html": [
       "<div>\n",
       "<style scoped>\n",
       "    .dataframe tbody tr th:only-of-type {\n",
       "        vertical-align: middle;\n",
       "    }\n",
       "\n",
       "    .dataframe tbody tr th {\n",
       "        vertical-align: top;\n",
       "    }\n",
       "\n",
       "    .dataframe thead th {\n",
       "        text-align: right;\n",
       "    }\n",
       "</style>\n",
       "<table border=\"1\" class=\"dataframe\">\n",
       "  <thead>\n",
       "    <tr style=\"text-align: right;\">\n",
       "      <th></th>\n",
       "      <th>f1</th>\n",
       "      <th>ARI</th>\n",
       "      <th>ACC</th>\n",
       "      <th>NMI</th>\n",
       "      <th>cover_rate</th>\n",
       "      <th>classes</th>\n",
       "      <th>Algo</th>\n",
       "      <th>dataset</th>\n",
       "    </tr>\n",
       "  </thead>\n",
       "  <tbody>\n",
       "    <tr>\n",
       "      <th>0</th>\n",
       "      <td>0.753824</td>\n",
       "      <td>0.232691</td>\n",
       "      <td>0.766234</td>\n",
       "      <td>0.122613</td>\n",
       "      <td>1.0</td>\n",
       "      <td>2.0</td>\n",
       "      <td>GIT</td>\n",
       "      <td>hepatitis</td>\n",
       "    </tr>\n",
       "    <tr>\n",
       "      <th>1</th>\n",
       "      <td>0.751670</td>\n",
       "      <td>0.015279</td>\n",
       "      <td>0.720779</td>\n",
       "      <td>0.015472</td>\n",
       "      <td>1.0</td>\n",
       "      <td>2.0</td>\n",
       "      <td>HDBSCAN</td>\n",
       "      <td>hepatitis</td>\n",
       "    </tr>\n",
       "    <tr>\n",
       "      <th>2</th>\n",
       "      <td>0.481721</td>\n",
       "      <td>-0.001612</td>\n",
       "      <td>0.525974</td>\n",
       "      <td>0.003411</td>\n",
       "      <td>1.0</td>\n",
       "      <td>2.0</td>\n",
       "      <td>SpectralClustering</td>\n",
       "      <td>hepatitis</td>\n",
       "    </tr>\n",
       "    <tr>\n",
       "      <th>3</th>\n",
       "      <td>0.747157</td>\n",
       "      <td>0.036725</td>\n",
       "      <td>0.727273</td>\n",
       "      <td>0.004382</td>\n",
       "      <td>1.0</td>\n",
       "      <td>2.0</td>\n",
       "      <td>KMeans</td>\n",
       "      <td>hepatitis</td>\n",
       "    </tr>\n",
       "    <tr>\n",
       "      <th>4</th>\n",
       "      <td>0.884058</td>\n",
       "      <td>0.000000</td>\n",
       "      <td>0.792208</td>\n",
       "      <td>0.000000</td>\n",
       "      <td>1.0</td>\n",
       "      <td>2.0</td>\n",
       "      <td>DBSCAN</td>\n",
       "      <td>hepatitis</td>\n",
       "    </tr>\n",
       "    <tr>\n",
       "      <th>5</th>\n",
       "      <td>0.692168</td>\n",
       "      <td>0.021307</td>\n",
       "      <td>0.688312</td>\n",
       "      <td>0.002351</td>\n",
       "      <td>1.0</td>\n",
       "      <td>2.0</td>\n",
       "      <td>AgglomerativeClustering</td>\n",
       "      <td>hepatitis</td>\n",
       "    </tr>\n",
       "    <tr>\n",
       "      <th>6</th>\n",
       "      <td>0.508485</td>\n",
       "      <td>0.012943</td>\n",
       "      <td>0.551948</td>\n",
       "      <td>0.043864</td>\n",
       "      <td>1.0</td>\n",
       "      <td>2.0</td>\n",
       "      <td>GaussianMixture</td>\n",
       "      <td>hepatitis</td>\n",
       "    </tr>\n",
       "  </tbody>\n",
       "</table>\n",
       "</div>"
      ],
      "text/plain": [
       "         f1       ARI       ACC       NMI  cover_rate  classes  \\\n",
       "0  0.753824  0.232691  0.766234  0.122613         1.0      2.0   \n",
       "1  0.751670  0.015279  0.720779  0.015472         1.0      2.0   \n",
       "2  0.481721 -0.001612  0.525974  0.003411         1.0      2.0   \n",
       "3  0.747157  0.036725  0.727273  0.004382         1.0      2.0   \n",
       "4  0.884058  0.000000  0.792208  0.000000         1.0      2.0   \n",
       "5  0.692168  0.021307  0.688312  0.002351         1.0      2.0   \n",
       "6  0.508485  0.012943  0.551948  0.043864         1.0      2.0   \n",
       "\n",
       "                      Algo    dataset  \n",
       "0                      GIT  hepatitis  \n",
       "1                  HDBSCAN  hepatitis  \n",
       "2       SpectralClustering  hepatitis  \n",
       "3                   KMeans  hepatitis  \n",
       "4                   DBSCAN  hepatitis  \n",
       "5  AgglomerativeClustering  hepatitis  \n",
       "6          GaussianMixture  hepatitis  "
      ]
     },
     "execution_count": 69,
     "metadata": {},
     "output_type": "execute_result"
    }
   ],
   "source": [
    "full_perf_metrics_hep = pd.concat([perf_metrics_git_hep, \n",
    "                                    perf_metrics_hdbscan_hep,\n",
    "                                    perf_metrics_speclustr_hep,\n",
    "                                    perf_metrics_kmeans_hep,\n",
    "                                    perf_metrics_dbscan_hep,\n",
    "                                    perf_metrics_agg_hep,\n",
    "                                    perf_metrics_gmm_hep], ignore_index=True)\n",
    "full_perf_metrics_hep"
   ]
  },
  {
   "cell_type": "code",
   "execution_count": 70,
   "id": "b968af36-3aa3-42cc-bfbd-f4e12aa81356",
   "metadata": {},
   "outputs": [
    {
     "data": {
      "image/png": "[encoded data removed]",
      "text/plain": [
       "<Figure size 1500x1000 with 4 Axes>"
      ]
     },
     "metadata": {},
     "output_type": "display_data"
    }
   ],
   "source": [
    "metrics = ['f1', 'ARI', 'ACC', 'NMI']\n",
    "dataset_name = full_perf_metrics_hep['dataset'].iloc[0]\n",
    "benchmark_algo = 'GIT'\n",
    "\n",
    "# Determine GIT scores for reference lines\n",
    "git_scores = full_perf_metrics_hep[full_perf_metrics_hep['Algo'] == benchmark_algo][metrics].values.flatten()\n",
    "\n",
    "# Create subplots\n",
    "fig, axs = plt.subplots(nrows=2, ncols=2, figsize=(15, 10), sharey=True)\n",
    "fig.suptitle(f'Accuracy Benchmarking - Performance Metrics Comparison for {dataset_name} Small-Scale Dataset', fontsize=16)\n",
    "\n",
    "# Plot each metric in a subplot\n",
    "for i, metric in enumerate(metrics):\n",
    "    ax = axs[i // 2, i % 2]\n",
    "    ax.bar(full_perf_metrics_hep['Algo'], full_perf_metrics_hep[metric], \n",
    "           color=['orange' if x == benchmark_algo else 'grey' for x in full_perf_metrics_hep['Algo']])\n",
    "    ax.set_title(metric)\n",
    "    ax.set_ylabel(metric)\n",
    "    ax.tick_params(axis='x', rotation=45)\n",
    "    ax.axhline(y=git_scores[i], color='r', linestyle='--', linewidth=1)\n",
    "\n",
    "plt.tight_layout(rect=[0, 0.03, 1, 0.95])\n",
    "\n",
    "# Save the figure\n",
    "plt.savefig(f'./Benchmark Figures/Accuracy Benchmarking - Performance Metrics Comparison for {dataset_name} Small-Scale Dataset.png', bbox_inches='tight')\n",
    "\n",
    "# Show plot\n",
    "plt.show()"
   ]
  }
 ],
 "metadata": {
  "kernelspec": {
   "display_name": "Python 3 (ipykernel)",
   "language": "python",
   "name": "python3"
  },
  "language_info": {
   "codemirror_mode": {
    "name": "ipython",
    "version": 3
   },
   "file_extension": ".py",
   "mimetype": "text/x-python",
   "name": "python",
   "nbconvert_exporter": "python",
   "pygments_lexer": "ipython3",
   "version": "3.11.5"
  }
 },
 "nbformat": 4,
 "nbformat_minor": 5
}
