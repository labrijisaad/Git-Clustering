{
 "cells": [
  {
   "cell_type": "markdown",
   "id": "c05e4567-3ed7-4780-8d5c-fb309d74ff74",
   "metadata": {},
   "source": [
    "<a href=\"https://colab.research.google.com/github/labrijisaad/Git-Clustering/blob/main/notebooks/Acuracy Benchmark/GIT Accuracy Benchmark - Small Scale Datasets.ipynb\" target=\"_parent\"><img src=\"https://colab.research.google.com/assets/colab-badge.svg\" alt=\"Open In Colab\"/></a>"
   ]
  },
  {
   "cell_type": "markdown",
   "id": "f9f6ab43-9348-4171-8256-b2be6472bdb9",
   "metadata": {},
   "source": [
    "#### Install the `packages` & Prepare the `data`"
   ]
  },
  {
   "cell_type": "code",
   "execution_count": 1,
   "id": "0ca30eb9-3732-4157-bdf1-c58bc08eaec9",
   "metadata": {},
   "outputs": [],
   "source": [
    "# !pip install -i \"https://test.pypi.org/simple/\" git_cluster > /dev/null \n",
    "# !pip install hdbscan > /dev/null\n",
    "# !pip install -U gdown > /dev/null\n",
    "# !gdown 1yNwCStP3Sdf2lfvNe9h0WIZw2OQ3O2UP && unzip datasets.zip > /dev/null"
   ]
  },
  {
   "cell_type": "markdown",
   "id": "266e2a31-9dd0-4641-ab06-9a768c897910",
   "metadata": {},
   "source": [
    "#### Import the Libraries"
   ]
  },
  {
   "cell_type": "code",
   "execution_count": 2,
   "id": "e955175c-5c89-46fa-bd63-b64fd6378d72",
   "metadata": {},
   "outputs": [],
   "source": [
    "import warnings ; warnings.filterwarnings('ignore')\n",
    "import pandas as pd\n",
    "import numpy as np\n",
    "\n",
    "from utils import measures_calculator\n",
    "from dataloaders import Real_DataLoader as Real_DataLoader\n",
    "\n",
    "# Data Path ( TO CHANGE ! )\n",
    "real_datasets_path = \"../../datasets/real_datasets\""
   ]
  },
  {
   "cell_type": "markdown",
   "id": "73d75d1b-239c-4e18-b486-1e41eeb22efe",
   "metadata": {},
   "source": [
    "## <center><a><span style=\"color:green\">Real Datasets - `Iris`</span></a></center>"
   ]
  },
  {
   "cell_type": "markdown",
   "id": "05c7f8fd-84b3-4091-803c-6a379ca024be",
   "metadata": {},
   "source": [
    "### Load the Iris data"
   ]
  },
  {
   "cell_type": "code",
   "execution_count": 3,
   "id": "3dddeab0-3633-469a-9825-0942539064d2",
   "metadata": {},
   "outputs": [
    {
     "name": "stdout",
     "output_type": "stream",
     "text": [
      "The total number of Clusters in the Iris Dataset is: 3, and has 4 Features\n"
     ]
    }
   ],
   "source": [
    "X_iris, Y_iris_true = Real_DataLoader(name='iris', path=real_datasets_path).load()\n",
    "print(f'The total number of Clusters in the Iris Dataset is: {len(np.unique(Y_iris_true))}, and has {len(X_iris[0])} Features')"
   ]
  },
  {
   "cell_type": "markdown",
   "id": "a7b62f00-6741-4d75-85f7-ac6eda2decea",
   "metadata": {},
   "source": [
    "### <span style=\"color:red\">GIT Clustring</span> <a class=\"anchor\"></a>"
   ]
  },
  {
   "cell_type": "code",
   "execution_count": 4,
   "id": "53bbd605-7d4f-4b28-8e63-2b84638d9e8f",
   "metadata": {},
   "outputs": [],
   "source": [
    "from git_cluster import GIT"
   ]
  },
  {
   "cell_type": "code",
   "execution_count": 5,
   "id": "7c1b8368-4a1f-43e6-a183-ca9245581720",
   "metadata": {},
   "outputs": [
    {
     "data": {
      "text/html": [
       "<div>\n",
       "<style scoped>\n",
       "    .dataframe tbody tr th:only-of-type {\n",
       "        vertical-align: middle;\n",
       "    }\n",
       "\n",
       "    .dataframe tbody tr th {\n",
       "        vertical-align: top;\n",
       "    }\n",
       "\n",
       "    .dataframe thead th {\n",
       "        text-align: right;\n",
       "    }\n",
       "</style>\n",
       "<table border=\"1\" class=\"dataframe\">\n",
       "  <thead>\n",
       "    <tr style=\"text-align: right;\">\n",
       "      <th></th>\n",
       "      <th>f1</th>\n",
       "      <th>ARI</th>\n",
       "      <th>ACC</th>\n",
       "      <th>NMI</th>\n",
       "      <th>cover_rate</th>\n",
       "      <th>classes</th>\n",
       "      <th>Algo</th>\n",
       "      <th>dataset</th>\n",
       "    </tr>\n",
       "  </thead>\n",
       "  <tbody>\n",
       "    <tr>\n",
       "      <th>0</th>\n",
       "      <td>0.883153</td>\n",
       "      <td>0.706006</td>\n",
       "      <td>0.88</td>\n",
       "      <td>0.756087</td>\n",
       "      <td>1.0</td>\n",
       "      <td>3.0</td>\n",
       "      <td>GIT</td>\n",
       "      <td>iris</td>\n",
       "    </tr>\n",
       "  </tbody>\n",
       "</table>\n",
       "</div>"
      ],
      "text/plain": [
       "         f1       ARI   ACC       NMI  cover_rate  classes Algo dataset\n",
       "0  0.883153  0.706006  0.88  0.756087         1.0      3.0  GIT    iris"
      ]
     },
     "execution_count": 5,
     "metadata": {},
     "output_type": "execute_result"
    }
   ],
   "source": [
    "# Create an instance of the GIT clustering\n",
    "git = GIT(k=15, target_ratio=[1, 1, 1])\n",
    "\n",
    "# Apply the GIT algorithm to predict the clusters in the data\n",
    "Y_iris_pred_git = git.fit_predict(X_iris)\n",
    "\n",
    "# Calculate various clustering metrics to evaluate the performance\n",
    "perf_metrics_git_iris = measures_calculator(Y_iris_pred_git, Y_iris_true)\n",
    "\n",
    "# Store additional information about the algorithm and dataset in the result\n",
    "perf_metrics_git_iris[\"Algo\"] = git.__class__.__name__\n",
    "perf_metrics_git_iris[\"dataset\"] = \"iris\"\n",
    "\n",
    "perf_metrics_git_iris"
   ]
  },
  {
   "cell_type": "markdown",
   "id": "9a669e14-7e97-440c-a9d6-1d411a0c2338",
   "metadata": {},
   "source": [
    "### <span style=\"color:red\">HDBSCAN</span> <a class=\"anchor\"></a>"
   ]
  },
  {
   "cell_type": "code",
   "execution_count": 6,
   "id": "5a59565e-a299-488e-8749-2081baec27fd",
   "metadata": {},
   "outputs": [],
   "source": [
    "import hdbscan"
   ]
  },
  {
   "cell_type": "code",
   "execution_count": 7,
   "id": "3ef2113b-11b9-4ce4-8629-db2705bf3dcd",
   "metadata": {},
   "outputs": [
    {
     "data": {
      "text/html": [
       "<div>\n",
       "<style scoped>\n",
       "    .dataframe tbody tr th:only-of-type {\n",
       "        vertical-align: middle;\n",
       "    }\n",
       "\n",
       "    .dataframe tbody tr th {\n",
       "        vertical-align: top;\n",
       "    }\n",
       "\n",
       "    .dataframe thead th {\n",
       "        text-align: right;\n",
       "    }\n",
       "</style>\n",
       "<table border=\"1\" class=\"dataframe\">\n",
       "  <thead>\n",
       "    <tr style=\"text-align: right;\">\n",
       "      <th></th>\n",
       "      <th>f1</th>\n",
       "      <th>ARI</th>\n",
       "      <th>ACC</th>\n",
       "      <th>NMI</th>\n",
       "      <th>cover_rate</th>\n",
       "      <th>classes</th>\n",
       "      <th>Algo</th>\n",
       "      <th>dataset</th>\n",
       "    </tr>\n",
       "  </thead>\n",
       "  <tbody>\n",
       "    <tr>\n",
       "      <th>0</th>\n",
       "      <td>0.775507</td>\n",
       "      <td>0.562136</td>\n",
       "      <td>0.686667</td>\n",
       "      <td>0.713099</td>\n",
       "      <td>1.0</td>\n",
       "      <td>3.0</td>\n",
       "      <td>HDBSCAN</td>\n",
       "      <td>iris</td>\n",
       "    </tr>\n",
       "  </tbody>\n",
       "</table>\n",
       "</div>"
      ],
      "text/plain": [
       "         f1       ARI       ACC       NMI  cover_rate  classes     Algo  \\\n",
       "0  0.775507  0.562136  0.686667  0.713099         1.0      3.0  HDBSCAN   \n",
       "\n",
       "  dataset  \n",
       "0    iris  "
      ]
     },
     "execution_count": 7,
     "metadata": {},
     "output_type": "execute_result"
    }
   ],
   "source": [
    "# Create an instance of the HDBSCAN clustering\n",
    "hdbscan = hdbscan.HDBSCAN(min_cluster_size=30, \n",
    "                            min_samples=20, \n",
    "                            gen_min_span_tree=True)\n",
    "\n",
    "# Apply the HDBSCAN algorithm to predict the clusters in the data\n",
    "hdbscan.fit(X_iris)\n",
    "\n",
    "# Get the predicted Clusters\n",
    "Y_iris_pred_hdbscan = hdbscan.labels_\n",
    "\n",
    "# Calculate various clustering metrics to evaluate the performance\n",
    "perf_metrics_hdbscan_iris = measures_calculator(Y_iris_pred_hdbscan, Y_iris_true)\n",
    "\n",
    "# Store additional information about the algorithm and dataset in the result\n",
    "perf_metrics_hdbscan_iris[\"Algo\"] = hdbscan.__class__.__name__\n",
    "perf_metrics_hdbscan_iris[\"dataset\"] = \"iris\"\n",
    "\n",
    "perf_metrics_hdbscan_iris"
   ]
  },
  {
   "cell_type": "markdown",
   "id": "71d30a82-42da-40e6-8cb3-8b89284738ab",
   "metadata": {},
   "source": [
    "### <span style=\"color:red\">Spectral Clustering</span> <a class=\"anchor\"></a>"
   ]
  },
  {
   "cell_type": "code",
   "execution_count": 8,
   "id": "9cbec0ca-3567-486b-bf28-b111a0582f02",
   "metadata": {},
   "outputs": [],
   "source": [
    "from sklearn.cluster import SpectralClustering"
   ]
  },
  {
   "cell_type": "code",
   "execution_count": 9,
   "id": "317f779a-588b-40b7-9c62-538377aca288",
   "metadata": {},
   "outputs": [
    {
     "data": {
      "text/html": [
       "<div>\n",
       "<style scoped>\n",
       "    .dataframe tbody tr th:only-of-type {\n",
       "        vertical-align: middle;\n",
       "    }\n",
       "\n",
       "    .dataframe tbody tr th {\n",
       "        vertical-align: top;\n",
       "    }\n",
       "\n",
       "    .dataframe thead th {\n",
       "        text-align: right;\n",
       "    }\n",
       "</style>\n",
       "<table border=\"1\" class=\"dataframe\">\n",
       "  <thead>\n",
       "    <tr style=\"text-align: right;\">\n",
       "      <th></th>\n",
       "      <th>f1</th>\n",
       "      <th>ARI</th>\n",
       "      <th>ACC</th>\n",
       "      <th>NMI</th>\n",
       "      <th>cover_rate</th>\n",
       "      <th>classes</th>\n",
       "      <th>Algo</th>\n",
       "      <th>dataset</th>\n",
       "    </tr>\n",
       "  </thead>\n",
       "  <tbody>\n",
       "    <tr>\n",
       "      <th>0</th>\n",
       "      <td>0.901225</td>\n",
       "      <td>0.743683</td>\n",
       "      <td>0.9</td>\n",
       "      <td>0.766036</td>\n",
       "      <td>1.0</td>\n",
       "      <td>3.0</td>\n",
       "      <td>SpectralClustering</td>\n",
       "      <td>iris</td>\n",
       "    </tr>\n",
       "  </tbody>\n",
       "</table>\n",
       "</div>"
      ],
      "text/plain": [
       "         f1       ARI  ACC       NMI  cover_rate  classes                Algo  \\\n",
       "0  0.901225  0.743683  0.9  0.766036         1.0      3.0  SpectralClustering   \n",
       "\n",
       "  dataset  \n",
       "0    iris  "
      ]
     },
     "execution_count": 9,
     "metadata": {},
     "output_type": "execute_result"
    }
   ],
   "source": [
    "# Create an instance of the Spectral Clustering algorithm \n",
    "spectral_clustering = SpectralClustering(n_clusters=3, assign_labels=\"discretize\",\n",
    "                                         random_state=0, affinity='rbf')\n",
    "\n",
    "# Apply the Spectral Clustering algorithm to predict the clusters in the data\n",
    "spectral_clustering.fit(X_iris)\n",
    "\n",
    "# Get the predicted Clusters\n",
    "Y_iris_pred_speclustr = spectral_clustering.labels_\n",
    "\n",
    "# Calculate various clustering metrics to evaluate the performance\n",
    "perf_metrics_speclustr_iris = measures_calculator(Y_iris_pred_speclustr, Y_iris_true)\n",
    "\n",
    "# Store additional information about the algorithm and dataset in the result\n",
    "perf_metrics_speclustr_iris[\"Algo\"] = spectral_clustering.__class__.__name__\n",
    "perf_metrics_speclustr_iris[\"dataset\"] = \"iris\"\n",
    "\n",
    "perf_metrics_speclustr_iris"
   ]
  },
  {
   "cell_type": "markdown",
   "id": "6f727c26-bd24-4649-be2d-11048b10d16a",
   "metadata": {},
   "source": [
    "### <span style=\"color:red\">K-Means</span> <a class=\"anchor\"></a>"
   ]
  },
  {
   "cell_type": "code",
   "execution_count": 10,
   "id": "44f3c246-cea0-4cd3-9746-b2ee8f371d92",
   "metadata": {},
   "outputs": [],
   "source": [
    "from sklearn.cluster import KMeans"
   ]
  },
  {
   "cell_type": "code",
   "execution_count": 11,
   "id": "bc6142d4-9eba-4432-ac9a-21e7bed57b4a",
   "metadata": {},
   "outputs": [
    {
     "data": {
      "text/html": [
       "<div>\n",
       "<style scoped>\n",
       "    .dataframe tbody tr th:only-of-type {\n",
       "        vertical-align: middle;\n",
       "    }\n",
       "\n",
       "    .dataframe tbody tr th {\n",
       "        vertical-align: top;\n",
       "    }\n",
       "\n",
       "    .dataframe thead th {\n",
       "        text-align: right;\n",
       "    }\n",
       "</style>\n",
       "<table border=\"1\" class=\"dataframe\">\n",
       "  <thead>\n",
       "    <tr style=\"text-align: right;\">\n",
       "      <th></th>\n",
       "      <th>f1</th>\n",
       "      <th>ARI</th>\n",
       "      <th>ACC</th>\n",
       "      <th>NMI</th>\n",
       "      <th>cover_rate</th>\n",
       "      <th>classes</th>\n",
       "      <th>Algo</th>\n",
       "      <th>dataset</th>\n",
       "    </tr>\n",
       "  </thead>\n",
       "  <tbody>\n",
       "    <tr>\n",
       "      <th>0</th>\n",
       "      <td>0.888055</td>\n",
       "      <td>0.716342</td>\n",
       "      <td>0.886667</td>\n",
       "      <td>0.741912</td>\n",
       "      <td>1.0</td>\n",
       "      <td>3.0</td>\n",
       "      <td>KMeans</td>\n",
       "      <td>iris</td>\n",
       "    </tr>\n",
       "  </tbody>\n",
       "</table>\n",
       "</div>"
      ],
      "text/plain": [
       "         f1       ARI       ACC       NMI  cover_rate  classes    Algo dataset\n",
       "0  0.888055  0.716342  0.886667  0.741912         1.0      3.0  KMeans    iris"
      ]
     },
     "execution_count": 11,
     "metadata": {},
     "output_type": "execute_result"
    }
   ],
   "source": [
    "# Create an instance of the K-means algorithm \n",
    "kmeans = KMeans(n_clusters=3, random_state=0)\n",
    "\n",
    "# Apply the K-means algorithm to predict the clusters in the data\n",
    "kmeans.fit(X_iris)\n",
    "\n",
    "# Get the predicted Clusters\n",
    "Y_iris_pred_kmeans = kmeans.labels_\n",
    "\n",
    "# Calculate various clustering metrics to evaluate the performance\n",
    "perf_metrics_kmeans_iris = measures_calculator(Y_iris_pred_kmeans, Y_iris_true)\n",
    "\n",
    "# Store additional information about the algorithm and dataset in the result\n",
    "perf_metrics_kmeans_iris[\"Algo\"] = kmeans.__class__.__name__\n",
    "perf_metrics_kmeans_iris[\"dataset\"] = \"iris\"\n",
    "\n",
    "perf_metrics_kmeans_iris"
   ]
  },
  {
   "cell_type": "markdown",
   "id": "af7cb5fe-6443-442e-aff4-b9d2b5d808f2",
   "metadata": {},
   "source": [
    "### <span style=\"color:red\">DBSCAN</span> <a class=\"anchor\"></a>"
   ]
  },
  {
   "cell_type": "code",
   "execution_count": 12,
   "id": "2e35f4f1-87a6-44e3-adc1-3023f87ab790",
   "metadata": {},
   "outputs": [],
   "source": [
    "from sklearn.cluster import DBSCAN"
   ]
  },
  {
   "cell_type": "code",
   "execution_count": 13,
   "id": "3df0b9a7-d2f3-40bf-9041-2bde80037238",
   "metadata": {},
   "outputs": [
    {
     "data": {
      "text/html": [
       "<div>\n",
       "<style scoped>\n",
       "    .dataframe tbody tr th:only-of-type {\n",
       "        vertical-align: middle;\n",
       "    }\n",
       "\n",
       "    .dataframe tbody tr th {\n",
       "        vertical-align: top;\n",
       "    }\n",
       "\n",
       "    .dataframe thead th {\n",
       "        text-align: right;\n",
       "    }\n",
       "</style>\n",
       "<table border=\"1\" class=\"dataframe\">\n",
       "  <thead>\n",
       "    <tr style=\"text-align: right;\">\n",
       "      <th></th>\n",
       "      <th>f1</th>\n",
       "      <th>ARI</th>\n",
       "      <th>ACC</th>\n",
       "      <th>NMI</th>\n",
       "      <th>cover_rate</th>\n",
       "      <th>classes</th>\n",
       "      <th>Algo</th>\n",
       "      <th>dataset</th>\n",
       "    </tr>\n",
       "  </thead>\n",
       "  <tbody>\n",
       "    <tr>\n",
       "      <th>0</th>\n",
       "      <td>0.724959</td>\n",
       "      <td>0.520619</td>\n",
       "      <td>0.686667</td>\n",
       "      <td>0.604416</td>\n",
       "      <td>1.0</td>\n",
       "      <td>3.0</td>\n",
       "      <td>DBSCAN</td>\n",
       "      <td>iris</td>\n",
       "    </tr>\n",
       "  </tbody>\n",
       "</table>\n",
       "</div>"
      ],
      "text/plain": [
       "         f1       ARI       ACC       NMI  cover_rate  classes    Algo dataset\n",
       "0  0.724959  0.520619  0.686667  0.604416         1.0      3.0  DBSCAN    iris"
      ]
     },
     "execution_count": 13,
     "metadata": {},
     "output_type": "execute_result"
    }
   ],
   "source": [
    "# Create an instance of the DBSCAN algorithm\n",
    "dbscan = DBSCAN(eps=0.5, min_samples=5)\n",
    "\n",
    "# Apply the DBSCAN algorithm to predict the clusters in the data\n",
    "Y_iris_pred_dbscan = dbscan.fit_predict(X_iris)\n",
    "\n",
    "# Calculate various clustering metrics to evaluate the performance\n",
    "perf_metrics_dbscan_iris = measures_calculator(Y_iris_pred_dbscan, Y_iris_true)\n",
    "perf_metrics_dbscan_iris\n",
    "\n",
    "# Store additional information about the algorithm and dataset in the result\n",
    "perf_metrics_dbscan_iris[\"Algo\"] = dbscan.__class__.__name__\n",
    "perf_metrics_dbscan_iris[\"dataset\"] = \"iris\"\n",
    "\n",
    "perf_metrics_dbscan_iris"
   ]
  },
  {
   "cell_type": "markdown",
   "id": "b73de449-a24a-4930-ad7f-2283cf918729",
   "metadata": {},
   "source": [
    "### <span style=\"color:red\">Agglomerative Clustering</span> <a class=\"anchor\"></a>"
   ]
  },
  {
   "cell_type": "code",
   "execution_count": 14,
   "id": "e44cdd57-8071-4376-9397-8ca3a7196f7b",
   "metadata": {},
   "outputs": [],
   "source": [
    "from sklearn.cluster import AgglomerativeClustering"
   ]
  },
  {
   "cell_type": "code",
   "execution_count": 15,
   "id": "79625145-fe54-425c-9efd-132526df75e8",
   "metadata": {},
   "outputs": [
    {
     "data": {
      "text/html": [
       "<div>\n",
       "<style scoped>\n",
       "    .dataframe tbody tr th:only-of-type {\n",
       "        vertical-align: middle;\n",
       "    }\n",
       "\n",
       "    .dataframe tbody tr th {\n",
       "        vertical-align: top;\n",
       "    }\n",
       "\n",
       "    .dataframe thead th {\n",
       "        text-align: right;\n",
       "    }\n",
       "</style>\n",
       "<table border=\"1\" class=\"dataframe\">\n",
       "  <thead>\n",
       "    <tr style=\"text-align: right;\">\n",
       "      <th></th>\n",
       "      <th>f1</th>\n",
       "      <th>ARI</th>\n",
       "      <th>ACC</th>\n",
       "      <th>NMI</th>\n",
       "      <th>cover_rate</th>\n",
       "      <th>classes</th>\n",
       "      <th>Algo</th>\n",
       "      <th>dataset</th>\n",
       "    </tr>\n",
       "  </thead>\n",
       "  <tbody>\n",
       "    <tr>\n",
       "      <th>0</th>\n",
       "      <td>0.895466</td>\n",
       "      <td>0.731199</td>\n",
       "      <td>0.893333</td>\n",
       "      <td>0.770084</td>\n",
       "      <td>1.0</td>\n",
       "      <td>3.0</td>\n",
       "      <td>AgglomerativeClustering</td>\n",
       "      <td>iris</td>\n",
       "    </tr>\n",
       "  </tbody>\n",
       "</table>\n",
       "</div>"
      ],
      "text/plain": [
       "         f1       ARI       ACC       NMI  cover_rate  classes  \\\n",
       "0  0.895466  0.731199  0.893333  0.770084         1.0      3.0   \n",
       "\n",
       "                      Algo dataset  \n",
       "0  AgglomerativeClustering    iris  "
      ]
     },
     "execution_count": 15,
     "metadata": {},
     "output_type": "execute_result"
    }
   ],
   "source": [
    "# Create an instance of the Agglomerative Clustering algorithm\n",
    "agg_clustering = AgglomerativeClustering(n_clusters=3)\n",
    "\n",
    "# Apply the Agglomerative Clustering algorithm to predict the clusters in the data\n",
    "Y_iris_pred_agg = agg_clustering.fit_predict(X_iris)\n",
    "\n",
    "# Calculate various clustering metrics to evaluate the performance\n",
    "perf_metrics_agg_iris = measures_calculator(Y_iris_pred_agg, Y_iris_true)\n",
    "perf_metrics_agg_iris\n",
    "\n",
    "# Store additional information about the algorithm and dataset in the result\n",
    "perf_metrics_agg_iris[\"Algo\"] = agg_clustering.__class__.__name__\n",
    "perf_metrics_agg_iris[\"dataset\"] = \"iris\"\n",
    "\n",
    "perf_metrics_agg_iris"
   ]
  },
  {
   "cell_type": "markdown",
   "id": "2bf93f9c-2f57-46ec-bb27-ddbf3dc9a32d",
   "metadata": {},
   "source": [
    "### <span style=\"color:red\">Gaussian Mixture Models (GMM)</span> <a class=\"anchor\"></a>"
   ]
  },
  {
   "cell_type": "code",
   "execution_count": 16,
   "id": "506014c4-3628-4344-9e51-f758b19acd6f",
   "metadata": {},
   "outputs": [],
   "source": [
    "from sklearn.mixture import GaussianMixture"
   ]
  },
  {
   "cell_type": "code",
   "execution_count": 17,
   "id": "31e76748-a66b-4205-b98c-b6b72ed5fc30",
   "metadata": {},
   "outputs": [
    {
     "data": {
      "text/html": [
       "<div>\n",
       "<style scoped>\n",
       "    .dataframe tbody tr th:only-of-type {\n",
       "        vertical-align: middle;\n",
       "    }\n",
       "\n",
       "    .dataframe tbody tr th {\n",
       "        vertical-align: top;\n",
       "    }\n",
       "\n",
       "    .dataframe thead th {\n",
       "        text-align: right;\n",
       "    }\n",
       "</style>\n",
       "<table border=\"1\" class=\"dataframe\">\n",
       "  <thead>\n",
       "    <tr style=\"text-align: right;\">\n",
       "      <th></th>\n",
       "      <th>f1</th>\n",
       "      <th>ARI</th>\n",
       "      <th>ACC</th>\n",
       "      <th>NMI</th>\n",
       "      <th>cover_rate</th>\n",
       "      <th>classes</th>\n",
       "      <th>Algo</th>\n",
       "      <th>dataset</th>\n",
       "    </tr>\n",
       "  </thead>\n",
       "  <tbody>\n",
       "    <tr>\n",
       "      <th>0</th>\n",
       "      <td>0.96675</td>\n",
       "      <td>0.903874</td>\n",
       "      <td>0.966667</td>\n",
       "      <td>0.899694</td>\n",
       "      <td>1.0</td>\n",
       "      <td>3.0</td>\n",
       "      <td>GaussianMixture</td>\n",
       "      <td>iris</td>\n",
       "    </tr>\n",
       "  </tbody>\n",
       "</table>\n",
       "</div>"
      ],
      "text/plain": [
       "        f1       ARI       ACC       NMI  cover_rate  classes  \\\n",
       "0  0.96675  0.903874  0.966667  0.899694         1.0      3.0   \n",
       "\n",
       "              Algo dataset  \n",
       "0  GaussianMixture    iris  "
      ]
     },
     "execution_count": 17,
     "metadata": {},
     "output_type": "execute_result"
    }
   ],
   "source": [
    "# Create an instance of the Gaussian Mixture Models algorithm\n",
    "gmm = GaussianMixture(n_components=3, random_state=0)\n",
    "\n",
    "# Fit the Gaussian Mixture Models algorithm to the data and predict the clusters\n",
    "gmm.fit(X_iris)\n",
    "Y_iris_pred_gmm = gmm.predict(X_iris)\n",
    "\n",
    "# Calculate various clustering metrics to evaluate the performance\n",
    "perf_metrics_gmm_iris = measures_calculator(Y_iris_pred_gmm, Y_iris_true)\n",
    "\n",
    "# Store additional information about the algorithm and dataset in the result\n",
    "perf_metrics_gmm_iris[\"Algo\"] = gmm.__class__.__name__\n",
    "perf_metrics_gmm_iris[\"dataset\"] = \"iris\"\n",
    "\n",
    "perf_metrics_gmm_iris"
   ]
  },
  {
   "cell_type": "markdown",
   "id": "f31f446e-c1e5-439d-9e64-433348749953",
   "metadata": {},
   "source": [
    "### <span style=\"color:blue\">Benchmark Results</span> <a class=\"anchor\"></a>"
   ]
  },
  {
   "cell_type": "code",
   "execution_count": 18,
   "id": "cec69bd5-b327-4aa0-a568-ff1ade2bcbf4",
   "metadata": {},
   "outputs": [
    {
     "data": {
      "text/html": [
       "<div>\n",
       "<style scoped>\n",
       "    .dataframe tbody tr th:only-of-type {\n",
       "        vertical-align: middle;\n",
       "    }\n",
       "\n",
       "    .dataframe tbody tr th {\n",
       "        vertical-align: top;\n",
       "    }\n",
       "\n",
       "    .dataframe thead th {\n",
       "        text-align: right;\n",
       "    }\n",
       "</style>\n",
       "<table border=\"1\" class=\"dataframe\">\n",
       "  <thead>\n",
       "    <tr style=\"text-align: right;\">\n",
       "      <th></th>\n",
       "      <th>f1</th>\n",
       "      <th>ARI</th>\n",
       "      <th>ACC</th>\n",
       "      <th>NMI</th>\n",
       "      <th>cover_rate</th>\n",
       "      <th>classes</th>\n",
       "      <th>Algo</th>\n",
       "      <th>dataset</th>\n",
       "    </tr>\n",
       "  </thead>\n",
       "  <tbody>\n",
       "    <tr>\n",
       "      <th>0</th>\n",
       "      <td>0.883153</td>\n",
       "      <td>0.706006</td>\n",
       "      <td>0.880000</td>\n",
       "      <td>0.756087</td>\n",
       "      <td>1.0</td>\n",
       "      <td>3.0</td>\n",
       "      <td>GIT</td>\n",
       "      <td>iris</td>\n",
       "    </tr>\n",
       "    <tr>\n",
       "      <th>1</th>\n",
       "      <td>0.775507</td>\n",
       "      <td>0.562136</td>\n",
       "      <td>0.686667</td>\n",
       "      <td>0.713099</td>\n",
       "      <td>1.0</td>\n",
       "      <td>3.0</td>\n",
       "      <td>HDBSCAN</td>\n",
       "      <td>iris</td>\n",
       "    </tr>\n",
       "    <tr>\n",
       "      <th>2</th>\n",
       "      <td>0.901225</td>\n",
       "      <td>0.743683</td>\n",
       "      <td>0.900000</td>\n",
       "      <td>0.766036</td>\n",
       "      <td>1.0</td>\n",
       "      <td>3.0</td>\n",
       "      <td>SpectralClustering</td>\n",
       "      <td>iris</td>\n",
       "    </tr>\n",
       "    <tr>\n",
       "      <th>3</th>\n",
       "      <td>0.901225</td>\n",
       "      <td>0.743683</td>\n",
       "      <td>0.900000</td>\n",
       "      <td>0.766036</td>\n",
       "      <td>1.0</td>\n",
       "      <td>3.0</td>\n",
       "      <td>SpectralClustering</td>\n",
       "      <td>iris</td>\n",
       "    </tr>\n",
       "    <tr>\n",
       "      <th>4</th>\n",
       "      <td>0.888055</td>\n",
       "      <td>0.716342</td>\n",
       "      <td>0.886667</td>\n",
       "      <td>0.741912</td>\n",
       "      <td>1.0</td>\n",
       "      <td>3.0</td>\n",
       "      <td>KMeans</td>\n",
       "      <td>iris</td>\n",
       "    </tr>\n",
       "    <tr>\n",
       "      <th>5</th>\n",
       "      <td>0.724959</td>\n",
       "      <td>0.520619</td>\n",
       "      <td>0.686667</td>\n",
       "      <td>0.604416</td>\n",
       "      <td>1.0</td>\n",
       "      <td>3.0</td>\n",
       "      <td>DBSCAN</td>\n",
       "      <td>iris</td>\n",
       "    </tr>\n",
       "    <tr>\n",
       "      <th>6</th>\n",
       "      <td>0.895466</td>\n",
       "      <td>0.731199</td>\n",
       "      <td>0.893333</td>\n",
       "      <td>0.770084</td>\n",
       "      <td>1.0</td>\n",
       "      <td>3.0</td>\n",
       "      <td>AgglomerativeClustering</td>\n",
       "      <td>iris</td>\n",
       "    </tr>\n",
       "    <tr>\n",
       "      <th>7</th>\n",
       "      <td>0.966750</td>\n",
       "      <td>0.903874</td>\n",
       "      <td>0.966667</td>\n",
       "      <td>0.899694</td>\n",
       "      <td>1.0</td>\n",
       "      <td>3.0</td>\n",
       "      <td>GaussianMixture</td>\n",
       "      <td>iris</td>\n",
       "    </tr>\n",
       "  </tbody>\n",
       "</table>\n",
       "</div>"
      ],
      "text/plain": [
       "         f1       ARI       ACC       NMI  cover_rate  classes  \\\n",
       "0  0.883153  0.706006  0.880000  0.756087         1.0      3.0   \n",
       "1  0.775507  0.562136  0.686667  0.713099         1.0      3.0   \n",
       "2  0.901225  0.743683  0.900000  0.766036         1.0      3.0   \n",
       "3  0.901225  0.743683  0.900000  0.766036         1.0      3.0   \n",
       "4  0.888055  0.716342  0.886667  0.741912         1.0      3.0   \n",
       "5  0.724959  0.520619  0.686667  0.604416         1.0      3.0   \n",
       "6  0.895466  0.731199  0.893333  0.770084         1.0      3.0   \n",
       "7  0.966750  0.903874  0.966667  0.899694         1.0      3.0   \n",
       "\n",
       "                      Algo dataset  \n",
       "0                      GIT    iris  \n",
       "1                  HDBSCAN    iris  \n",
       "2       SpectralClustering    iris  \n",
       "3       SpectralClustering    iris  \n",
       "4                   KMeans    iris  \n",
       "5                   DBSCAN    iris  \n",
       "6  AgglomerativeClustering    iris  \n",
       "7          GaussianMixture    iris  "
      ]
     },
     "execution_count": 18,
     "metadata": {},
     "output_type": "execute_result"
    }
   ],
   "source": [
    "full_perf_metrics_iris = pd.concat([perf_metrics_git_iris, \n",
    "                                    perf_metrics_hdbscan_iris,\n",
    "                                    perf_metrics_speclustr_iris,\n",
    "                                    perf_metrics_speclustr_iris,\n",
    "                                    perf_metrics_kmeans_iris,\n",
    "                                    perf_metrics_dbscan_iris,\n",
    "                                    perf_metrics_agg_iris,\n",
    "                                    perf_metrics_gmm_iris], ignore_index=True)\n",
    "full_perf_metrics_iris"
   ]
  },
  {
   "cell_type": "markdown",
   "id": "cb2892de-b99f-4ad3-8287-4bc75de4c1e2",
   "metadata": {},
   "source": [
    "## <center><a><span style=\"color:green\">Real Datasets - `Wine`</span></a></center>"
   ]
  },
  {
   "cell_type": "markdown",
   "id": "a69461a7-5afa-427f-a4d3-e1c45c51acd9",
   "metadata": {},
   "source": [
    "### Load the Wine data"
   ]
  },
  {
   "cell_type": "code",
   "execution_count": 19,
   "id": "10c90224-616e-4e51-b595-902d75f96206",
   "metadata": {},
   "outputs": [
    {
     "name": "stdout",
     "output_type": "stream",
     "text": [
      "The total number of Clusters in the Wine Dataset is: 3, and has 13 Features\n"
     ]
    }
   ],
   "source": [
    "X_wine, Y_wine_true = Real_DataLoader(name='wine', path=real_datasets_path).load()\n",
    "print(f'The total number of Clusters in the Wine Dataset is: {len(np.unique(Y_wine_true))}, and has {len(X_wine[0])} Features')"
   ]
  },
  {
   "cell_type": "markdown",
   "id": "499baef2-16c0-4722-bace-744433497069",
   "metadata": {},
   "source": [
    "### <span style=\"color:red\">GIT Clustring</span> <a class=\"anchor\"></a>"
   ]
  },
  {
   "cell_type": "code",
   "execution_count": 20,
   "id": "f640a944-0fe4-4366-8d46-df27743f314c",
   "metadata": {},
   "outputs": [],
   "source": [
    "from git_cluster import GIT"
   ]
  },
  {
   "cell_type": "code",
   "execution_count": 21,
   "id": "dca347c3-9ed8-4e17-9440-674e53240083",
   "metadata": {},
   "outputs": [
    {
     "data": {
      "text/html": [
       "<div>\n",
       "<style scoped>\n",
       "    .dataframe tbody tr th:only-of-type {\n",
       "        vertical-align: middle;\n",
       "    }\n",
       "\n",
       "    .dataframe tbody tr th {\n",
       "        vertical-align: top;\n",
       "    }\n",
       "\n",
       "    .dataframe thead th {\n",
       "        text-align: right;\n",
       "    }\n",
       "</style>\n",
       "<table border=\"1\" class=\"dataframe\">\n",
       "  <thead>\n",
       "    <tr style=\"text-align: right;\">\n",
       "      <th></th>\n",
       "      <th>f1</th>\n",
       "      <th>ARI</th>\n",
       "      <th>ACC</th>\n",
       "      <th>NMI</th>\n",
       "      <th>cover_rate</th>\n",
       "      <th>classes</th>\n",
       "      <th>Algo</th>\n",
       "      <th>dataset</th>\n",
       "    </tr>\n",
       "  </thead>\n",
       "  <tbody>\n",
       "    <tr>\n",
       "      <th>0</th>\n",
       "      <td>0.900735</td>\n",
       "      <td>0.713308</td>\n",
       "      <td>0.898876</td>\n",
       "      <td>0.75702</td>\n",
       "      <td>1.0</td>\n",
       "      <td>3.0</td>\n",
       "      <td>GIT</td>\n",
       "      <td>wine</td>\n",
       "    </tr>\n",
       "  </tbody>\n",
       "</table>\n",
       "</div>"
      ],
      "text/plain": [
       "         f1       ARI       ACC      NMI  cover_rate  classes Algo dataset\n",
       "0  0.900735  0.713308  0.898876  0.75702         1.0      3.0  GIT    wine"
      ]
     },
     "execution_count": 21,
     "metadata": {},
     "output_type": "execute_result"
    }
   ],
   "source": [
    "# Create an instance of the GIT clustering\n",
    "git = GIT(k=20, target_ratio=[1, 1, 1])\n",
    "\n",
    "# Apply the GIT algorithm to predict the clusters in the data\n",
    "Y_wine_pred_git = git.fit_predict(X_wine)\n",
    "\n",
    "# Calculate various clustering metrics to evaluate the performance\n",
    "perf_metrics_git_wine = measures_calculator(Y_wine_pred_git, Y_wine_true)\n",
    "\n",
    "# Store additional information about the algorithm and dataset in the result\n",
    "perf_metrics_git_wine[\"Algo\"] = git.__class__.__name__\n",
    "perf_metrics_git_wine[\"dataset\"] = \"wine\"\n",
    "\n",
    "perf_metrics_git_wine"
   ]
  },
  {
   "cell_type": "markdown",
   "id": "267517df-ab89-49a7-a1df-dddeb72f27bd",
   "metadata": {},
   "source": [
    "### <span style=\"color:red\">HDBSCAN</span> <a class=\"anchor\"></a>"
   ]
  },
  {
   "cell_type": "code",
   "execution_count": 22,
   "id": "6e3a9285-ff55-4521-80c7-5dbe6d2f41b1",
   "metadata": {},
   "outputs": [],
   "source": [
    "import hdbscan"
   ]
  },
  {
   "cell_type": "code",
   "execution_count": 23,
   "id": "20a2ee4a-07a1-4331-9853-5e2b9a1fb5ca",
   "metadata": {},
   "outputs": [
    {
     "data": {
      "text/html": [
       "<div>\n",
       "<style scoped>\n",
       "    .dataframe tbody tr th:only-of-type {\n",
       "        vertical-align: middle;\n",
       "    }\n",
       "\n",
       "    .dataframe tbody tr th {\n",
       "        vertical-align: top;\n",
       "    }\n",
       "\n",
       "    .dataframe thead th {\n",
       "        text-align: right;\n",
       "    }\n",
       "</style>\n",
       "<table border=\"1\" class=\"dataframe\">\n",
       "  <thead>\n",
       "    <tr style=\"text-align: right;\">\n",
       "      <th></th>\n",
       "      <th>f1</th>\n",
       "      <th>ARI</th>\n",
       "      <th>ACC</th>\n",
       "      <th>NMI</th>\n",
       "      <th>cover_rate</th>\n",
       "      <th>classes</th>\n",
       "      <th>Algo</th>\n",
       "      <th>dataset</th>\n",
       "    </tr>\n",
       "  </thead>\n",
       "  <tbody>\n",
       "    <tr>\n",
       "      <th>0</th>\n",
       "      <td>0.678477</td>\n",
       "      <td>0.29075</td>\n",
       "      <td>0.606742</td>\n",
       "      <td>0.402635</td>\n",
       "      <td>1.0</td>\n",
       "      <td>3.0</td>\n",
       "      <td>HDBSCAN</td>\n",
       "      <td>wine</td>\n",
       "    </tr>\n",
       "  </tbody>\n",
       "</table>\n",
       "</div>"
      ],
      "text/plain": [
       "         f1      ARI       ACC       NMI  cover_rate  classes     Algo dataset\n",
       "0  0.678477  0.29075  0.606742  0.402635         1.0      3.0  HDBSCAN    wine"
      ]
     },
     "execution_count": 23,
     "metadata": {},
     "output_type": "execute_result"
    }
   ],
   "source": [
    "# Create an instance of the HDBSCAN clustering\n",
    "hdbscan = hdbscan.HDBSCAN(min_cluster_size=20, min_samples=2, gen_min_span_tree=True)\n",
    "\n",
    "# Apply the HDBSCAN algorithm to predict the clusters in the data\n",
    "hdbscan.fit(X_wine)\n",
    "\n",
    "# Get the predicted Clusters\n",
    "Y_wine_pred_hdbscan = hdbscan.labels_\n",
    "\n",
    "# Calculate various clustering metrics to evaluate the performance\n",
    "perf_metrics_hdbscan_wine = measures_calculator(Y_wine_pred_hdbscan, Y_wine_true)\n",
    "\n",
    "# Store additional information about the algorithm and dataset in the result\n",
    "perf_metrics_hdbscan_wine[\"Algo\"] = hdbscan.__class__.__name__\n",
    "perf_metrics_hdbscan_wine[\"dataset\"] = \"wine\"\n",
    "\n",
    "perf_metrics_hdbscan_wine"
   ]
  },
  {
   "cell_type": "markdown",
   "id": "305f5b0e-81ea-43c0-97be-a328bbd9532d",
   "metadata": {},
   "source": [
    "### <span style=\"color:red\">Spectral Clustering</span> <a class=\"anchor\"></a>"
   ]
  },
  {
   "cell_type": "code",
   "execution_count": 24,
   "id": "6bc1fcc9-2229-4a75-8b3b-3d75361ff962",
   "metadata": {},
   "outputs": [],
   "source": [
    "from sklearn.cluster import SpectralClustering"
   ]
  },
  {
   "cell_type": "code",
   "execution_count": 25,
   "id": "394c5613-98db-4b2d-9205-4a5290c63ded",
   "metadata": {},
   "outputs": [
    {
     "data": {
      "text/html": [
       "<div>\n",
       "<style scoped>\n",
       "    .dataframe tbody tr th:only-of-type {\n",
       "        vertical-align: middle;\n",
       "    }\n",
       "\n",
       "    .dataframe tbody tr th {\n",
       "        vertical-align: top;\n",
       "    }\n",
       "\n",
       "    .dataframe thead th {\n",
       "        text-align: right;\n",
       "    }\n",
       "</style>\n",
       "<table border=\"1\" class=\"dataframe\">\n",
       "  <thead>\n",
       "    <tr style=\"text-align: right;\">\n",
       "      <th></th>\n",
       "      <th>f1</th>\n",
       "      <th>ARI</th>\n",
       "      <th>ACC</th>\n",
       "      <th>NMI</th>\n",
       "      <th>cover_rate</th>\n",
       "      <th>classes</th>\n",
       "      <th>Algo</th>\n",
       "      <th>dataset</th>\n",
       "    </tr>\n",
       "  </thead>\n",
       "  <tbody>\n",
       "    <tr>\n",
       "      <th>0</th>\n",
       "      <td>0.466706</td>\n",
       "      <td>0.01346</td>\n",
       "      <td>0.432584</td>\n",
       "      <td>0.014041</td>\n",
       "      <td>1.0</td>\n",
       "      <td>3.0</td>\n",
       "      <td>SpectralClustering</td>\n",
       "      <td>wine</td>\n",
       "    </tr>\n",
       "  </tbody>\n",
       "</table>\n",
       "</div>"
      ],
      "text/plain": [
       "         f1      ARI       ACC       NMI  cover_rate  classes  \\\n",
       "0  0.466706  0.01346  0.432584  0.014041         1.0      3.0   \n",
       "\n",
       "                 Algo dataset  \n",
       "0  SpectralClustering    wine  "
      ]
     },
     "execution_count": 25,
     "metadata": {},
     "output_type": "execute_result"
    }
   ],
   "source": [
    "# Create an instance of the Spectral Clustering algorithm \n",
    "spectral_clustering = SpectralClustering(n_clusters=3, assign_labels=\"discretize\", \n",
    "                                         random_state=0, affinity='rbf')\n",
    "\n",
    "# Apply the Spectral Clustering algorithm to predict the clusters in the data\n",
    "spectral_clustering.fit(X_wine)\n",
    "\n",
    "# Get the predicted Clusters\n",
    "Y_wine_pred_speclustr = spectral_clustering.labels_\n",
    "\n",
    "# Calculate various clustering metrics to evaluate the performance\n",
    "perf_metrics_speclustr_wine = measures_calculator(Y_wine_pred_speclustr, Y_wine_true)\n",
    "\n",
    "# Store additional information about the algorithm and dataset in the result\n",
    "perf_metrics_speclustr_wine[\"Algo\"] = spectral_clustering.__class__.__name__\n",
    "perf_metrics_speclustr_wine[\"dataset\"] = \"wine\"\n",
    "\n",
    "perf_metrics_speclustr_wine"
   ]
  },
  {
   "cell_type": "markdown",
   "id": "a09354ac-00ea-4978-bae2-33bf3ed0ecb0",
   "metadata": {},
   "source": [
    "### <span style=\"color:red\">K-Means</span> <a class=\"anchor\"></a>"
   ]
  },
  {
   "cell_type": "code",
   "execution_count": 26,
   "id": "9b66de66-033f-443b-8709-b59b42a3458d",
   "metadata": {},
   "outputs": [],
   "source": [
    "from sklearn.cluster import KMeans"
   ]
  },
  {
   "cell_type": "code",
   "execution_count": 27,
   "id": "dadb86b2-0b2f-4c7c-9463-64988d1baf0b",
   "metadata": {},
   "outputs": [
    {
     "data": {
      "text/html": [
       "<div>\n",
       "<style scoped>\n",
       "    .dataframe tbody tr th:only-of-type {\n",
       "        vertical-align: middle;\n",
       "    }\n",
       "\n",
       "    .dataframe tbody tr th {\n",
       "        vertical-align: top;\n",
       "    }\n",
       "\n",
       "    .dataframe thead th {\n",
       "        text-align: right;\n",
       "    }\n",
       "</style>\n",
       "<table border=\"1\" class=\"dataframe\">\n",
       "  <thead>\n",
       "    <tr style=\"text-align: right;\">\n",
       "      <th></th>\n",
       "      <th>f1</th>\n",
       "      <th>ARI</th>\n",
       "      <th>ACC</th>\n",
       "      <th>NMI</th>\n",
       "      <th>cover_rate</th>\n",
       "      <th>classes</th>\n",
       "      <th>Algo</th>\n",
       "      <th>dataset</th>\n",
       "    </tr>\n",
       "  </thead>\n",
       "  <tbody>\n",
       "    <tr>\n",
       "      <th>0</th>\n",
       "      <td>0.689714</td>\n",
       "      <td>0.371114</td>\n",
       "      <td>0.702247</td>\n",
       "      <td>0.428757</td>\n",
       "      <td>1.0</td>\n",
       "      <td>3.0</td>\n",
       "      <td>KMeans</td>\n",
       "      <td>wine</td>\n",
       "    </tr>\n",
       "  </tbody>\n",
       "</table>\n",
       "</div>"
      ],
      "text/plain": [
       "         f1       ARI       ACC       NMI  cover_rate  classes    Algo dataset\n",
       "0  0.689714  0.371114  0.702247  0.428757         1.0      3.0  KMeans    wine"
      ]
     },
     "execution_count": 27,
     "metadata": {},
     "output_type": "execute_result"
    }
   ],
   "source": [
    "# Create an instance of the K-means algorithm \n",
    "kmeans = KMeans(n_clusters=3, random_state=0)\n",
    "\n",
    "# Apply the K-means algorithm to predict the clusters in the data\n",
    "kmeans.fit(X_wine)\n",
    "\n",
    "# Get the predicted Clusters\n",
    "Y_wine_pred_kmeans = kmeans.labels_\n",
    "\n",
    "# Calculate various clustering metrics to evaluate the performance\n",
    "perf_metrics_kmeans_wine = measures_calculator(Y_wine_pred_kmeans, Y_wine_true)\n",
    "\n",
    "# Store additional information about the algorithm and dataset in the result\n",
    "perf_metrics_kmeans_wine[\"Algo\"] = kmeans.__class__.__name__\n",
    "perf_metrics_kmeans_wine[\"dataset\"] = \"wine\"\n",
    "\n",
    "perf_metrics_kmeans_wine"
   ]
  },
  {
   "cell_type": "markdown",
   "id": "5523abc9-1314-4998-a28e-6488ac2066bd",
   "metadata": {},
   "source": [
    "### <span style=\"color:red\">DBSCAN</span> <a class=\"anchor\"></a>"
   ]
  },
  {
   "cell_type": "code",
   "execution_count": 28,
   "id": "4008d17b-814c-475a-8ac4-3b28fc2b6dd7",
   "metadata": {},
   "outputs": [],
   "source": [
    "from sklearn.cluster import DBSCAN"
   ]
  },
  {
   "cell_type": "code",
   "execution_count": 29,
   "id": "61c9d902-c659-40f2-be78-e057c5fb0611",
   "metadata": {},
   "outputs": [
    {
     "data": {
      "text/html": [
       "<div>\n",
       "<style scoped>\n",
       "    .dataframe tbody tr th:only-of-type {\n",
       "        vertical-align: middle;\n",
       "    }\n",
       "\n",
       "    .dataframe tbody tr th {\n",
       "        vertical-align: top;\n",
       "    }\n",
       "\n",
       "    .dataframe thead th {\n",
       "        text-align: right;\n",
       "    }\n",
       "</style>\n",
       "<table border=\"1\" class=\"dataframe\">\n",
       "  <thead>\n",
       "    <tr style=\"text-align: right;\">\n",
       "      <th></th>\n",
       "      <th>f1</th>\n",
       "      <th>ARI</th>\n",
       "      <th>ACC</th>\n",
       "      <th>NMI</th>\n",
       "      <th>cover_rate</th>\n",
       "      <th>classes</th>\n",
       "      <th>Algo</th>\n",
       "      <th>dataset</th>\n",
       "    </tr>\n",
       "  </thead>\n",
       "  <tbody>\n",
       "    <tr>\n",
       "      <th>0</th>\n",
       "      <td>0.570281</td>\n",
       "      <td>0.0</td>\n",
       "      <td>0.398876</td>\n",
       "      <td>0.0</td>\n",
       "      <td>1.0</td>\n",
       "      <td>3.0</td>\n",
       "      <td>DBSCAN</td>\n",
       "      <td>wine</td>\n",
       "    </tr>\n",
       "  </tbody>\n",
       "</table>\n",
       "</div>"
      ],
      "text/plain": [
       "         f1  ARI       ACC  NMI  cover_rate  classes    Algo dataset\n",
       "0  0.570281  0.0  0.398876  0.0         1.0      3.0  DBSCAN    wine"
      ]
     },
     "execution_count": 29,
     "metadata": {},
     "output_type": "execute_result"
    }
   ],
   "source": [
    "# Create an instance of the DBSCAN algorithm\n",
    "dbscan = DBSCAN(eps=0.5, min_samples=5)\n",
    "\n",
    "# Apply the DBSCAN algorithm to predict the clusters in the data\n",
    "Y_wine_pred_dbscan = dbscan.fit_predict(X_wine)\n",
    "\n",
    "# Calculate various clustering metrics to evaluate the performance\n",
    "perf_metrics_dbscan_wine = measures_calculator(Y_wine_pred_dbscan, Y_wine_true)\n",
    "\n",
    "# Store additional information about the algorithm and dataset in the result\n",
    "perf_metrics_dbscan_wine[\"Algo\"] = dbscan.__class__.__name__\n",
    "perf_metrics_dbscan_wine[\"dataset\"] = \"wine\"\n",
    "\n",
    "perf_metrics_dbscan_wine"
   ]
  },
  {
   "cell_type": "markdown",
   "id": "fd73848e-fcad-47fe-b5de-d12b726c70b6",
   "metadata": {},
   "source": [
    "### <span style=\"color:red\">Agglomerative Clustering</span> <a class=\"anchor\"></a>"
   ]
  },
  {
   "cell_type": "code",
   "execution_count": 30,
   "id": "90bfe9bc-87f4-4413-907c-852c77efa39a",
   "metadata": {},
   "outputs": [],
   "source": [
    "from sklearn.cluster import AgglomerativeClustering"
   ]
  },
  {
   "cell_type": "code",
   "execution_count": 31,
   "id": "1604aea1-1d51-494a-bf3c-b5103ed354f4",
   "metadata": {},
   "outputs": [
    {
     "data": {
      "text/html": [
       "<div>\n",
       "<style scoped>\n",
       "    .dataframe tbody tr th:only-of-type {\n",
       "        vertical-align: middle;\n",
       "    }\n",
       "\n",
       "    .dataframe tbody tr th {\n",
       "        vertical-align: top;\n",
       "    }\n",
       "\n",
       "    .dataframe thead th {\n",
       "        text-align: right;\n",
       "    }\n",
       "</style>\n",
       "<table border=\"1\" class=\"dataframe\">\n",
       "  <thead>\n",
       "    <tr style=\"text-align: right;\">\n",
       "      <th></th>\n",
       "      <th>f1</th>\n",
       "      <th>ARI</th>\n",
       "      <th>ACC</th>\n",
       "      <th>NMI</th>\n",
       "      <th>cover_rate</th>\n",
       "      <th>classes</th>\n",
       "      <th>Algo</th>\n",
       "      <th>dataset</th>\n",
       "    </tr>\n",
       "  </thead>\n",
       "  <tbody>\n",
       "    <tr>\n",
       "      <th>0</th>\n",
       "      <td>0.686376</td>\n",
       "      <td>0.368402</td>\n",
       "      <td>0.696629</td>\n",
       "      <td>0.416077</td>\n",
       "      <td>1.0</td>\n",
       "      <td>3.0</td>\n",
       "      <td>AgglomerativeClustering</td>\n",
       "      <td>wine</td>\n",
       "    </tr>\n",
       "  </tbody>\n",
       "</table>\n",
       "</div>"
      ],
      "text/plain": [
       "         f1       ARI       ACC       NMI  cover_rate  classes  \\\n",
       "0  0.686376  0.368402  0.696629  0.416077         1.0      3.0   \n",
       "\n",
       "                      Algo dataset  \n",
       "0  AgglomerativeClustering    wine  "
      ]
     },
     "execution_count": 31,
     "metadata": {},
     "output_type": "execute_result"
    }
   ],
   "source": [
    "# Create an instance of the Agglomerative Clustering algorithm\n",
    "agg_clustering = AgglomerativeClustering(n_clusters=3)\n",
    "\n",
    "# Apply the Agglomerative Clustering algorithm to predict the clusters in the data\n",
    "Y_wine_pred_agg = agg_clustering.fit_predict(X_wine)\n",
    "\n",
    "# Calculate various clustering metrics to evaluate the performance\n",
    "perf_metrics_agg_wine = measures_calculator(Y_wine_pred_agg, Y_wine_true)\n",
    "\n",
    "# Store additional information about the algorithm and dataset in the result\n",
    "perf_metrics_agg_wine[\"Algo\"] = agg_clustering.__class__.__name__\n",
    "perf_metrics_agg_wine[\"dataset\"] = \"wine\"\n",
    "\n",
    "perf_metrics_agg_wine"
   ]
  },
  {
   "cell_type": "markdown",
   "id": "c54b1bd7-9ea9-48c6-956f-9c391ed3ccc5",
   "metadata": {},
   "source": [
    "### <span style=\"color:red\">Gaussian Mixture Models (GMM)</span> <a class=\"anchor\"></a>"
   ]
  },
  {
   "cell_type": "code",
   "execution_count": 32,
   "id": "623f837a-a120-4230-9e6a-c929cd3fcf39",
   "metadata": {},
   "outputs": [],
   "source": [
    "from sklearn.mixture import GaussianMixture"
   ]
  },
  {
   "cell_type": "code",
   "execution_count": 33,
   "id": "752a7082-ed12-4f57-934d-3a4d573690e8",
   "metadata": {},
   "outputs": [
    {
     "data": {
      "text/html": [
       "<div>\n",
       "<style scoped>\n",
       "    .dataframe tbody tr th:only-of-type {\n",
       "        vertical-align: middle;\n",
       "    }\n",
       "\n",
       "    .dataframe tbody tr th {\n",
       "        vertical-align: top;\n",
       "    }\n",
       "\n",
       "    .dataframe thead th {\n",
       "        text-align: right;\n",
       "    }\n",
       "</style>\n",
       "<table border=\"1\" class=\"dataframe\">\n",
       "  <thead>\n",
       "    <tr style=\"text-align: right;\">\n",
       "      <th></th>\n",
       "      <th>f1</th>\n",
       "      <th>ARI</th>\n",
       "      <th>ACC</th>\n",
       "      <th>NMI</th>\n",
       "      <th>cover_rate</th>\n",
       "      <th>classes</th>\n",
       "      <th>Algo</th>\n",
       "      <th>dataset</th>\n",
       "    </tr>\n",
       "  </thead>\n",
       "  <tbody>\n",
       "    <tr>\n",
       "      <th>0</th>\n",
       "      <td>0.848792</td>\n",
       "      <td>0.607484</td>\n",
       "      <td>0.848315</td>\n",
       "      <td>0.582343</td>\n",
       "      <td>1.0</td>\n",
       "      <td>3.0</td>\n",
       "      <td>GaussianMixture</td>\n",
       "      <td>wine</td>\n",
       "    </tr>\n",
       "  </tbody>\n",
       "</table>\n",
       "</div>"
      ],
      "text/plain": [
       "         f1       ARI       ACC       NMI  cover_rate  classes  \\\n",
       "0  0.848792  0.607484  0.848315  0.582343         1.0      3.0   \n",
       "\n",
       "              Algo dataset  \n",
       "0  GaussianMixture    wine  "
      ]
     },
     "execution_count": 33,
     "metadata": {},
     "output_type": "execute_result"
    }
   ],
   "source": [
    "# Create an instance of the Gaussian Mixture Models algorithm\n",
    "gmm = GaussianMixture(n_components=3, random_state=0)\n",
    "\n",
    "# Fit the Gaussian Mixture Models algorithm to the data and predict the clusters\n",
    "gmm.fit(X_wine)\n",
    "Y_wine_pred_gmm = gmm.predict(X_wine)\n",
    "\n",
    "# Calculate various clustering metrics to evaluate the performance\n",
    "perf_metrics_gmm_wine = measures_calculator(Y_wine_pred_gmm, Y_wine_true)\n",
    "\n",
    "# Store additional information about the algorithm and dataset in the result\n",
    "perf_metrics_gmm_wine[\"Algo\"] = gmm.__class__.__name__\n",
    "perf_metrics_gmm_wine[\"dataset\"] = \"wine\"\n",
    "\n",
    "perf_metrics_gmm_wine"
   ]
  },
  {
   "cell_type": "markdown",
   "id": "c380e73e-8b7f-43b5-86d6-74b1314a9770",
   "metadata": {},
   "source": [
    "### <span style=\"color:blue\">Benchmark Results</span> <a class=\"anchor\"></a>"
   ]
  },
  {
   "cell_type": "code",
   "execution_count": 34,
   "id": "91ecfd0a-ef8e-4caa-8b09-5860b2d37730",
   "metadata": {
    "scrolled": true
   },
   "outputs": [
    {
     "data": {
      "text/html": [
       "<div>\n",
       "<style scoped>\n",
       "    .dataframe tbody tr th:only-of-type {\n",
       "        vertical-align: middle;\n",
       "    }\n",
       "\n",
       "    .dataframe tbody tr th {\n",
       "        vertical-align: top;\n",
       "    }\n",
       "\n",
       "    .dataframe thead th {\n",
       "        text-align: right;\n",
       "    }\n",
       "</style>\n",
       "<table border=\"1\" class=\"dataframe\">\n",
       "  <thead>\n",
       "    <tr style=\"text-align: right;\">\n",
       "      <th></th>\n",
       "      <th>f1</th>\n",
       "      <th>ARI</th>\n",
       "      <th>ACC</th>\n",
       "      <th>NMI</th>\n",
       "      <th>cover_rate</th>\n",
       "      <th>classes</th>\n",
       "      <th>Algo</th>\n",
       "      <th>dataset</th>\n",
       "    </tr>\n",
       "  </thead>\n",
       "  <tbody>\n",
       "    <tr>\n",
       "      <th>0</th>\n",
       "      <td>0.900735</td>\n",
       "      <td>0.713308</td>\n",
       "      <td>0.898876</td>\n",
       "      <td>0.757020</td>\n",
       "      <td>1.0</td>\n",
       "      <td>3.0</td>\n",
       "      <td>GIT</td>\n",
       "      <td>wine</td>\n",
       "    </tr>\n",
       "    <tr>\n",
       "      <th>1</th>\n",
       "      <td>0.678477</td>\n",
       "      <td>0.290750</td>\n",
       "      <td>0.606742</td>\n",
       "      <td>0.402635</td>\n",
       "      <td>1.0</td>\n",
       "      <td>3.0</td>\n",
       "      <td>HDBSCAN</td>\n",
       "      <td>wine</td>\n",
       "    </tr>\n",
       "    <tr>\n",
       "      <th>2</th>\n",
       "      <td>0.466706</td>\n",
       "      <td>0.013460</td>\n",
       "      <td>0.432584</td>\n",
       "      <td>0.014041</td>\n",
       "      <td>1.0</td>\n",
       "      <td>3.0</td>\n",
       "      <td>SpectralClustering</td>\n",
       "      <td>wine</td>\n",
       "    </tr>\n",
       "    <tr>\n",
       "      <th>3</th>\n",
       "      <td>0.466706</td>\n",
       "      <td>0.013460</td>\n",
       "      <td>0.432584</td>\n",
       "      <td>0.014041</td>\n",
       "      <td>1.0</td>\n",
       "      <td>3.0</td>\n",
       "      <td>SpectralClustering</td>\n",
       "      <td>wine</td>\n",
       "    </tr>\n",
       "    <tr>\n",
       "      <th>4</th>\n",
       "      <td>0.689714</td>\n",
       "      <td>0.371114</td>\n",
       "      <td>0.702247</td>\n",
       "      <td>0.428757</td>\n",
       "      <td>1.0</td>\n",
       "      <td>3.0</td>\n",
       "      <td>KMeans</td>\n",
       "      <td>wine</td>\n",
       "    </tr>\n",
       "    <tr>\n",
       "      <th>5</th>\n",
       "      <td>0.570281</td>\n",
       "      <td>0.000000</td>\n",
       "      <td>0.398876</td>\n",
       "      <td>0.000000</td>\n",
       "      <td>1.0</td>\n",
       "      <td>3.0</td>\n",
       "      <td>DBSCAN</td>\n",
       "      <td>wine</td>\n",
       "    </tr>\n",
       "    <tr>\n",
       "      <th>6</th>\n",
       "      <td>0.686376</td>\n",
       "      <td>0.368402</td>\n",
       "      <td>0.696629</td>\n",
       "      <td>0.416077</td>\n",
       "      <td>1.0</td>\n",
       "      <td>3.0</td>\n",
       "      <td>AgglomerativeClustering</td>\n",
       "      <td>wine</td>\n",
       "    </tr>\n",
       "    <tr>\n",
       "      <th>7</th>\n",
       "      <td>0.848792</td>\n",
       "      <td>0.607484</td>\n",
       "      <td>0.848315</td>\n",
       "      <td>0.582343</td>\n",
       "      <td>1.0</td>\n",
       "      <td>3.0</td>\n",
       "      <td>GaussianMixture</td>\n",
       "      <td>wine</td>\n",
       "    </tr>\n",
       "  </tbody>\n",
       "</table>\n",
       "</div>"
      ],
      "text/plain": [
       "         f1       ARI       ACC       NMI  cover_rate  classes  \\\n",
       "0  0.900735  0.713308  0.898876  0.757020         1.0      3.0   \n",
       "1  0.678477  0.290750  0.606742  0.402635         1.0      3.0   \n",
       "2  0.466706  0.013460  0.432584  0.014041         1.0      3.0   \n",
       "3  0.466706  0.013460  0.432584  0.014041         1.0      3.0   \n",
       "4  0.689714  0.371114  0.702247  0.428757         1.0      3.0   \n",
       "5  0.570281  0.000000  0.398876  0.000000         1.0      3.0   \n",
       "6  0.686376  0.368402  0.696629  0.416077         1.0      3.0   \n",
       "7  0.848792  0.607484  0.848315  0.582343         1.0      3.0   \n",
       "\n",
       "                      Algo dataset  \n",
       "0                      GIT    wine  \n",
       "1                  HDBSCAN    wine  \n",
       "2       SpectralClustering    wine  \n",
       "3       SpectralClustering    wine  \n",
       "4                   KMeans    wine  \n",
       "5                   DBSCAN    wine  \n",
       "6  AgglomerativeClustering    wine  \n",
       "7          GaussianMixture    wine  "
      ]
     },
     "execution_count": 34,
     "metadata": {},
     "output_type": "execute_result"
    }
   ],
   "source": [
    "full_perf_metrics_wine = pd.concat([perf_metrics_git_wine, \n",
    "                                    perf_metrics_hdbscan_wine,\n",
    "                                    perf_metrics_speclustr_wine,\n",
    "                                    perf_metrics_speclustr_wine,\n",
    "                                    perf_metrics_kmeans_wine,\n",
    "                                    perf_metrics_dbscan_wine,\n",
    "                                    perf_metrics_agg_wine,\n",
    "                                    perf_metrics_gmm_wine], ignore_index=True)\n",
    "full_perf_metrics_wine"
   ]
  },
  {
   "cell_type": "markdown",
   "id": "98deb0fb-bd7c-40e8-a5bb-5b6167c28846",
   "metadata": {},
   "source": [
    "## Connect with me 🌐\n",
    "<div align=\"center\">\n",
    "  <a href=\"https://www.linkedin.com/in/labrijisaad/\">\n",
    "    <img src=\"https://img.shields.io/badge/LinkedIn-%230077B5.svg?&style=for-the-badge&logo=linkedin&logoColor=white\" alt=\"LinkedIn\" style=\"margin-bottom: 5px;\"/>\n",
    "  </a>\n",
    "  <a href=\"https://github.com/labrijisaad\">\n",
    "    <img src=\"https://img.shields.io/badge/GitHub-100000?style=for-the-badge&logo=github&logoColor=white\" alt=\"GitHub\" style=\"margin-bottom: 5px;\"/>\n",
    "  </a>\n",
    "</div>"
   ]
  }
 ],
 "metadata": {
  "kernelspec": {
   "display_name": "Python 3 (ipykernel)",
   "language": "python",
   "name": "python3"
  },
  "language_info": {
   "codemirror_mode": {
    "name": "ipython",
    "version": 3
   },
   "file_extension": ".py",
   "mimetype": "text/x-python",
   "name": "python",
   "nbconvert_exporter": "python",
   "pygments_lexer": "ipython3",
   "version": "3.11.5"
  }
 },
 "nbformat": 4,
 "nbformat_minor": 5
}
